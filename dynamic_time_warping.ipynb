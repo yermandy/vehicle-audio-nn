{
 "cells": [
  {
   "cell_type": "code",
   "execution_count": 1,
   "id": "f8c5668b",
   "metadata": {},
   "outputs": [],
   "source": [
    "%load_ext autoreload\n",
    "%autoreload 2"
   ]
  },
  {
   "cell_type": "code",
   "execution_count": 2,
   "id": "c429eb6b",
   "metadata": {},
   "outputs": [],
   "source": [
    "import numpy as np\n",
    "import matplotlib.pyplot as plt\n",
    "from ipywidgets import interact, FloatSlider\n",
    "import ipywidgets as widgets\n",
    "\n",
    "from utils import *"
   ]
  },
  {
   "cell_type": "code",
   "execution_count": 3,
   "id": "c3cebbcd",
   "metadata": {},
   "outputs": [],
   "source": [
    "events = [1.1, 5.2, 7.1, 12.1, 25]"
   ]
  },
  {
   "cell_type": "markdown",
   "id": "51ba3dc5",
   "metadata": {},
   "source": [
    "video of length 30s, hop length 0.5 and frame length 0.5"
   ]
  },
  {
   "cell_type": "code",
   "execution_count": 4,
   "id": "39a254a4",
   "metadata": {},
   "outputs": [],
   "source": [
    "n_hops = 60\n",
    "start_time = 0\n",
    "end_time = 30\n",
    "nn_hop_length_half = 0.25"
   ]
  },
  {
   "cell_type": "code",
   "execution_count": 5,
   "id": "7ce68714",
   "metadata": {},
   "outputs": [
    {
     "data": {
      "text/plain": [
       "array([ 0.25,  0.75,  1.25,  1.75,  2.25,  2.75,  3.25,  3.75,  4.25,\n",
       "        4.75,  5.25,  5.75,  6.25,  6.75,  7.25,  7.75,  8.25,  8.75,\n",
       "        9.25,  9.75, 10.25, 10.75, 11.25, 11.75, 12.25, 12.75, 13.25,\n",
       "       13.75, 14.25, 14.75, 15.25, 15.75, 16.25, 16.75, 17.25, 17.75,\n",
       "       18.25, 18.75, 19.25, 19.75, 20.25, 20.75, 21.25, 21.75, 22.25,\n",
       "       22.75, 23.25, 23.75, 24.25, 24.75, 25.25, 25.75, 26.25, 26.75,\n",
       "       27.25, 27.75, 28.25, 28.75, 29.25, 29.75])"
      ]
     },
     "execution_count": 5,
     "metadata": {},
     "output_type": "execute_result"
    }
   ],
   "source": [
    "time = np.linspace(start_time + nn_hop_length_half, end_time - nn_hop_length_half, n_hops)\n",
    "time"
   ]
  },
  {
   "cell_type": "code",
   "execution_count": 6,
   "id": "c975e88c",
   "metadata": {
    "scrolled": true
   },
   "outputs": [
    {
     "data": {
      "text/plain": [
       "array([0., 0., 1., 1., 1., 1., 1., 1., 1., 1., 2., 2., 2., 2., 3., 3., 3.,\n",
       "       3., 3., 3., 3., 3., 3., 3., 4., 4., 4., 4., 4., 4., 4., 4., 4., 4.,\n",
       "       4., 4., 4., 4., 4., 4., 4., 4., 4., 4., 4., 4., 4., 4., 4., 5., 5.,\n",
       "       5., 5., 5., 5., 5., 5., 5., 5., 5.])"
      ]
     },
     "execution_count": 6,
     "metadata": {},
     "output_type": "execute_result"
    }
   ],
   "source": [
    "cumstep = get_cumstep(time, events)\n",
    "cumstep"
   ]
  },
  {
   "cell_type": "code",
   "execution_count": 7,
   "id": "8879c11e",
   "metadata": {
    "scrolled": false
   },
   "outputs": [
    {
     "data": {
      "application/vnd.jupyter.widget-view+json": {
       "model_id": "ff2b6ac98e8f4d3c8023bc781c5cd5fb",
       "version_major": 2,
       "version_minor": 0
      },
      "text/plain": [
       "VBox(children=(FloatSlider(value=1.1, max=30.0, readout_format='.1f', step=0.05), FloatSlider(value=5.2, max=3…"
      ]
     },
     "metadata": {},
     "output_type": "display_data"
    },
    {
     "data": {
      "application/vnd.jupyter.widget-view+json": {
       "model_id": "ff9400176b0e45d084083ca099fe334e",
       "version_major": 2,
       "version_minor": 0
      },
      "text/plain": [
       "Output()"
      ]
     },
     "metadata": {},
     "output_type": "display_data"
    }
   ],
   "source": [
    "def create_slider(value=0.0):\n",
    "    slider = widgets.FloatSlider(\n",
    "        value=value,\n",
    "        min=start_time,\n",
    "        max=end_time,\n",
    "        step=0.05,\n",
    "        readout_format='.1f'\n",
    "    )\n",
    "    return slider\n",
    "\n",
    "def show(**kwargs):\n",
    "    plt.close('all')\n",
    "    \n",
    "    events = []\n",
    "    for i, slider in enumerate(sliders.children):\n",
    "        events.append(slider.value)\n",
    "        \n",
    "    cumstep = get_cumstep(time, events)\n",
    "        \n",
    "    fig, ax1 = plt.subplots(figsize=(15, 4))\n",
    "    ax2 = ax1.twinx()\n",
    "\n",
    "    for t in time:\n",
    "        ax2.vlines(t, 0, 1, color='k', linestyle='dotted', linewidth=1, alpha=0.5)\n",
    "    \n",
    "    ax1.step(time, cumstep, where='post');\n",
    "    print(cumstep)\n",
    "\n",
    "    for i, event in enumerate(events):\n",
    "        ax2.vlines(event, 0, 1, color='r', linestyle='dotted', linewidth=1, alpha=0.9)\n",
    "        \n",
    "    plt.show()\n",
    "\n",
    "sliders = widgets.VBox(\n",
    "    children=[create_slider(value=e) for e in events], \n",
    "    layout=widgets.Layout(flex_flow='row wrap'))\n",
    "\n",
    "out = widgets.interactive_output(show, {\n",
    "        f'{slider}': slider for slider in sliders.children\n",
    "    })\n",
    "\n",
    "display(sliders, out)"
   ]
  },
  {
   "cell_type": "code",
   "execution_count": 72,
   "id": "a84d1557",
   "metadata": {},
   "outputs": [
    {
     "data": {
      "image/png": "[encoded data removed]",
      "text/plain": [
       "<Figure size 1080x288 with 2 Axes>"
      ]
     },
     "metadata": {
      "needs_background": "light"
     },
     "output_type": "display_data"
    }
   ],
   "source": [
    "from scipy.stats import norm\n",
    "\n",
    "def gaussian(x, c=1):\n",
    "    pdf = norm.pdf(time, loc=x, scale=0.1)\n",
    "    return pdf / pdf.sum() * c\n",
    "\n",
    "y = gaussian(2.5) + gaussian(4.5) + gaussian(9) + gaussian(15) + gaussian(23)\n",
    "# y = gaussian(1.1) + gaussian(5.2) + gaussian(7.1) + gaussian(12.1) + gaussian(25)\n",
    "\n",
    "cumsum = np.cumsum(y)\n",
    "cumstep = get_cumstep(time, events)\n",
    "\n",
    "fig, ax1 = plt.subplots(figsize=(15, 4))\n",
    "ax2 = ax1.twinx()\n",
    "\n",
    "ax1.plot(time, cumsum);\n",
    "ax1.plot(time, y, color='green');\n",
    "ax1.step(time, cumstep, where='post');\n",
    "# ax1.plot(time, cumstep);\n",
    "\n",
    "for t in time:\n",
    "    ax2.vlines(t, 0, 1, color='k', linestyle='dotted', linewidth=1, alpha=0.5)\n",
    "    \n",
    "for i, event in enumerate(events):\n",
    "    ax2.vlines(event, 0, 1, color='r', linestyle='dotted', linewidth=1, alpha=0.9)\n",
    "\n",
    "plt.show()"
   ]
  },
  {
   "cell_type": "code",
   "execution_count": 73,
   "id": "98232df8",
   "metadata": {},
   "outputs": [
    {
     "data": {
      "text/plain": [
       "16.5"
      ]
     },
     "execution_count": 73,
     "metadata": {},
     "output_type": "execute_result"
    }
   ],
   "source": [
    "# obj\n",
    "np.abs(cumstep - cumsum).sum()"
   ]
  },
  {
   "cell_type": "code",
   "execution_count": 74,
   "id": "ad4e0692",
   "metadata": {},
   "outputs": [],
   "source": [
    "def discretize(time, events):\n",
    "    discrete_events = []\n",
    "\n",
    "    closest = lambda array, value: np.abs(array - value).argmin()\n",
    "\n",
    "    for e in events:\n",
    "        idx = closest(time, e)\n",
    "        discrete_events.append(idx)\n",
    "    discrete_events\n",
    "\n",
    "#     discrete_events = [0] + discrete_events\n",
    "    return discrete_events\n",
    "\n",
    "discrete_events = discretize(time, events)"
   ]
  },
  {
   "cell_type": "code",
   "execution_count": 75,
   "id": "35b8c7c2",
   "metadata": {},
   "outputs": [
    {
     "data": {
      "text/plain": [
       "[2, 10, 14, 24, 49]"
      ]
     },
     "execution_count": 75,
     "metadata": {},
     "output_type": "execute_result"
    }
   ],
   "source": [
    "discrete_events"
   ]
  },
  {
   "cell_type": "code",
   "execution_count": 76,
   "id": "2d03404f",
   "metadata": {},
   "outputs": [
    {
     "name": "stdout",
     "output_type": "stream",
     "text": [
      "2 10\n",
      "10 14\n",
      "14 24\n",
      "24 49\n"
     ]
    }
   ],
   "source": [
    "def pairs(array):\n",
    "\n",
    "    for i in range(len(array)):\n",
    "        if i < len(array) - 1:\n",
    "            yield array[i: i + 2]\n",
    "            \n",
    "for i, j in pairs(discrete_events):\n",
    "    print(i, j)"
   ]
  },
  {
   "cell_type": "code",
   "execution_count": 95,
   "id": "fb96e5af",
   "metadata": {},
   "outputs": [],
   "source": [
    "def dist(t_plus_delta_0, t_plus_delta_1, cumsum, c):\n",
    "    N = len(cumsum)\n",
    "    \n",
    "    if t_plus_delta_0 < 0 or t_plus_delta_0 > N:\n",
    "        return np.inf\n",
    "    \n",
    "    if t_plus_delta_1 < 0 or t_plus_delta_1 > N:\n",
    "        return np.inf\n",
    "\n",
    "    if t_plus_delta_1 - t_plus_delta_0 <= 0:\n",
    "        return np.inf\n",
    "\n",
    "    return np.abs(cumsum[t_plus_delta_0: t_plus_delta_1] - c).sum()"
   ]
  },
  {
   "cell_type": "code",
   "execution_count": 96,
   "id": "40021e25",
   "metadata": {},
   "outputs": [
    {
     "name": "stdout",
     "output_type": "stream",
     "text": [
      "4\n",
      "5\n",
      "[[ inf  1.   1.5  2.   2. ]\n",
      " [ inf  1.   1.5  1.5  2. ]\n",
      " [ inf  0.5  1.   1.5  2. ]\n",
      " [ inf  0.5  1.   1.5  2. ]\n",
      " [ inf  0.5  1.   1.5  2.5]\n",
      " [ inf  0.5  1.   1.5  3.5]\n",
      " [ 0.   1.   1.   1.5  4.5]\n",
      " [ 0.   2.   1.   1.5  5.5]\n",
      " [ 0.   3.   1.   1.5  6.5]\n",
      " [ 0.   4.   1.   1.5  7.5]\n",
      " [ 0.5  5.   1.   1.5  8.5]\n",
      " [ 1.5  6.   1.5  1.5  9.5]\n",
      " [ 2.5  7.   2.5  1.5 10.5]\n",
      " [ 3.5  8.   3.5  2.  11.5]\n",
      " [ 5.   9.   4.5  3.  12.5]]\n",
      "49\n",
      "60\n",
      "[[ inf  1.   1.5  2.   5.5]\n",
      " [ inf  1.   1.5  1.5  4.5]\n",
      " [ inf  0.5  1.   1.5  3.5]\n",
      " [ inf  0.5  1.   1.5  2.5]\n",
      " [ inf  0.5  1.   1.5  2.5]\n",
      " [ inf  0.5  1.   1.5  3.5]\n",
      " [ 0.   1.   1.   1.5  4.5]\n",
      " [ 0.   2.   1.   1.5  5.5]\n",
      " [ 0.   3.   1.   1.5  6.5]\n",
      " [ 0.   4.   1.   1.5  7.5]\n",
      " [ 0.5  5.   1.   1.5  8.5]\n",
      " [ 1.5  6.   1.5  1.5  9.5]\n",
      " [ 2.5  7.   2.5  1.5 10.5]\n",
      " [ 3.5  8.   3.5  2.  11.5]\n",
      " [ 5.   9.   4.5  3.  12.5]]\n"
     ]
    }
   ],
   "source": [
    "N = 7\n",
    "deltas = np.arange(-N, N + 1)\n",
    "\n",
    "distances = np.zeros((len(deltas), len(discrete_events)))\n",
    "backtracking = np.zeros_like(distances)\n",
    "\n",
    "t_1 = discrete_events[0]\n",
    "t_n = discrete_events[-1]\n",
    "end = len(cumsum)\n",
    "\n",
    "for i, delta_1 in enumerate(deltas):\n",
    "    t_plus_delta_1 = t_1 + delta_1\n",
    "    d = dist(0, t_plus_delta_1, cumsum, 0)\n",
    "    distances[i, 0] = d\n",
    "#     print(f'{delta_1}: {d:.8f}')\n",
    "    \n",
    "# print(distances)\n",
    "# backtracking[:, 0] = distances[:, 0].argmin()\n",
    "backtracking[:, 0] = np.arange(len(backtracking))\n",
    "# print(backtracking)\n",
    "\n",
    "for c, (t_0, t_1) in enumerate(pairs(discrete_events)):\n",
    "    for j, delta_1 in enumerate(deltas):\n",
    "        min_d = np.inf\n",
    "        \n",
    "        for i, delta_0 in enumerate(deltas):\n",
    "            t_plus_delta_0 = t_0 + delta_0\n",
    "            t_plus_delta_1 = t_1 + delta_1\n",
    "            \n",
    "            d = dist(t_plus_delta_0, t_plus_delta_1, cumsum, c + 1)\n",
    "            \n",
    "            prev_d = distances[i, c]\n",
    "            next_d = d + prev_d\n",
    "            \n",
    "            if next_d < min_d:\n",
    "                min_d = next_d\n",
    "                backtracking[j, c + 1] = i\n",
    "                distances[j, c + 1] = next_d\n",
    "\n",
    "print(c + 1)\n",
    "last = c + 2\n",
    "print(last)\n",
    "\n",
    "print(distances)\n",
    "print(t_n)\n",
    "print(end)\n",
    "for i, delta_0 in enumerate(deltas):\n",
    "    t_plus_delta_0 = t_n + delta_0\n",
    "    prev_d = distances[i, -1]\n",
    "#     print(t_plus_delta_0)\n",
    "#     t_plus_delta_0 = prev_d + delta_0\n",
    "    d = dist(t_plus_delta_0, end, cumsum, last)\n",
    "#     print(d)\n",
    "#     print(prev_d)\n",
    "#     print(i)\n",
    "#     print(prev_d + d )\n",
    "#     print()\n",
    "    distances[i, -1] = prev_d + d \n",
    "#     print(f'{delta_1}: {d:.8f}')\n",
    "    \n",
    "print(distances)\n",
    "\n",
    "backtrack_from = np.argmin(distances[:, -1])"
   ]
  },
  {
   "cell_type": "code",
   "execution_count": 88,
   "id": "9ae1dc1a",
   "metadata": {},
   "outputs": [
    {
     "data": {
      "text/plain": [
       "16.5"
      ]
     },
     "execution_count": 88,
     "metadata": {},
     "output_type": "execute_result"
    }
   ],
   "source": [
    "d_sum = dist(0, discrete_events[0], cumsum, 0)\n",
    "\n",
    "for c, (i, j) in enumerate(pairs(discrete_events)):\n",
    "    d = dist(i, j, cumsum, c + 1)\n",
    "    d_sum += d\n",
    "\n",
    "d_sum += dist(discrete_events[-1], len(cumsum), cumsum, c + 2)\n",
    "d_sum"
   ]
  },
  {
   "cell_type": "code",
   "execution_count": 89,
   "id": "c7579c4e",
   "metadata": {},
   "outputs": [
    {
     "data": {
      "text/plain": [
       "array([[ inf,  1. ,  1.5,  2. ,  5.5],\n",
       "       [ inf,  1. ,  1.5,  1.5,  4.5],\n",
       "       [ inf,  0.5,  1. ,  1.5,  3.5],\n",
       "       [ inf,  0.5,  1. ,  1.5,  2.5],\n",
       "       [ inf,  0.5,  1. ,  1.5,  2.5],\n",
       "       [ inf,  0.5,  1. ,  1.5,  3.5],\n",
       "       [ 0. ,  1. ,  1. ,  1.5,  4.5],\n",
       "       [ 0. ,  2. ,  1. ,  1.5,  5.5],\n",
       "       [ 0. ,  3. ,  1. ,  1.5,  6.5],\n",
       "       [ 0. ,  4. ,  1. ,  1.5,  7.5],\n",
       "       [ 0.5,  5. ,  1. ,  1.5,  8.5],\n",
       "       [ 1.5,  6. ,  1.5,  1.5,  9.5],\n",
       "       [ 2.5,  7. ,  2.5,  1.5, 10.5],\n",
       "       [ 3.5,  8. ,  3.5,  2. , 11.5],\n",
       "       [ 5. ,  9. ,  4.5,  3. , 12.5]])"
      ]
     },
     "execution_count": 89,
     "metadata": {},
     "output_type": "execute_result"
    }
   ],
   "source": [
    "np.set_printoptions(precision=4, suppress=True)\n",
    "distances"
   ]
  },
  {
   "cell_type": "code",
   "execution_count": 90,
   "id": "9aeeb383",
   "metadata": {},
   "outputs": [
    {
     "data": {
      "text/plain": [
       "array([[ 0.,  7.,  3.,  9., 12.],\n",
       "       [ 1.,  8.,  4., 10., 12.],\n",
       "       [ 2.,  9.,  5., 10., 12.],\n",
       "       [ 3., 10.,  6., 10., 12.],\n",
       "       [ 4., 10.,  6., 10., 12.],\n",
       "       [ 5., 10.,  6., 10., 12.],\n",
       "       [ 6., 10.,  6., 10., 12.],\n",
       "       [ 7.,  9.,  6., 10., 12.],\n",
       "       [ 8.,  9.,  6., 10., 12.],\n",
       "       [ 9.,  9.,  6., 10., 12.],\n",
       "       [10.,  9.,  6., 10., 12.],\n",
       "       [11.,  9.,  6., 10., 12.],\n",
       "       [12.,  9.,  5., 10., 12.],\n",
       "       [13.,  9.,  5., 10., 12.],\n",
       "       [14.,  9.,  6., 10., 12.]])"
      ]
     },
     "execution_count": 90,
     "metadata": {},
     "output_type": "execute_result"
    }
   ],
   "source": [
    "backtracking"
   ]
  },
  {
   "cell_type": "code",
   "execution_count": 91,
   "id": "240f55c1",
   "metadata": {},
   "outputs": [
    {
     "data": {
      "text/plain": [
       "[10, 10, 6, 10, 3]"
      ]
     },
     "execution_count": 91,
     "metadata": {},
     "output_type": "execute_result"
    }
   ],
   "source": [
    "selected = np.argmin(distances[:, -1])\n",
    "\n",
    "backtracked = [selected]\n",
    "for i in reversed(range(backtracking.shape[1] - 1)):\n",
    "    selected = backtracking[selected, i]\n",
    "    selected = int(selected)\n",
    "    backtracked.append(selected)\n",
    "    \n",
    "backtracked = backtracked[::-1]\n",
    "backtracked"
   ]
  },
  {
   "cell_type": "code",
   "execution_count": 92,
   "id": "c3d7f4f8",
   "metadata": {},
   "outputs": [
    {
     "data": {
      "text/plain": [
       "array([0., 0., 0., 0., 0., 1., 1., 1., 1., 1., 1., 1., 1., 3., 3., 3., 3.,\n",
       "       3., 3., 3., 3., 3., 3., 3., 3., 3., 3., 4., 4., 4., 4., 4., 4., 4.,\n",
       "       4., 4., 4., 4., 4., 4., 4., 4., 4., 4., 4., 5., 5., 5., 5., 5., 5.,\n",
       "       5., 5., 5., 5., 5., 5., 5., 5., 5.])"
      ]
     },
     "execution_count": 92,
     "metadata": {},
     "output_type": "execute_result"
    }
   ],
   "source": [
    "new_discrete_events = []\n",
    "\n",
    "for delta_index, discrete_event in zip(backtracked, discrete_events):\n",
    "    new_discrete_event = deltas[delta_index] + discrete_event\n",
    "    new_discrete_events.append(new_discrete_event)\n",
    "\n",
    "# new_discrete_events = np.array(new_discrete_events)\n",
    "\n",
    "new_cumstep = np.zeros_like(time)\n",
    "for idx in new_discrete_events:\n",
    "    new_cumstep[idx] += 1\n",
    "\n",
    "new_cumstep = np.cumsum(new_cumstep)\n",
    "new_cumstep"
   ]
  },
  {
   "cell_type": "code",
   "execution_count": 93,
   "id": "ae04d6b3",
   "metadata": {},
   "outputs": [
    {
     "data": {
      "text/plain": [
       "[1.1, 5.2, 7.1, 12.1, 25]"
      ]
     },
     "execution_count": 93,
     "metadata": {},
     "output_type": "execute_result"
    }
   ],
   "source": [
    "events"
   ]
  },
  {
   "cell_type": "code",
   "execution_count": 94,
   "id": "e9d06310",
   "metadata": {},
   "outputs": [
    {
     "data": {
      "image/png": "[encoded data removed]",
      "text/plain": [
       "<Figure size 1080x288 with 2 Axes>"
      ]
     },
     "metadata": {
      "needs_background": "light"
     },
     "output_type": "display_data"
    }
   ],
   "source": [
    "fig, ax1 = plt.subplots(figsize=(15, 4))\n",
    "ax2 = ax1.twinx()\n",
    "\n",
    "ax1.plot(time, cumsum);\n",
    "ax1.plot(time, y, color='green');\n",
    "ax1.step(time, cumstep, where='post');\n",
    "ax1.step(time, new_cumstep, where='post', linestyle='--', color='magenta');\n",
    "\n",
    "for t in time:\n",
    "    ax2.vlines(t, 0, 1, color='k', linestyle='dotted', linewidth=1, alpha=0.5)\n",
    "    \n",
    "for i, event in enumerate(events):\n",
    "    ax2.vlines(event, 0, 1, color='r', linestyle='dotted', linewidth=1, alpha=0.9)\n",
    "\n",
    "plt.show()"
   ]
  },
  {
   "cell_type": "code",
   "execution_count": 86,
   "id": "18c24d58",
   "metadata": {},
   "outputs": [
    {
     "data": {
      "text/plain": [
       "12.500000000027775"
      ]
     },
     "execution_count": 86,
     "metadata": {},
     "output_type": "execute_result"
    }
   ],
   "source": [
    "np.abs(new_cumstep - cumsum).sum()"
   ]
  },
  {
   "cell_type": "code",
   "execution_count": 18,
   "id": "9ee3e8db",
   "metadata": {},
   "outputs": [
    {
     "data": {
      "text/plain": [
       "array([[1., 3., 0., 2., 0.],\n",
       "       [1., 1., 3., 4., 0.],\n",
       "       [1., 1., 3., 0., 1.],\n",
       "       [1., 1., 3., 2., 0.],\n",
       "       [1., 1., 3., 0., 0.]])"
      ]
     },
     "execution_count": 18,
     "metadata": {},
     "output_type": "execute_result"
    }
   ],
   "source": [
    "backtracking"
   ]
  },
  {
   "cell_type": "code",
   "execution_count": 29,
   "id": "9d42ce4c",
   "metadata": {},
   "outputs": [
    {
     "data": {
      "text/plain": [
       "array([[     inf,   2.6673,   8.    ,  29.5   , 179.5   ],\n",
       "       [  0.    ,   4.1673,  10.    ,  32.5   , 179.5   ],\n",
       "       [  0.0009,   6.0193,  12.    ,  35.5   , 179.5   ],\n",
       "       [  0.0193,   8.0009,  14.0009,  38.5   , 179.5   ],\n",
       "       [  0.1673,  10.    ,  16.0193,  41.5   , 179.5   ]])"
      ]
     },
     "execution_count": 29,
     "metadata": {},
     "output_type": "execute_result"
    }
   ],
   "source": [
    "np.set_printoptions(precision=4, suppress=True)\n",
    "distances"
   ]
  },
  {
   "cell_type": "code",
   "execution_count": 20,
   "id": "20ff2f1f",
   "metadata": {},
   "outputs": [],
   "source": [
    "# np.set_printoptions(formatter={'float': '{:0.4f}'.format})"
   ]
  },
  {
   "cell_type": "code",
   "execution_count": null,
   "id": "8f00a84f",
   "metadata": {},
   "outputs": [],
   "source": []
  },
  {
   "cell_type": "code",
   "execution_count": null,
   "id": "66ad37ad",
   "metadata": {},
   "outputs": [],
   "source": []
  },
  {
   "cell_type": "code",
   "execution_count": null,
   "id": "5bd2becc",
   "metadata": {},
   "outputs": [],
   "source": []
  },
  {
   "cell_type": "code",
   "execution_count": 100,
   "id": "ee2d5499",
   "metadata": {},
   "outputs": [],
   "source": [
    "from scipy.spatial.distance import euclidean, cityblock\n",
    "from fastdtw import fastdtw"
   ]
  },
  {
   "cell_type": "code",
   "execution_count": 101,
   "id": "378ea862",
   "metadata": {},
   "outputs": [
    {
     "data": {
      "text/plain": [
       "array([0., 0., 1., 1., 1., 1., 1., 1., 1., 1., 2., 2., 2., 2., 3., 3., 3.,\n",
       "       3., 3., 3., 3., 3., 3., 3., 4., 4., 4., 4., 4., 4., 4., 4., 4., 4.,\n",
       "       4., 4., 4., 4., 4., 4., 4., 4., 4., 4., 4., 4., 4., 4., 4., 5., 5.,\n",
       "       5., 5., 5., 5., 5., 5., 5., 5., 5.])"
      ]
     },
     "execution_count": 101,
     "metadata": {},
     "output_type": "execute_result"
    }
   ],
   "source": [
    "cumstep"
   ]
  },
  {
   "cell_type": "code",
   "execution_count": 102,
   "id": "b034dbf1",
   "metadata": {},
   "outputs": [
    {
     "data": {
      "text/plain": [
       "array([0. , 0. , 0. , 0. , 0.5, 1. , 1. , 1. , 1.5, 2. , 2. , 2. , 2. ,\n",
       "       2. , 2. , 2. , 2. , 2.5, 3. , 3. , 3. , 3. , 3. , 3. , 3. , 3. ,\n",
       "       3. , 3. , 3. , 3.5, 4. , 4. , 4. , 4. , 4. , 4. , 4. , 4. , 4. ,\n",
       "       4. , 4. , 4. , 4. , 4. , 4. , 4.5, 5. , 5. , 5. , 5. , 5. , 5. ,\n",
       "       5. , 5. , 5. , 5. , 5. , 5. , 5. , 5. ])"
      ]
     },
     "execution_count": 102,
     "metadata": {},
     "output_type": "execute_result"
    }
   ],
   "source": [
    "cumsum"
   ]
  },
  {
   "cell_type": "code",
   "execution_count": 107,
   "id": "09fddcc4",
   "metadata": {},
   "outputs": [],
   "source": [
    "distance, warp_path = fastdtw(cumsum, cumstep, dist=euclidean)\n",
    "warp_path = np.array(warp_path)"
   ]
  },
  {
   "cell_type": "code",
   "execution_count": 108,
   "id": "79db4e04",
   "metadata": {},
   "outputs": [
    {
     "data": {
      "image/png": "[encoded data removed]",
      "text/plain": [
       "<Figure size 1080x288 with 1 Axes>"
      ]
     },
     "metadata": {
      "needs_background": "light"
     },
     "output_type": "display_data"
    }
   ],
   "source": [
    "fig, ax = plt.subplots(figsize=(15, 4))\n",
    "\n",
    "fig.patch.set_visible(False)\n",
    "ax.axis('off')\n",
    "\n",
    "for [map_x, map_y] in warp_path:\n",
    "    ax.plot([map_x, map_y], [cumsum[map_x], cumstep[map_y]], '-k')\n",
    "    \n",
    "ax.plot(cumsum, marker='o', markersize=4, linewidth=1)\n",
    "ax.step(range(len(cumstep)), cumstep, marker='o', markersize=4, linewidth=1);"
   ]
  },
  {
   "cell_type": "code",
   "execution_count": 109,
   "id": "fd1f9413",
   "metadata": {},
   "outputs": [
    {
     "data": {
      "text/plain": [
       "array([[ 0,  0],\n",
       "       [ 0,  1],\n",
       "       [ 1,  1],\n",
       "       [ 2,  1],\n",
       "       [ 3,  1],\n",
       "       [ 4,  1],\n",
       "       [ 5,  2],\n",
       "       [ 6,  2],\n",
       "       [ 6,  3],\n",
       "       [ 6,  4],\n",
       "       [ 6,  5],\n",
       "       [ 6,  6],\n",
       "       [ 6,  7],\n",
       "       [ 6,  8],\n",
       "       [ 6,  9],\n",
       "       [ 7,  9],\n",
       "       [ 8, 10],\n",
       "       [ 9, 11],\n",
       "       [10, 11],\n",
       "       [10, 12],\n",
       "       [10, 13],\n",
       "       [11, 13],\n",
       "       [12, 13],\n",
       "       [13, 13],\n",
       "       [14, 13],\n",
       "       [15, 13],\n",
       "       [16, 13],\n",
       "       [17, 14],\n",
       "       [18, 15],\n",
       "       [19, 15],\n",
       "       [19, 16],\n",
       "       [19, 17],\n",
       "       [19, 18],\n",
       "       [19, 19],\n",
       "       [19, 20],\n",
       "       [19, 21],\n",
       "       [19, 22],\n",
       "       [19, 23],\n",
       "       [20, 23],\n",
       "       [21, 23],\n",
       "       [22, 23],\n",
       "       [23, 23],\n",
       "       [24, 23],\n",
       "       [25, 23],\n",
       "       [26, 23],\n",
       "       [27, 23],\n",
       "       [28, 23],\n",
       "       [29, 24],\n",
       "       [30, 25],\n",
       "       [31, 25],\n",
       "       [31, 26],\n",
       "       [31, 27],\n",
       "       [31, 28],\n",
       "       [31, 29],\n",
       "       [31, 30],\n",
       "       [31, 31],\n",
       "       [31, 32],\n",
       "       [31, 33],\n",
       "       [31, 34],\n",
       "       [31, 35],\n",
       "       [31, 36],\n",
       "       [31, 37],\n",
       "       [31, 38],\n",
       "       [31, 39],\n",
       "       [31, 40],\n",
       "       [31, 41],\n",
       "       [31, 42],\n",
       "       [31, 43],\n",
       "       [31, 44],\n",
       "       [31, 45],\n",
       "       [31, 46],\n",
       "       [31, 47],\n",
       "       [31, 48],\n",
       "       [32, 48],\n",
       "       [33, 48],\n",
       "       [34, 48],\n",
       "       [35, 48],\n",
       "       [36, 48],\n",
       "       [37, 48],\n",
       "       [38, 48],\n",
       "       [39, 48],\n",
       "       [40, 48],\n",
       "       [41, 48],\n",
       "       [42, 48],\n",
       "       [43, 48],\n",
       "       [44, 48],\n",
       "       [45, 49],\n",
       "       [46, 50],\n",
       "       [47, 50],\n",
       "       [47, 51],\n",
       "       [47, 52],\n",
       "       [47, 53],\n",
       "       [47, 54],\n",
       "       [47, 55],\n",
       "       [47, 56],\n",
       "       [47, 57],\n",
       "       [47, 58],\n",
       "       [47, 59],\n",
       "       [48, 59],\n",
       "       [49, 59],\n",
       "       [50, 59],\n",
       "       [51, 59],\n",
       "       [52, 59],\n",
       "       [53, 59],\n",
       "       [54, 59],\n",
       "       [55, 59],\n",
       "       [56, 59],\n",
       "       [57, 59],\n",
       "       [58, 59],\n",
       "       [59, 59]])"
      ]
     },
     "execution_count": 109,
     "metadata": {},
     "output_type": "execute_result"
    }
   ],
   "source": [
    "warp_path"
   ]
  },
  {
   "cell_type": "code",
   "execution_count": null,
   "id": "28eb0149",
   "metadata": {},
   "outputs": [],
   "source": []
  }
 ],
 "metadata": {
  "kernelspec": {
   "display_name": "Python 3 (ipykernel)",
   "language": "python",
   "name": "python3"
  },
  "language_info": {
   "codemirror_mode": {
    "name": "ipython",
    "version": 3
   },
   "file_extension": ".py",
   "mimetype": "text/x-python",
   "name": "python",
   "nbconvert_exporter": "python",
   "pygments_lexer": "ipython3",
   "version": "3.9.0"
  }
 },
 "nbformat": 4,
 "nbformat_minor": 5
}

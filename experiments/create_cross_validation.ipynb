{
 "cells": [
  {
   "cell_type": "code",
   "execution_count": 1,
   "metadata": {},
   "outputs": [],
   "source": [
    "%load_ext autoreload\n",
    "%autoreload 2"
   ]
  },
  {
   "cell_type": "code",
   "execution_count": 2,
   "metadata": {},
   "outputs": [],
   "source": [
    "import pyrootutils.root"
   ]
  },
  {
   "cell_type": "code",
   "execution_count": 3,
   "metadata": {},
   "outputs": [],
   "source": [
    "from sklearn.model_selection import KFold\n",
    "import numpy as np\n",
    "import yaml\n",
    "import os"
   ]
  },
  {
   "cell_type": "code",
   "execution_count": 4,
   "metadata": {},
   "outputs": [],
   "source": [
    "dataset_name = '012_small_eyedea_cvut'\n",
    "n_splits = 1\n",
    "seed_cross_validation = 42\n",
    "seed_permutation = 48\n",
    "\n",
    "os.makedirs(f'config/training_files/{dataset_name}')\n",
    "os.makedirs(f'config/validation_files/{dataset_name}')\n",
    "os.makedirs(f'config/testing_files/{dataset_name}')"
   ]
  },
  {
   "cell_type": "code",
   "execution_count": 5,
   "metadata": {},
   "outputs": [
    {
     "name": "stdout",
     "output_type": "stream",
     "text": [
      "3 1 1\n",
      "----------\n",
      "3 1 2\n"
     ]
    }
   ],
   "source": [
    "dataset = f'config/dataset/{dataset_name}.yaml'\n",
    "\n",
    "with open(dataset, 'r') as stream:\n",
    "    files = yaml.safe_load(stream)\n",
    "\n",
    "# files = [f'- {f}' for f in files]\n",
    "# files = np.array(files)\n",
    "indices = np.arange(len(files))\n",
    "\n",
    "if n_splits == 1:\n",
    "    np.random.shuffle(indices)\n",
    "    trn_len = int(len(indices) * 0.8)\n",
    "    folds = [[indices[:trn_len], indices[trn_len:]]]\n",
    "else:\n",
    "    folds = KFold(n_splits=n_splits, random_state=seed_cross_validation, shuffle=True).split(indices)\n",
    "\n",
    "print(int(len(indices) * 0.6), int(len(indices) * 0.2), int(len(indices) * 0.2))\n",
    "print('-' * 10)\n",
    "\n",
    "np.random.seed(seed_permutation)\n",
    "\n",
    "for i, (trn_indices, tst_indices) in enumerate(folds):\n",
    "    trn_indices = np.random.permutation(trn_indices)\n",
    "\n",
    "    p = int(len(trn_indices) * 0.75)\n",
    "    trn_indices, val_indices = trn_indices[:p], trn_indices[p:]\n",
    "    \n",
    "    trn_indices = sorted(trn_indices)\n",
    "    val_indices = sorted(val_indices)\n",
    "    tst_indices = sorted(tst_indices)\n",
    "    \n",
    "    print(len(trn_indices), len(val_indices), len(tst_indices))\n",
    "\n",
    "    with open(f'config/training_files/{dataset_name}/{i}.yaml', 'w') as yaml_file:\n",
    "        trn_files = [files[i] for i in trn_indices]\n",
    "        yaml.dump(trn_files, yaml_file, default_flow_style=None)\n",
    "\n",
    "    with open(f'config/validation_files/{dataset_name}/{i}.yaml', 'w') as yaml_file:\n",
    "        val_files = [files[i] for i in val_indices]\n",
    "        yaml.dump(val_files, yaml_file, default_flow_style=None)\n",
    "\n",
    "    with open(f'config/testing_files/{dataset_name}/{i}.yaml', 'w') as yaml_file:\n",
    "        tst_files = [files[i] for i in tst_indices]\n",
    "        yaml.dump(tst_files, yaml_file, default_flow_style=None)"
   ]
  },
  {
   "cell_type": "markdown",
   "metadata": {},
   "source": [
    "Create training and validation sets for structured prediction"
   ]
  },
  {
   "cell_type": "code",
   "execution_count": 6,
   "metadata": {},
   "outputs": [],
   "source": [
    "dataset_name = '004_eyedea_all_aligned_RX100'"
   ]
  },
  {
   "cell_type": "code",
   "execution_count": 7,
   "metadata": {},
   "outputs": [
    {
     "data": {
      "text/plain": [
       "'004_eyedea_all_aligned_RX100'"
      ]
     },
     "execution_count": 7,
     "metadata": {},
     "output_type": "execute_result"
    }
   ],
   "source": [
    "dataset_name"
   ]
  },
  {
   "cell_type": "code",
   "execution_count": 4,
   "metadata": {},
   "outputs": [],
   "source": [
    "from src import *"
   ]
  },
  {
   "cell_type": "code",
   "execution_count": 22,
   "metadata": {},
   "outputs": [
    {
     "data": {
      "text/html": [
       "<pre style=\"white-space:pre;overflow-x:auto;line-height:normal;font-family:Menlo,'DejaVu Sans Mono',consolas,'Courier New',monospace\"><span style=\"color: #008080; text-decoration-color: #008080; font-weight: bold\">0</span>\n",
       "</pre>\n"
      ],
      "text/plain": [
       "\u001b[1;36m0\u001b[0m\n"
      ]
     },
     "metadata": {},
     "output_type": "display_data"
    },
    {
     "data": {
      "text/html": [
       "<pre style=\"white-space:pre;overflow-x:auto;line-height:normal;font-family:Menlo,'DejaVu Sans Mono',consolas,'Courier New',monospace\"><span style=\"color: #008080; text-decoration-color: #008080; font-weight: bold\">1</span>\n",
       "</pre>\n"
      ],
      "text/plain": [
       "\u001b[1;36m1\u001b[0m\n"
      ]
     },
     "metadata": {},
     "output_type": "display_data"
    },
    {
     "data": {
      "text/html": [
       "<pre style=\"white-space:pre;overflow-x:auto;line-height:normal;font-family:Menlo,'DejaVu Sans Mono',consolas,'Courier New',monospace\"><span style=\"color: #008080; text-decoration-color: #008080; font-weight: bold\">2</span>\n",
       "</pre>\n"
      ],
      "text/plain": [
       "\u001b[1;36m2\u001b[0m\n"
      ]
     },
     "metadata": {},
     "output_type": "display_data"
    },
    {
     "data": {
      "text/html": [
       "<pre style=\"white-space:pre;overflow-x:auto;line-height:normal;font-family:Menlo,'DejaVu Sans Mono',consolas,'Courier New',monospace\"><span style=\"color: #008080; text-decoration-color: #008080; font-weight: bold\">3</span>\n",
       "</pre>\n"
      ],
      "text/plain": [
       "\u001b[1;36m3\u001b[0m\n"
      ]
     },
     "metadata": {},
     "output_type": "display_data"
    },
    {
     "data": {
      "text/html": [
       "<pre style=\"white-space:pre;overflow-x:auto;line-height:normal;font-family:Menlo,'DejaVu Sans Mono',consolas,'Courier New',monospace\"><span style=\"color: #008080; text-decoration-color: #008080; font-weight: bold\">4</span>\n",
       "</pre>\n"
      ],
      "text/plain": [
       "\u001b[1;36m4\u001b[0m\n"
      ]
     },
     "metadata": {},
     "output_type": "display_data"
    }
   ],
   "source": [
    "trn_to_val_ratio = 0.6\n",
    "\n",
    "os.makedirs(f'config/structured_predictor/training_files/{dataset_name}/', exist_ok=True)\n",
    "os.makedirs(f'config/structured_predictor/validation_files/{dataset_name}/', exist_ok=True)\n",
    "os.makedirs(f'config/structured_predictor/testing_files/{dataset_name}/', exist_ok=True)\n",
    "\n",
    "make_yaml_list = lambda x: [f'- {f}' for f in x]\n",
    "\n",
    "for i in range(5):\n",
    "    print(i)\n",
    "    training_files = load_yaml(f'config/training_files/{dataset_name}/{i}.yaml')\n",
    "    validation_files = load_yaml(f'config/validation_files/{dataset_name}/{i}.yaml')\n",
    "    testing_files = load_yaml(f'config/testing_files/{dataset_name}/{i}.yaml')\n",
    "    \n",
    "    all_files = training_files + validation_files\n",
    "    np.random.shuffle(all_files)\n",
    "    p = int(len(all_files) * trn_to_val_ratio)\n",
    "    training_files, validation_files = all_files[:p], all_files[p:]\n",
    "    training_files = sorted(training_files)\n",
    "    validation_files = sorted(validation_files)\n",
    "    \n",
    "    np.savetxt(f'config/structured_predictor/training_files/{dataset_name}/{i}.yaml', make_yaml_list(training_files), fmt='%s')\n",
    "    np.savetxt(f'config/structured_predictor/validation_files/{dataset_name}/{i}.yaml', make_yaml_list(validation_files), fmt='%s')\n",
    "    np.savetxt(f'config/structured_predictor/testing_files/{dataset_name}/{i}.yaml', make_yaml_list(testing_files), fmt='%s')\n"
   ]
  },
  {
   "cell_type": "code",
   "execution_count": null,
   "metadata": {},
   "outputs": [],
   "source": []
  }
 ],
 "metadata": {
  "interpreter": {
   "hash": "5c5367881cd1cf07ff91f385af2760a91324c2d338b276ec1210beedc2863863"
  },
  "kernelspec": {
   "display_name": "Python 3.9.0 ('dev')",
   "language": "python",
   "name": "python3"
  },
  "language_info": {
   "codemirror_mode": {
    "name": "ipython",
    "version": 3
   },
   "file_extension": ".py",
   "mimetype": "text/x-python",
   "name": "python",
   "nbconvert_exporter": "python",
   "pygments_lexer": "ipython3",
   "version": "3.9.0"
  },
  "orig_nbformat": 4
 },
 "nbformat": 4,
 "nbformat_minor": 2
}

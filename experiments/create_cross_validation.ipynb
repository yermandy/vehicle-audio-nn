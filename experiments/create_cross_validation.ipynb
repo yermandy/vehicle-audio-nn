{
 "cells": [
  {
   "cell_type": "code",
   "execution_count": 1,
   "metadata": {},
   "outputs": [],
   "source": [
    "%load_ext autoreload\n",
    "%autoreload 2"
   ]
  },
  {
   "cell_type": "code",
   "execution_count": 1,
   "metadata": {},
   "outputs": [
    {
     "data": {
      "text/plain": [
       "'/home/yermaand/audio-nn'"
      ]
     },
     "execution_count": 1,
     "metadata": {},
     "output_type": "execute_result"
    }
   ],
   "source": [
    "import os\n",
    "os.chdir('..')\n",
    "os.getcwd()"
   ]
  },
  {
   "cell_type": "code",
   "execution_count": 2,
   "metadata": {},
   "outputs": [],
   "source": [
    "from sklearn.model_selection import KFold\n",
    "import numpy as np\n",
    "import yaml"
   ]
  },
  {
   "cell_type": "code",
   "execution_count": 12,
   "metadata": {},
   "outputs": [],
   "source": [
    "folder = '25.03.2022'\n",
    "os.makedirs(f'config/training_files/{folder}')\n",
    "os.makedirs(f'config/validation_files/{folder}')\n",
    "os.makedirs(f'config/testing_files/{folder}')"
   ]
  },
  {
   "cell_type": "code",
   "execution_count": 13,
   "metadata": {},
   "outputs": [
    {
     "name": "stdout",
     "output_type": "stream",
     "text": [
      "10 6 2\n",
      "10 6 2\n",
      "10 6 2\n",
      "10 6 2\n",
      "10 6 2\n",
      "10 6 2\n",
      "10 6 2\n",
      "10 6 2\n",
      "10 6 2\n"
     ]
    }
   ],
   "source": [
    "dataset = 'config/dataset/clean_dataset_08.02.2022.yaml'\n",
    "\n",
    "with open(dataset, 'r') as stream:\n",
    "    files = yaml.safe_load(stream)\n",
    "\n",
    "files = [f'- {f}' for f in files]\n",
    "files = np.array(files)\n",
    "\n",
    "folds = KFold(n_splits=9, random_state=42, shuffle=True).split(files)\n",
    "\n",
    "for i, (trn_indices, tst_indices) in enumerate(folds):\n",
    "    trn_files = files[trn_indices]\n",
    "    tst_files = files[tst_indices]\n",
    "\n",
    "    trn_files, val_files = trn_files[:10], trn_files[10:]\n",
    "\n",
    "    print(len(trn_files), len(val_files), len(tst_files))\n",
    "    # print(len(trn_files), len(tst_files))\n",
    "\n",
    "    np.savetxt(f'config/training_files/{folder}/{i}.yaml', trn_files, fmt='%s')\n",
    "    np.savetxt(f'config/validation_files/{folder}/{i}.yaml', val_files, fmt='%s')\n",
    "    np.savetxt(f'config/testing_files/{folder}/{i}.yaml', tst_files, fmt='%s')"
   ]
  },
  {
   "cell_type": "code",
   "execution_count": 11,
   "metadata": {},
   "outputs": [
    {
     "data": {
      "text/plain": [
       "array(['- 20190819-Kutna Hora-L1-out-MVI_0007',\n",
       "       '- 20190819-Kutna Hora-L3-in-MVI_0005',\n",
       "       '- 20190819-Kutna Hora-L3-out-MVI_0008',\n",
       "       '- 20190819-Kutna Hora-L6-out-MVI_0017',\n",
       "       '- 20190819-Kutna Hora-L7-out-MVI_0032',\n",
       "       '- 20190819-Kutna Hora-L9-in-MVI_0043',\n",
       "       '- 20190819-Kutna Hora-L14-out-MVI_0005',\n",
       "       '- 20190819-Kutna Hora-L15-out-MVI_0012',\n",
       "       '- 20190819-Kutna Hora-L18-in-MVI_0030',\n",
       "       '- 20190819-Ricany-L2-in-MVI_0006'], dtype='<U38')"
      ]
     },
     "execution_count": 11,
     "metadata": {},
     "output_type": "execute_result"
    }
   ],
   "source": [
    "trn_files"
   ]
  },
  {
   "cell_type": "code",
   "execution_count": null,
   "metadata": {},
   "outputs": [],
   "source": []
  }
 ],
 "metadata": {
  "interpreter": {
   "hash": "5c5367881cd1cf07ff91f385af2760a91324c2d338b276ec1210beedc2863863"
  },
  "kernelspec": {
   "display_name": "Python 3.9.0 ('dev')",
   "language": "python",
   "name": "python3"
  },
  "language_info": {
   "codemirror_mode": {
    "name": "ipython",
    "version": 3
   },
   "file_extension": ".py",
   "mimetype": "text/x-python",
   "name": "python",
   "nbconvert_exporter": "python",
   "pygments_lexer": "ipython3",
   "version": "3.9.0"
  },
  "orig_nbformat": 4
 },
 "nbformat": 4,
 "nbformat_minor": 2
}

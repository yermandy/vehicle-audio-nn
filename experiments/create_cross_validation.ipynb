{
 "cells": [
  {
   "cell_type": "code",
   "execution_count": 1,
   "metadata": {},
   "outputs": [],
   "source": [
    "%load_ext autoreload\n",
    "%autoreload 2"
   ]
  },
  {
   "cell_type": "code",
   "execution_count": 2,
   "metadata": {},
   "outputs": [
    {
     "data": {
      "text/plain": [
       "'/home/yermaand/audio-nn'"
      ]
     },
     "execution_count": 2,
     "metadata": {},
     "output_type": "execute_result"
    }
   ],
   "source": [
    "import os\n",
    "os.chdir('..')\n",
    "os.getcwd()"
   ]
  },
  {
   "cell_type": "code",
   "execution_count": 3,
   "metadata": {},
   "outputs": [],
   "source": [
    "from sklearn.model_selection import KFold\n",
    "import numpy as np\n",
    "import yaml"
   ]
  },
  {
   "cell_type": "code",
   "execution_count": 10,
   "metadata": {},
   "outputs": [],
   "source": [
    "dataset_name = '002_eyedea_RX100_48'\n",
    "seed_cross_validation = 42\n",
    "seed_permutation = 48\n",
    "\n",
    "os.makedirs(f'config/training_files/{dataset_name}')\n",
    "os.makedirs(f'config/validation_files/{dataset_name}')\n",
    "os.makedirs(f'config/testing_files/{dataset_name}')"
   ]
  },
  {
   "cell_type": "code",
   "execution_count": 11,
   "metadata": {},
   "outputs": [
    {
     "name": "stdout",
     "output_type": "stream",
     "text": [
      "21 7 7\n",
      "----------\n",
      "21 7 8\n",
      "21 8 7\n",
      "21 8 7\n",
      "21 8 7\n",
      "21 8 7\n"
     ]
    }
   ],
   "source": [
    "dataset = f'config/dataset/{dataset_name}.yaml'\n",
    "\n",
    "with open(dataset, 'r') as stream:\n",
    "    files = yaml.safe_load(stream)\n",
    "\n",
    "files = [f'- {f}' for f in files]\n",
    "files = np.array(files)\n",
    "\n",
    "folds = KFold(n_splits=5, random_state=seed_cross_validation, shuffle=True).split(files)\n",
    "\n",
    "print(int(len(files) * 0.6), int(len(files) * 0.2), int(len(files) * 0.2))\n",
    "print('-' * 10)\n",
    "\n",
    "np.random.seed(seed_permutation)\n",
    "\n",
    "for i, (trn_indices, tst_indices) in enumerate(folds):\n",
    "    trn_files = files[trn_indices]\n",
    "    tst_files = files[tst_indices]\n",
    "\n",
    "    trn_files = np.random.permutation(trn_files)\n",
    "\n",
    "    p = int(len(trn_files) * 0.75)\n",
    "    trn_files, val_files = trn_files[:p], trn_files[p:]\n",
    "    \n",
    "    trn_files = sorted(trn_files)\n",
    "    val_files = sorted(val_files)\n",
    "\n",
    "    print(len(trn_files), len(val_files), len(tst_files))\n",
    "\n",
    "    np.savetxt(f'config/training_files/{dataset_name}/{i}.yaml', trn_files, fmt='%s')\n",
    "    np.savetxt(f'config/validation_files/{dataset_name}/{i}.yaml', val_files, fmt='%s')\n",
    "    np.savetxt(f'config/testing_files/{dataset_name}/{i}.yaml', tst_files, fmt='%s')"
   ]
  },
  {
   "cell_type": "code",
   "execution_count": 9,
   "metadata": {},
   "outputs": [],
   "source": [
    "# trn_files"
   ]
  },
  {
   "cell_type": "code",
   "execution_count": null,
   "metadata": {},
   "outputs": [],
   "source": []
  }
 ],
 "metadata": {
  "interpreter": {
   "hash": "5c5367881cd1cf07ff91f385af2760a91324c2d338b276ec1210beedc2863863"
  },
  "kernelspec": {
   "display_name": "Python 3.9.0 ('dev')",
   "language": "python",
   "name": "python3"
  },
  "language_info": {
   "codemirror_mode": {
    "name": "ipython",
    "version": 3
   },
   "file_extension": ".py",
   "mimetype": "text/x-python",
   "name": "python",
   "nbconvert_exporter": "python",
   "pygments_lexer": "ipython3",
   "version": "3.9.0"
  },
  "orig_nbformat": 4
 },
 "nbformat": 4,
 "nbformat_minor": 2
}

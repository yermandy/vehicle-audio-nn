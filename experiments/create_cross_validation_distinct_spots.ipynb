{
 "cells": [
  {
   "cell_type": "code",
   "execution_count": 1,
   "metadata": {},
   "outputs": [],
   "source": [
    "%load_ext autoreload\n",
    "%autoreload 2"
   ]
  },
  {
   "cell_type": "code",
   "execution_count": 2,
   "metadata": {},
   "outputs": [
    {
     "data": {
      "text/plain": [
       "'/home/yermaand/audio-nn'"
      ]
     },
     "execution_count": 2,
     "metadata": {},
     "output_type": "execute_result"
    }
   ],
   "source": [
    "import os\n",
    "os.chdir('..')\n",
    "os.getcwd()"
   ]
  },
  {
   "cell_type": "code",
   "execution_count": 42,
   "metadata": {},
   "outputs": [],
   "source": [
    "from sklearn.model_selection import KFold\n",
    "import itertools\n",
    "from src import *"
   ]
  },
  {
   "cell_type": "code",
   "execution_count": 9,
   "metadata": {},
   "outputs": [
    {
     "name": "stdout",
     "output_type": "stream",
     "text": [
      "['05_RX100', '06_RX100', '07_RX100', '09_RX100', '10_RX100', '11_RX100', '12_RX100', '13_RX100', '14_RX100', '15_RX100', '16_RX100', '17_RX100', '18_Prazska_RX100', '19_Krocehlavska_RX100', '20_Kovary_RX100', '21_Videnska_RX100', '22_Jesenicka_RX100', '23_KeZlatnikum_RX100', '24_Cernokostelecka_RX100', '25_Hlavni_RX100', '26_Novosibrinska_RX100', '27_Komoranska_RX100', '28_BrezanskeUdoli_RX100', '29_KPrehradam_RX100', '30_RadotinskaS_RX100', '31_RadotinskaJ2_RX100', '32_Cementarska_RX100', '33_Vypadova_RX100', '34_PrazskaDobrichovice_RX100', '35_Rovinska_RX100', '36_Jesenicka_RX100', '37_Prazska_Jircany_RX100', '38_Libusska_RX100', '39_KPrehradam_RX100', '40_KeZlatnikum_RX100', '41_Dobrejovice_RX100']\n"
     ]
    }
   ],
   "source": [
    "files = load_files_from_dataset('002_eyedea_RX100')\n",
    "print(files)"
   ]
  },
  {
   "cell_type": "code",
   "execution_count": 10,
   "metadata": {},
   "outputs": [],
   "source": [
    "dataset_name = '004_eyedea_all_aligned_RX100'\n",
    "\n",
    "os.makedirs(f'config/training_files/{dataset_name}')\n",
    "os.makedirs(f'config/validation_files/{dataset_name}')\n",
    "os.makedirs(f'config/testing_files/{dataset_name}')"
   ]
  },
  {
   "cell_type": "code",
   "execution_count": 46,
   "metadata": {},
   "outputs": [
    {
     "name": "stdout",
     "output_type": "stream",
     "text": [
      "21 7 7\n",
      "----------\n",
      "59 21 24\n",
      "60 24 20\n",
      "62 24 18\n",
      "59 24 21\n",
      "61 22 21\n"
     ]
    }
   ],
   "source": [
    "files_all = load_files_from_dataset('004_eyedea_all_aligned_RX100')\n",
    "\n",
    "files_all_dict = defaultdict(list)\n",
    "for f in files_all:\n",
    "    files_all_dict[f[:2]].append(f)\n",
    "\n",
    "files = load_files_from_dataset('002_eyedea_RX100')\n",
    "files = [f[:2] for f in files]\n",
    "files = np.array(files)\n",
    "\n",
    "seed = 42\n",
    "np.random.seed(seed)\n",
    "folds = KFold(n_splits=5, random_state=seed, shuffle=True).split(files)\n",
    "\n",
    "print(int(len(files) * 0.6), int(len(files) * 0.2), int(len(files) * 0.2))\n",
    "print('-' * 10)\n",
    "\n",
    "for i, (trn_indices, tst_indices) in enumerate(folds):\n",
    "    trn_files = files[trn_indices]\n",
    "    tst_files = files[tst_indices]\n",
    "\n",
    "    trn_files = np.random.permutation(trn_files)\n",
    "\n",
    "    p = int(len(trn_files) * 0.75)\n",
    "    trn_files, val_files = trn_files[:p], trn_files[p:]\n",
    "\n",
    "    flatten = lambda l: list(itertools.chain(*[files_all_dict[f] for f in l]))\n",
    "    \n",
    "    trn_files = flatten(trn_files)\n",
    "    val_files = flatten(val_files)\n",
    "    tst_files = flatten(tst_files)\n",
    "    \n",
    "    trn_files = sorted(trn_files)\n",
    "    val_files = sorted(val_files)\n",
    "    tst_files = sorted(tst_files)\n",
    "\n",
    "\n",
    "    print(len(trn_files), len(val_files), len(tst_files))\n",
    "\n",
    "    trn_files = [f'- {f}' for f in trn_files]\n",
    "    val_files = [f'- {f}' for f in val_files]\n",
    "    tst_files = [f'- {f}' for f in tst_files]\n",
    "\n",
    "    np.savetxt(f'config/training_files/{dataset_name}/{i}.yaml', trn_files, fmt='%s')\n",
    "    np.savetxt(f'config/validation_files/{dataset_name}/{i}.yaml', val_files, fmt='%s')\n",
    "    np.savetxt(f'config/testing_files/{dataset_name}/{i}.yaml', tst_files, fmt='%s')"
   ]
  },
  {
   "cell_type": "code",
   "execution_count": null,
   "metadata": {},
   "outputs": [],
   "source": []
  }
 ],
 "metadata": {
  "interpreter": {
   "hash": "5c5367881cd1cf07ff91f385af2760a91324c2d338b276ec1210beedc2863863"
  },
  "kernelspec": {
   "display_name": "Python 3.9.0 ('dev')",
   "language": "python",
   "name": "python3"
  },
  "language_info": {
   "codemirror_mode": {
    "name": "ipython",
    "version": 3
   },
   "file_extension": ".py",
   "mimetype": "text/x-python",
   "name": "python",
   "nbconvert_exporter": "python",
   "pygments_lexer": "ipython3",
   "version": "3.9.0"
  },
  "orig_nbformat": 4
 },
 "nbformat": 4,
 "nbformat_minor": 2
}

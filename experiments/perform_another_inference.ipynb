{
 "cells": [
  {
   "cell_type": "code",
   "execution_count": 1,
   "metadata": {},
   "outputs": [
    {
     "data": {
      "text/plain": [
       "'/home/yermaand/audio-nn'"
      ]
     },
     "execution_count": 1,
     "metadata": {},
     "output_type": "execute_result"
    }
   ],
   "source": [
    "%reset -f\n",
    "%load_ext autoreload\n",
    "%autoreload 2\n",
    "\n",
    "import os\n",
    "os.chdir('..')\n",
    "os.getcwd()"
   ]
  },
  {
   "cell_type": "code",
   "execution_count": 2,
   "metadata": {},
   "outputs": [],
   "source": [
    "from src import *"
   ]
  },
  {
   "cell_type": "code",
   "execution_count": 4,
   "metadata": {},
   "outputs": [],
   "source": [
    "prefix = 'tst_manual'\n",
    "model_name = 'rvce'\n",
    "root_uuid = '020_RX100_resized_128'"
   ]
  },
  {
   "cell_type": "code",
   "execution_count": 5,
   "metadata": {},
   "outputs": [
    {
     "data": {
      "application/vnd.jupyter.widget-view+json": {
       "model_id": "5b10e1f706f3466b883040b46d3ca6e6",
       "version_major": 2,
       "version_minor": 0
      },
      "text/plain": [
       "Video loading:   0%|          | 0/8 [00:00<?, ?it/s]"
      ]
     },
     "metadata": {},
     "output_type": "display_data"
    },
    {
     "data": {
      "application/vnd.jupyter.widget-view+json": {
       "model_id": "dcab0deadaf74e8cb7fab17e258eb76c",
       "version_major": 2,
       "version_minor": 0
      },
      "text/plain": [
       "  0%|          | 0/8 [00:00<?, ?it/s]"
      ]
     },
     "metadata": {},
     "output_type": "display_data"
    },
    {
     "data": {
      "application/vnd.jupyter.widget-view+json": {
       "model_id": "c4fbd0f46ef144a3bf075d69eadcde37",
       "version_major": 2,
       "version_minor": 0
      },
      "text/plain": [
       "Video loading:   0%|          | 0/7 [00:00<?, ?it/s]"
      ]
     },
     "metadata": {},
     "output_type": "display_data"
    },
    {
     "data": {
      "application/vnd.jupyter.widget-view+json": {
       "model_id": "5658a52b41334b08950a185c9ea501ac",
       "version_major": 2,
       "version_minor": 0
      },
      "text/plain": [
       "  0%|          | 0/7 [00:00<?, ?it/s]"
      ]
     },
     "metadata": {},
     "output_type": "display_data"
    },
    {
     "data": {
      "application/vnd.jupyter.widget-view+json": {
       "model_id": "f603c876aa7b42f5bc9502b89fe907f4",
       "version_major": 2,
       "version_minor": 0
      },
      "text/plain": [
       "Video loading:   0%|          | 0/7 [00:00<?, ?it/s]"
      ]
     },
     "metadata": {},
     "output_type": "display_data"
    },
    {
     "data": {
      "application/vnd.jupyter.widget-view+json": {
       "model_id": "4a79d92b4650419a8322e5ce15a4e14f",
       "version_major": 2,
       "version_minor": 0
      },
      "text/plain": [
       "  0%|          | 0/7 [00:00<?, ?it/s]"
      ]
     },
     "metadata": {},
     "output_type": "display_data"
    },
    {
     "data": {
      "application/vnd.jupyter.widget-view+json": {
       "model_id": "0513bfed7c724be9914691a3135f191d",
       "version_major": 2,
       "version_minor": 0
      },
      "text/plain": [
       "Video loading:   0%|          | 0/7 [00:00<?, ?it/s]"
      ]
     },
     "metadata": {},
     "output_type": "display_data"
    },
    {
     "data": {
      "application/vnd.jupyter.widget-view+json": {
       "model_id": "db3847560b4c49a29cf66d0813d9c6dc",
       "version_major": 2,
       "version_minor": 0
      },
      "text/plain": [
       "  0%|          | 0/7 [00:00<?, ?it/s]"
      ]
     },
     "metadata": {},
     "output_type": "display_data"
    },
    {
     "data": {
      "application/vnd.jupyter.widget-view+json": {
       "model_id": "055fa269fb7e4d6eacdb0eda864f99cd",
       "version_major": 2,
       "version_minor": 0
      },
      "text/plain": [
       "Video loading:   0%|          | 0/7 [00:00<?, ?it/s]"
      ]
     },
     "metadata": {},
     "output_type": "display_data"
    },
    {
     "data": {
      "application/vnd.jupyter.widget-view+json": {
       "model_id": "21612c1d948047cc99c11191ac45481c",
       "version_major": 2,
       "version_minor": 0
      },
      "text/plain": [
       "  0%|          | 0/7 [00:00<?, ?it/s]"
      ]
     },
     "metadata": {},
     "output_type": "display_data"
    }
   ],
   "source": [
    "uuids = []\n",
    "for i in range(0, 5):\n",
    "    uuid = f'{root_uuid}/{i}'\n",
    "    uuids.append(uuid)\n",
    "    config = load_config_locally(uuid)\n",
    "    config.inference_function = InferenceFunction.SIMPLE\n",
    "    config.use_manual_counts = True\n",
    "    tst_datapool = DataPool(config.testing_files, config)\n",
    "    validate_and_save(uuid, tst_datapool, prefix=prefix, part=Part.WHOLE, model_name=model_name, config=config)\n",
    "\n",
    "generate_cross_validation_table(uuids, model_name=model_name, prefix=prefix)"
   ]
  },
  {
   "cell_type": "code",
   "execution_count": null,
   "metadata": {},
   "outputs": [],
   "source": [
    "uuids = []\n",
    "for i in range(5):\n",
    "    uuid = f'{root_uuid}/{i}'\n",
    "    uuids.append(uuid)\n",
    "\n",
    "generate_cross_validation_table(uuids, model_name=model_name, prefix=prefix)"
   ]
  },
  {
   "cell_type": "code",
   "execution_count": null,
   "metadata": {},
   "outputs": [],
   "source": []
  }
 ],
 "metadata": {
  "interpreter": {
   "hash": "5c5367881cd1cf07ff91f385af2760a91324c2d338b276ec1210beedc2863863"
  },
  "kernelspec": {
   "display_name": "Python 3.9.0 ('dev')",
   "language": "python",
   "name": "python3"
  },
  "language_info": {
   "codemirror_mode": {
    "name": "ipython",
    "version": 3
   },
   "file_extension": ".py",
   "mimetype": "text/x-python",
   "name": "python",
   "nbconvert_exporter": "python",
   "pygments_lexer": "ipython3",
   "version": "3.9.0"
  },
  "orig_nbformat": 4
 },
 "nbformat": 4,
 "nbformat_minor": 2
}

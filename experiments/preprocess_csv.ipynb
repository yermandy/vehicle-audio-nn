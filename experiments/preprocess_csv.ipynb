{
 "cells": [
  {
   "cell_type": "code",
   "execution_count": 2,
   "metadata": {},
   "outputs": [],
   "source": [
    "%load_ext autoreload\n",
    "%autoreload 2"
   ]
  },
  {
   "cell_type": "code",
   "execution_count": 3,
   "metadata": {},
   "outputs": [],
   "source": [
    "from src import *\n",
    "import pandas as pd"
   ]
  },
  {
   "cell_type": "code",
   "execution_count": 3,
   "metadata": {},
   "outputs": [],
   "source": [
    "dataset = 'config/dataset/dataset_26.11.2021.yaml'\n",
    "\n",
    "with open(dataset, 'r') as stream:\n",
    "    files = yaml.safe_load(stream)"
   ]
  },
  {
   "cell_type": "code",
   "execution_count": 37,
   "metadata": {},
   "outputs": [
    {
     "data": {
      "text/plain": [
       "['20190819-Kutna Hora-L4-out-MVI_0040',\n",
       " '20190819-Kutna Hora-L1-out-MVI_0007',\n",
       " '20190819-Kutna Hora-L3-in-MVI_0005',\n",
       " '20190819-Kutna Hora-L3-out-MVI_0008',\n",
       " '20190819-Kutna Hora-L4-in-MVI_0013',\n",
       " '20190819-Kutna Hora-L6-out-MVI_0017',\n",
       " '20190819-Kutna Hora-L7-out-MVI_0032',\n",
       " '20190819-Kutna Hora-L8-in-MVI_0045',\n",
       " '20190819-Kutna Hora-L9-in-MVI_0043',\n",
       " '20190819-Kutna Hora-L10-out-SDV_1888',\n",
       " '20190819-Kutna Hora-L13-in-MVI_0006',\n",
       " '20190819-Kutna Hora-L13-out-MVI_0018',\n",
       " '20190819-Kutna Hora-L14-out-MVI_0005',\n",
       " '20190819-Kutna Hora-L15-out-MVI_0012',\n",
       " '20190819-Kutna Hora-L18-in-MVI_0030',\n",
       " '20190819-Ricany-L2-in-MVI_0006',\n",
       " '20190819-Ricany-L2-out-MVI_0005',\n",
       " '20190819-Ricany-L3-in-MVI_0006',\n",
       " '20190819-Ricany-L6-in-MVI_0008',\n",
       " '20190819-Ricany-L6-out-MVI_0011',\n",
       " '20190819-Ricany-L7-in-MVI_0008',\n",
       " '20190819-Ricany-L7-out-MVI_0013',\n",
       " '20190819-Ricany-L8-in-MVI_0009',\n",
       " '20190819-Ricany-L8-out-MVI_0013',\n",
       " '20190819-Ricany-L9-in-MVI_0008',\n",
       " '20190819-Ricany-L9-out-MVI_0011']"
      ]
     },
     "execution_count": 37,
     "metadata": {},
     "output_type": "execute_result"
    }
   ],
   "source": [
    "files"
   ]
  },
  {
   "cell_type": "code",
   "execution_count": 46,
   "metadata": {},
   "outputs": [
    {
     "name": "stdout",
     "output_type": "stream",
     "text": [
      "data/csv/20190819-Kutna Hora-L1-out-MVI_0007.csv\n",
      "data/csv/20210604_142859_20190819-Kutna Hora-L1-out-MVI_0007.MP4.csv\n",
      "\n",
      "data/csv/20190819-Kutna Hora-L3-in-MVI_0005.csv\n",
      "data/csv/20210604_155938_20190819-Kutna Hora-L3-in-MVI_0005.MP4.csv\n",
      "\n",
      "data/csv/20190819-Kutna Hora-L3-out-MVI_0008.csv\n",
      "data/csv/20210604_163502_20190819-Kutna Hora-L3-out-MVI_0008.MP4.csv\n",
      "\n",
      "data/csv/20190819-Kutna Hora-L4-in-MVI_0013.csv\n",
      "data/csv/20210604_170602_20190819-Kutna Hora-L4-in-MVI_0013.MP4.csv\n",
      "\n",
      "data/csv/20190819-Kutna Hora-L6-out-MVI_0017.csv\n",
      "data/csv/20210604_183557_20190819-Kutna Hora-L6-out-MVI_0017.MP4.csv\n",
      "\n",
      "data/csv/20190819-Kutna Hora-L7-out-MVI_0032.csv\n",
      "data/csv/20210604_190813_20190819-Kutna Hora-L7-out-MVI_0032.MP4.csv\n",
      "\n",
      "data/csv/20190819-Kutna Hora-L8-in-MVI_0045.csv\n",
      "data/csv/20210604_193543_20190819-Kutna Hora-L8-in-MVI_0045.MP4.csv\n",
      "\n",
      "data/csv/20190819-Kutna Hora-L9-in-MVI_0043.csv\n",
      "data/csv/20210604_200354_20190819-Kutna Hora-L9-in-MVI_0043.MP4.csv\n",
      "\n",
      "data/csv/20190819-Kutna Hora-L10-out-SDV_1888.csv\n",
      "data/csv/20210604_210902_20190819-Kutna Hora-L10-out-SDV_1888.MP4.csv\n",
      "\n",
      "data/csv/20190819-Kutna Hora-L13-in-MVI_0006.csv\n",
      "data/csv/20210603_131727_20190819-Kutna Hora-L13-in-MVI_0006.MP4.csv\n",
      "\n",
      "data/csv/20190819-Kutna Hora-L13-out-MVI_0018.csv\n",
      "data/csv/20210603_134934_20190819-Kutna Hora-L13-out-MVI_0018.MP4.csv\n",
      "\n",
      "data/csv/20190819-Kutna Hora-L14-out-MVI_0005.csv\n",
      "data/csv/20210603_145330_20190819-Kutna Hora-L14-out-MVI_0005.MP4.csv\n",
      "\n",
      "data/csv/20190819-Kutna Hora-L15-out-MVI_0012.csv\n",
      "data/csv/20210604_213810_20190819-Kutna Hora-L15-out-MVI_0012.MP4.csv\n",
      "\n",
      "data/csv/20190819-Kutna Hora-L18-in-MVI_0030.csv\n",
      "data/csv/20210605_004805_20190819-Kutna Hora-L18-in-MVI_0030.MP4.csv\n",
      "data/csv/20210605_011541_20190819-Kutna Hora-L18-in-MVI_0030.MP4.csv\n",
      "\n",
      "data/csv/20190819-Ricany-L2-in-MVI_0006.csv\n",
      "data/csv/20210605_032844_20190819-Ricany-L2-in-MVI_0006.MP4.csv\n",
      "data/csv/20210605_040702_20190819-Ricany-L2-in-MVI_0006.MP4.csv\n",
      "\n",
      "data/csv/20190819-Ricany-L2-out-MVI_0005.csv\n",
      "data/csv/20210605_040714_20190819-Ricany-L2-out-MVI_0005.MP4.csv\n",
      "data/csv/20210605_044229_20190819-Ricany-L2-out-MVI_0005.MP4.csv\n",
      "\n",
      "data/csv/20190819-Ricany-L3-in-MVI_0006.csv\n",
      "data/csv/20210605_044842_20190819-Ricany-L3-in-MVI_0006.MP4.csv\n",
      "\n",
      "data/csv/20190819-Ricany-L6-in-MVI_0008.csv\n",
      "data/csv/20210607_102229_20190819-Ricany-L6-in-MVI_0008.MP4.csv\n",
      "data/csv/20210607_104448_20190819-Ricany-L6-in-MVI_0008.MP4.csv\n",
      "\n",
      "data/csv/20190819-Ricany-L6-out-MVI_0011.csv\n",
      "data/csv/20210607_110228_20190819-Ricany-L6-out-MVI_0011.MP4.csv\n",
      "data/csv/20210607_112623_20190819-Ricany-L6-out-MVI_0011.MP4.csv\n",
      "\n",
      "data/csv/20190819-Ricany-L7-in-MVI_0008.csv\n",
      "data/csv/20210607_113859_20190819-Ricany-L7-in-MVI_0008.MP4.csv\n",
      "\n",
      "data/csv/20190819-Ricany-L7-out-MVI_0013.csv\n",
      "data/csv/20210607_121802_20190819-Ricany-L7-out-MVI_0013.MP4.csv\n",
      "\n",
      "data/csv/20190819-Ricany-L8-in-MVI_0009.csv\n",
      "data/csv/20210607_125549_20190819-Ricany-L8-in-MVI_0009.MP4.csv\n",
      "\n",
      "data/csv/20190819-Ricany-L8-out-MVI_0013.csv\n",
      "data/csv/20210607_132705_20190819-Ricany-L8-out-MVI_0013.MP4.csv\n",
      "\n",
      "data/csv/20190819-Ricany-L9-in-MVI_0008.csv\n",
      "data/csv/20210607_141217_20190819-Ricany-L9-in-MVI_0008.MP4.csv\n",
      "\n",
      "data/csv/20190819-Ricany-L9-out-MVI_0011.csv\n",
      "data/csv/20210607_144001_20190819-Ricany-L9-out-MVI_0011.MP4.csv\n",
      "\n"
     ]
    }
   ],
   "source": [
    "for file in files:\n",
    "    if file == '20190819-Kutna Hora-L4-out-MVI_0040':\n",
    "        continue\n",
    "    folder = 'data/csv/**/*.csv'\n",
    "    paths = sorted(glob(folder, recursive=True))\n",
    "    all_filenames = []\n",
    "    for path in paths:\n",
    "        if path.find(file) != -1:\n",
    "            all_filenames.append(path)\n",
    "            print(path)\n",
    "    # print('/'.join(path.split('/')[:-1]) + f'/{file}.csv')\n",
    "    combined_csv_path = '/'.join(path.split('/')[:-1]) + f'/{file}.csv'\n",
    "    combined_csv = pd.concat([pd.read_csv(f, sep=';') for f in all_filenames])\n",
    "    # combined_csv.to_csv(combined_csv_path, sep=';', index=False, encoding='utf-8-sig')\n",
    "    print()"
   ]
  },
  {
   "cell_type": "markdown",
   "metadata": {},
   "source": [
    "**Remove MP4 from name**"
   ]
  },
  {
   "cell_type": "code",
   "execution_count": 14,
   "metadata": {},
   "outputs": [],
   "source": [
    "folder = 'data/csv/**/*.csv'\n",
    "paths = sorted(glob(folder, recursive=True))"
   ]
  },
  {
   "cell_type": "code",
   "execution_count": 17,
   "metadata": {},
   "outputs": [],
   "source": [
    "for path in paths:\n",
    "    path_new = path.replace('MP4.', '')\n",
    "    shutil.move(path, path_new)"
   ]
  },
  {
   "cell_type": "code",
   "execution_count": 36,
   "metadata": {},
   "outputs": [
    {
     "data": {
      "text/plain": [
       "array([['0', '4E88474', '', ..., '', '', ''],\n",
       "       ['1', '7AJ8722', '', ..., '', '', ''],\n",
       "       ['2', '1BP7943', '', ..., '', '', ''],\n",
       "       ...,\n",
       "       ['282', '2SA3398', '', ..., '', '', ''],\n",
       "       ['283', '6H28205', '', ..., '', '', ''],\n",
       "       ['284', '3SI5322', '', ..., '', '', '']], dtype='<U84')"
      ]
     },
     "execution_count": 36,
     "metadata": {},
     "output_type": "execute_result"
    }
   ],
   "source": [
    "load_csv('20190819-Kutna Hora-L3-in-MVI_0005')"
   ]
  },
  {
   "cell_type": "code",
   "execution_count": 12,
   "metadata": {},
   "outputs": [
    {
     "data": {
      "text/plain": [
       "array([['0', '4E88474', '', ..., '', '', ''],\n",
       "       ['1', '7AJ8722', '', ..., '', '', ''],\n",
       "       ['2', '1BP7943', '', ..., '', '', ''],\n",
       "       ...,\n",
       "       ['282', '2SA3398', '', ..., '', '', ''],\n",
       "       ['283', '6H28205', '', ..., '', '', ''],\n",
       "       ['284', '3SI5322', '', ..., '', '', '']], dtype='<U84')"
      ]
     },
     "execution_count": 12,
     "metadata": {},
     "output_type": "execute_result"
    }
   ],
   "source": [
    "load_csv('20190819-Kutna Hora-L3-in-MVI_0005')"
   ]
  },
  {
   "cell_type": "code",
   "execution_count": 19,
   "metadata": {},
   "outputs": [
    {
     "name": "stdout",
     "output_type": "stream",
     "text": [
      "data/csv/20210604_173354_20190819-Kutna Hora-L4-out-MVI_0040_manual.MP4.csv\n"
     ]
    },
    {
     "data": {
      "text/plain": [
       "(203, 27)"
      ]
     },
     "execution_count": 19,
     "metadata": {},
     "output_type": "execute_result"
    }
   ],
   "source": [
    "load_csv('Kutna Hora-L4-out-MVI_0040_manual').shape"
   ]
  },
  {
   "cell_type": "code",
   "execution_count": 28,
   "metadata": {},
   "outputs": [
    {
     "data": {
      "text/plain": [
       "['a/a.csv', 'a/b/b.csv', 'a/b/d/d.csv', 'a/c/c.csv']"
      ]
     },
     "execution_count": 28,
     "metadata": {},
     "output_type": "execute_result"
    }
   ],
   "source": [
    "# folder = 'a/**/*.csv'\n",
    "# sorted(glob(folder, recursive=True))"
   ]
  },
  {
   "cell_type": "code",
   "execution_count": 11,
   "metadata": {},
   "outputs": [
    {
     "data": {
      "text/plain": [
       "'41_Dobrejovice_iphone'"
      ]
     },
     "execution_count": 11,
     "metadata": {},
     "output_type": "execute_result"
    }
   ],
   "source": [
    "os.path.basename(path).split('.')[0]"
   ]
  },
  {
   "cell_type": "code",
   "execution_count": 27,
   "metadata": {},
   "outputs": [],
   "source": [
    "for path in sorted(glob('data/csv/*.csv')):\n",
    "    file = get_file_name(path)\n",
    "    if os.path.getsize(path) != 0:\n",
    "        print(get_file_name(path))"
   ]
  },
  {
   "cell_type": "code",
   "execution_count": 4,
   "metadata": {},
   "outputs": [
    {
     "name": "stdout",
     "output_type": "stream",
     "text": [
      "01_A41\n"
     ]
    },
    {
     "ename": "KeyboardInterrupt",
     "evalue": "",
     "output_type": "error",
     "traceback": [
      "\u001b[0;31m---------------------------------------------------------------------------\u001b[0m",
      "\u001b[0;31mKeyboardInterrupt\u001b[0m                         Traceback (most recent call last)",
      "\u001b[0;32m/tmp/ipykernel_1103719/2252205627.py\u001b[0m in \u001b[0;36m<module>\u001b[0;34m\u001b[0m\n\u001b[1;32m      5\u001b[0m     \u001b[0mprint\u001b[0m\u001b[0;34m(\u001b[0m\u001b[0mget_file_name\u001b[0m\u001b[0;34m(\u001b[0m\u001b[0mpath\u001b[0m\u001b[0;34m)\u001b[0m\u001b[0;34m)\u001b[0m\u001b[0;34m\u001b[0m\u001b[0;34m\u001b[0m\u001b[0m\n\u001b[1;32m      6\u001b[0m     \u001b[0;32mif\u001b[0m \u001b[0mos\u001b[0m\u001b[0;34m.\u001b[0m\u001b[0mpath\u001b[0m\u001b[0;34m.\u001b[0m\u001b[0mgetsize\u001b[0m\u001b[0;34m(\u001b[0m\u001b[0mpath\u001b[0m\u001b[0;34m)\u001b[0m \u001b[0;34m!=\u001b[0m \u001b[0;36m0\u001b[0m\u001b[0;34m:\u001b[0m\u001b[0;34m\u001b[0m\u001b[0;34m\u001b[0m\u001b[0m\n\u001b[0;32m----> 7\u001b[0;31m         \u001b[0mshutil\u001b[0m\u001b[0;34m.\u001b[0m\u001b[0mcopy2\u001b[0m\u001b[0;34m(\u001b[0m\u001b[0mpath\u001b[0m\u001b[0;34m,\u001b[0m \u001b[0;34mf'data/csv/{file}.csv'\u001b[0m\u001b[0;34m)\u001b[0m\u001b[0;34m\u001b[0m\u001b[0;34m\u001b[0m\u001b[0m\n\u001b[0m",
      "\u001b[0;32m~/miniconda3/envs/dev/lib/python3.9/shutil.py\u001b[0m in \u001b[0;36mcopy2\u001b[0;34m(src, dst, follow_symlinks)\u001b[0m\n\u001b[1;32m    430\u001b[0m     \u001b[0;32mif\u001b[0m \u001b[0mos\u001b[0m\u001b[0;34m.\u001b[0m\u001b[0mpath\u001b[0m\u001b[0;34m.\u001b[0m\u001b[0misdir\u001b[0m\u001b[0;34m(\u001b[0m\u001b[0mdst\u001b[0m\u001b[0;34m)\u001b[0m\u001b[0;34m:\u001b[0m\u001b[0;34m\u001b[0m\u001b[0;34m\u001b[0m\u001b[0m\n\u001b[1;32m    431\u001b[0m         \u001b[0mdst\u001b[0m \u001b[0;34m=\u001b[0m \u001b[0mos\u001b[0m\u001b[0;34m.\u001b[0m\u001b[0mpath\u001b[0m\u001b[0;34m.\u001b[0m\u001b[0mjoin\u001b[0m\u001b[0;34m(\u001b[0m\u001b[0mdst\u001b[0m\u001b[0;34m,\u001b[0m \u001b[0mos\u001b[0m\u001b[0;34m.\u001b[0m\u001b[0mpath\u001b[0m\u001b[0;34m.\u001b[0m\u001b[0mbasename\u001b[0m\u001b[0;34m(\u001b[0m\u001b[0msrc\u001b[0m\u001b[0;34m)\u001b[0m\u001b[0;34m)\u001b[0m\u001b[0;34m\u001b[0m\u001b[0;34m\u001b[0m\u001b[0m\n\u001b[0;32m--> 432\u001b[0;31m     \u001b[0mcopyfile\u001b[0m\u001b[0;34m(\u001b[0m\u001b[0msrc\u001b[0m\u001b[0;34m,\u001b[0m \u001b[0mdst\u001b[0m\u001b[0;34m,\u001b[0m \u001b[0mfollow_symlinks\u001b[0m\u001b[0;34m=\u001b[0m\u001b[0mfollow_symlinks\u001b[0m\u001b[0;34m)\u001b[0m\u001b[0;34m\u001b[0m\u001b[0;34m\u001b[0m\u001b[0m\n\u001b[0m\u001b[1;32m    433\u001b[0m     \u001b[0mcopystat\u001b[0m\u001b[0;34m(\u001b[0m\u001b[0msrc\u001b[0m\u001b[0;34m,\u001b[0m \u001b[0mdst\u001b[0m\u001b[0;34m,\u001b[0m \u001b[0mfollow_symlinks\u001b[0m\u001b[0;34m=\u001b[0m\u001b[0mfollow_symlinks\u001b[0m\u001b[0;34m)\u001b[0m\u001b[0;34m\u001b[0m\u001b[0;34m\u001b[0m\u001b[0m\n\u001b[1;32m    434\u001b[0m     \u001b[0;32mreturn\u001b[0m \u001b[0mdst\u001b[0m\u001b[0;34m\u001b[0m\u001b[0;34m\u001b[0m\u001b[0m\n",
      "\u001b[0;32m~/miniconda3/envs/dev/lib/python3.9/shutil.py\u001b[0m in \u001b[0;36mcopyfile\u001b[0;34m(src, dst, follow_symlinks)\u001b[0m\n\u001b[1;32m    270\u001b[0m             \u001b[0;32melif\u001b[0m \u001b[0m_USE_CP_SENDFILE\u001b[0m\u001b[0;34m:\u001b[0m\u001b[0;34m\u001b[0m\u001b[0;34m\u001b[0m\u001b[0m\n\u001b[1;32m    271\u001b[0m                 \u001b[0;32mtry\u001b[0m\u001b[0;34m:\u001b[0m\u001b[0;34m\u001b[0m\u001b[0;34m\u001b[0m\u001b[0m\n\u001b[0;32m--> 272\u001b[0;31m                     \u001b[0m_fastcopy_sendfile\u001b[0m\u001b[0;34m(\u001b[0m\u001b[0mfsrc\u001b[0m\u001b[0;34m,\u001b[0m \u001b[0mfdst\u001b[0m\u001b[0;34m)\u001b[0m\u001b[0;34m\u001b[0m\u001b[0;34m\u001b[0m\u001b[0m\n\u001b[0m\u001b[1;32m    273\u001b[0m                     \u001b[0;32mreturn\u001b[0m \u001b[0mdst\u001b[0m\u001b[0;34m\u001b[0m\u001b[0;34m\u001b[0m\u001b[0m\n\u001b[1;32m    274\u001b[0m                 \u001b[0;32mexcept\u001b[0m \u001b[0m_GiveupOnFastCopy\u001b[0m\u001b[0;34m:\u001b[0m\u001b[0;34m\u001b[0m\u001b[0;34m\u001b[0m\u001b[0m\n",
      "\u001b[0;32m~/miniconda3/envs/dev/lib/python3.9/shutil.py\u001b[0m in \u001b[0;36m_fastcopy_sendfile\u001b[0;34m(fsrc, fdst)\u001b[0m\n\u001b[1;32m    147\u001b[0m     \u001b[0;32mwhile\u001b[0m \u001b[0;32mTrue\u001b[0m\u001b[0;34m:\u001b[0m\u001b[0;34m\u001b[0m\u001b[0;34m\u001b[0m\u001b[0m\n\u001b[1;32m    148\u001b[0m         \u001b[0;32mtry\u001b[0m\u001b[0;34m:\u001b[0m\u001b[0;34m\u001b[0m\u001b[0;34m\u001b[0m\u001b[0m\n\u001b[0;32m--> 149\u001b[0;31m             \u001b[0msent\u001b[0m \u001b[0;34m=\u001b[0m \u001b[0mos\u001b[0m\u001b[0;34m.\u001b[0m\u001b[0msendfile\u001b[0m\u001b[0;34m(\u001b[0m\u001b[0moutfd\u001b[0m\u001b[0;34m,\u001b[0m \u001b[0minfd\u001b[0m\u001b[0;34m,\u001b[0m \u001b[0moffset\u001b[0m\u001b[0;34m,\u001b[0m \u001b[0mblocksize\u001b[0m\u001b[0;34m)\u001b[0m\u001b[0;34m\u001b[0m\u001b[0;34m\u001b[0m\u001b[0m\n\u001b[0m\u001b[1;32m    150\u001b[0m         \u001b[0;32mexcept\u001b[0m \u001b[0mOSError\u001b[0m \u001b[0;32mas\u001b[0m \u001b[0merr\u001b[0m\u001b[0;34m:\u001b[0m\u001b[0;34m\u001b[0m\u001b[0;34m\u001b[0m\u001b[0m\n\u001b[1;32m    151\u001b[0m             \u001b[0;31m# ...in oder to have a more informative exception.\u001b[0m\u001b[0;34m\u001b[0m\u001b[0;34m\u001b[0m\u001b[0;34m\u001b[0m\u001b[0m\n",
      "\u001b[0;31mKeyboardInterrupt\u001b[0m: "
     ]
    }
   ],
   "source": [
    "root = '/home/yermaand/data/MultiDo/videa_prujezdy/*'\n",
    "\n",
    "for path in sorted(glob(root)):\n",
    "    file = get_file_name(path)\n",
    "    print(get_file_name(path))\n",
    "    if os.path.getsize(path) != 0:\n",
    "        shutil.copy2(path, f'data/csv/{file}.csv')"
   ]
  },
  {
   "cell_type": "code",
   "execution_count": null,
   "metadata": {},
   "outputs": [],
   "source": []
  }
 ],
 "metadata": {
  "interpreter": {
   "hash": "5c5367881cd1cf07ff91f385af2760a91324c2d338b276ec1210beedc2863863"
  },
  "kernelspec": {
   "display_name": "Python 3.9.0 ('dev')",
   "language": "python",
   "name": "python3"
  },
  "language_info": {
   "codemirror_mode": {
    "name": "ipython",
    "version": 3
   },
   "file_extension": ".py",
   "mimetype": "text/x-python",
   "name": "python",
   "nbconvert_exporter": "python",
   "pygments_lexer": "ipython3",
   "version": "3.9.0"
  },
  "orig_nbformat": 4
 },
 "nbformat": 4,
 "nbformat_minor": 2
}

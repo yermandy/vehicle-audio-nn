{
 "cells": [
  {
   "cell_type": "code",
   "execution_count": 1,
   "metadata": {},
   "outputs": [],
   "source": [
    "%load_ext autoreload\n",
    "%autoreload 2"
   ]
  },
  {
   "cell_type": "code",
   "execution_count": 2,
   "metadata": {},
   "outputs": [],
   "source": [
    "from src import *"
   ]
  },
  {
   "cell_type": "code",
   "execution_count": 3,
   "metadata": {},
   "outputs": [],
   "source": [
    "dataset = 'config/dataset/clean_dataset_08.02.2022.yaml'\n",
    "\n",
    "with open(dataset, 'r') as stream:\n",
    "    files = yaml.safe_load(stream)"
   ]
  },
  {
   "cell_type": "code",
   "execution_count": 6,
   "metadata": {},
   "outputs": [
    {
     "name": "stdout",
     "output_type": "stream",
     "text": [
      "20190819-Kutna Hora-L3-out-MVI_0008_0_5\n",
      "20190819-Ricany-L8-out-MVI_0013_2053_2062\n"
     ]
    }
   ],
   "source": [
    "csv_header = 'ID;Licence plate;Country;LPM confidence;OCR confidence;Frame count;ROI;Direction;Start time;End time;Best detection X-coordinate;Best detection Y-coordinate;Best detection corners;Best detection frame number;Best detection frame timestamp;Category;Category confidence;Color;Color confidence;Make;Make confidence;Model;Model confidence;View;View confidence;Source file name;Image file name'\n",
    "\n",
    "interval_dataset = []\n",
    "\n",
    "for file in files:\n",
    "    intervals = load_intervals(file)\n",
    "\n",
    "    csv = load_csv(file)\n",
    "    csv = csv.astype(str)\n",
    "\n",
    "    events_start_time, events_end_time = load_event_time_from_csv(csv)\n",
    "\n",
    "    audio, sr = load_audio(file, return_sr=True)\n",
    "\n",
    "    events = load_events(file)\n",
    "    \n",
    "    # '''\n",
    "    for interval_from, interval_till in intervals:\n",
    "        interval_audio = audio[int(interval_from * sr) : int(interval_till * sr)]\n",
    "\n",
    "        mask = (interval_from <= events_start_time) & (interval_till > events_end_time)\n",
    "        interval_csv = csv[mask]\n",
    "\n",
    "        interval_file = f'{file}_{interval_from:.0f}_{interval_till:.0f}'\n",
    "        interval_dataset.append(interval_file)\n",
    "\n",
    "        # create offset\n",
    "        s, ms = divmod(interval_from, 1)\n",
    "        m, s = divmod(s, 60)\n",
    "        h, m = divmod(m, 60)\n",
    "        offset_str = f'{h:.0f}:{m:.0f}:{s:.0f}.{ms * 10:.0f}'\n",
    "        offset = datetime.strptime(f'{h:.0f}:{m:.0f}:{s:.0f}.{ms * 10:.0f}', '%H:%M:%S.%f')\n",
    "\n",
    "        # apply offset to columns\n",
    "        def apply_offset(column):\n",
    "            start_time = interval_csv[:, column]\n",
    "            for i, t in enumerate(start_time):\n",
    "                interval_csv[i, column] = datetime.strptime(t, '%H:%M:%S.%f') - offset\n",
    "\n",
    "        apply_offset(CsvColumnID.START_TIME)\n",
    "        apply_offset(CsvColumnID.END_TIME)\n",
    "        apply_offset(CsvColumnID.BEST_DETECTION_FRAME_TIME)\n",
    "\n",
    "        # apply offset to labels\n",
    "        mask = (interval_from <= events) & (interval_till > events)\n",
    "        interval_events = events[mask]\n",
    "        interval_events = np.round(interval_events - interval_from, 2)\n",
    "\n",
    "        # torch.save([interval_audio, sr], f'data/audio_tensors/cvut_intervals/{interval_file}.pt')\n",
    "        np.savetxt(f'data/csv/cvut_intervals/{interval_file}.csv', interval_csv, fmt='%s', delimiter=';', header=csv_header)\n",
    "        np.savetxt(f'data/labels/cvut_intervals/{interval_file}.txt', interval_events, fmt='%s')\n"
   ]
  },
  {
   "cell_type": "code",
   "execution_count": 9,
   "metadata": {},
   "outputs": [],
   "source": [
    "from datetime import datetime"
   ]
  },
  {
   "cell_type": "code",
   "execution_count": 8,
   "metadata": {},
   "outputs": [
    {
     "name": "stdout",
     "output_type": "stream",
     "text": [
      "data/csv/cvut_intervals/20190819-Kutna Hora-L1-out-MVI_0007_831_890.csv\n",
      "data/csv/cvut_intervals/20190819-Kutna Hora-L1-out-MVI_0007_1396_1567.csv\n",
      "data/csv/cvut_intervals/20190819-Kutna Hora-L1-out-MVI_0007_129_210.csv\n",
      "data/csv/cvut_intervals/20190819-Kutna Hora-L1-out-MVI_0007_55_129.csv\n",
      "data/csv/cvut_intervals/20190819-Kutna Hora-L1-out-MVI_0007_1154_1197.csv\n",
      "data/csv/cvut_intervals/20190819-Kutna Hora-L1-out-MVI_0007_247_367.csv\n",
      "data/csv/cvut_intervals/20190819-Kutna Hora-L1-out-MVI_0007_1782_1805.csv\n",
      "data/csv/cvut_intervals/20190819-Kutna Hora-L1-out-MVI_0007_1887_1913.csv\n",
      "data/csv/cvut_intervals/20190819-Kutna Hora-L1-out-MVI_0007_1226_1396.csv\n",
      "data/csv/cvut_intervals/20190819-Kutna Hora-L1-out-MVI_0007_1935_2067.csv\n",
      "data/csv/cvut_intervals/20190819-Kutna Hora-L1-out-MVI_0007_367_440.csv\n",
      "data/csv/cvut_intervals/20190819-Kutna Hora-L1-out-MVI_0007_690_778.csv\n",
      "data/csv/cvut_intervals/20190819-Kutna Hora-L1-out-MVI_0007_1567_1623.csv\n",
      "data/csv/cvut_intervals/20190819-Kutna Hora-L1-out-MVI_0007_210_247.csv\n",
      "data/csv/cvut_intervals/20190819-Kutna Hora-L1-out-MVI_0007_591_632.csv\n",
      "data/csv/cvut_intervals/20190819-Kutna Hora-L1-out-MVI_0007_890_927.csv\n",
      "data/csv/cvut_intervals/20190819-Kutna Hora-L1-out-MVI_0007_440_519.csv\n",
      "data/csv/cvut_intervals/20190819-Kutna Hora-L1-out-MVI_0007_519_591.csv\n",
      "data/csv/cvut_intervals/20190819-Kutna Hora-L1-out-MVI_0007_963_1114.csv\n",
      "data/csv/cvut_intervals/20190819-Kutna Hora-L1-out-MVI_0007_1805_1887.csv\n",
      "data/csv/cvut_intervals/20190819-Kutna Hora-L1-out-MVI_0007_778_831.csv\n",
      "data/csv/cvut_intervals/20190819-Kutna Hora-L1-out-MVI_0007_1197_1226.csv\n",
      "data/csv/cvut_intervals/20190819-Kutna Hora-L1-out-MVI_0007_1913_1935.csv\n",
      "data/csv/cvut_intervals/20190819-Kutna Hora-L1-out-MVI_0007_1623_1753.csv\n",
      "data/csv/cvut_intervals/20190819-Kutna Hora-L1-out-MVI_0007_632_654.csv\n",
      "data/csv/cvut_intervals/20190819-Kutna Hora-L1-out-MVI_0007_0_25.csv\n",
      "data/csv/cvut_intervals/20190819-Kutna Hora-L1-out-MVI_0007_1114_1154.csv\n",
      "data/csv/cvut_intervals/20190819-Kutna Hora-L1-out-MVI_0007_1753_1782.csv\n",
      "data/csv/cvut_intervals/20190819-Kutna Hora-L1-out-MVI_0007_25_55.csv\n",
      "data/csv/cvut_intervals/20190819-Kutna Hora-L1-out-MVI_0007_654_690.csv\n",
      "data/csv/cvut_intervals/20190819-Kutna Hora-L1-out-MVI_0007_927_963.csv\n"
     ]
    }
   ],
   "source": [
    "name = '20190819-Kutna Hora-L1-out-MVI_0007'\n",
    "\n",
    "folder='data/csv/cvut_intervals/*.csv'\n",
    "glob(folder, recursive=True)\n",
    "for file in glob(folder, recursive=True):\n",
    "    if file.find(name) != -1:\n",
    "\n",
    "        print(file)"
   ]
  },
  {
   "cell_type": "code",
   "execution_count": 10,
   "metadata": {},
   "outputs": [],
   "source": [
    "n_folds = 9\n",
    "\n",
    "dataset_from = '25.03.2022'\n",
    "dataset_to = '29.03.2022'\n",
    "\n",
    "for stage in ['validation_files', 'testing_files', 'training_files']:\n",
    "    os.makedirs(f'config/{stage}/{dataset_to}', exist_ok=True)\n",
    "\n",
    "    for fold in range(n_folds):\n",
    "        dataset_from_path = f'config/{stage}/{dataset_from}/{fold}.yaml'\n",
    "        dataset_to_path = f'config/{stage}/{dataset_to}/{fold}.yaml'\n",
    "\n",
    "        if stage == 'testing_files' or stage == 'training_files':\n",
    "            shutil.copy2(dataset_from_path, dataset_to_path)\n",
    "        else:\n",
    "            with open(dataset_from_path, 'r') as stream:\n",
    "                files = yaml.safe_load(stream)\n",
    "\n",
    "            F = []\n",
    "            \n",
    "            for name in interval_dataset:\n",
    "                for file in files:\n",
    "                    if name.find(file) != -1:\n",
    "                        F.append(f'- cvut_intervals/{name}')\n",
    "            \n",
    "            np.savetxt(dataset_to_path, F, fmt='%s')"
   ]
  },
  {
   "cell_type": "code",
   "execution_count": 11,
   "metadata": {},
   "outputs": [
    {
     "data": {
      "text/plain": [
       "['- cvut_intervals/20190819-Kutna Hora-L13-in-MVI_0006_0_713',\n",
       " '- cvut_intervals/20190819-Kutna Hora-L13-in-MVI_0006_713_903',\n",
       " '- cvut_intervals/20190819-Kutna Hora-L13-in-MVI_0006_903_1118',\n",
       " '- cvut_intervals/20190819-Kutna Hora-L13-in-MVI_0006_1118_1412',\n",
       " '- cvut_intervals/20190819-Kutna Hora-L13-in-MVI_0006_1412_1620',\n",
       " '- cvut_intervals/20190819-Kutna Hora-L13-in-MVI_0006_1620_1789',\n",
       " '- cvut_intervals/20190819-Kutna Hora-L13-in-MVI_0006_1789_2042',\n",
       " '- cvut_intervals/20190819-Kutna Hora-L14-out-MVI_0005_0_29',\n",
       " '- cvut_intervals/20190819-Kutna Hora-L14-out-MVI_0005_29_243',\n",
       " '- cvut_intervals/20190819-Kutna Hora-L14-out-MVI_0005_243_262',\n",
       " '- cvut_intervals/20190819-Kutna Hora-L14-out-MVI_0005_262_375',\n",
       " '- cvut_intervals/20190819-Kutna Hora-L14-out-MVI_0005_375_478',\n",
       " '- cvut_intervals/20190819-Kutna Hora-L14-out-MVI_0005_478_511',\n",
       " '- cvut_intervals/20190819-Kutna Hora-L14-out-MVI_0005_511_601',\n",
       " '- cvut_intervals/20190819-Kutna Hora-L14-out-MVI_0005_601_631',\n",
       " '- cvut_intervals/20190819-Kutna Hora-L14-out-MVI_0005_631_717',\n",
       " '- cvut_intervals/20190819-Kutna Hora-L14-out-MVI_0005_717_824',\n",
       " '- cvut_intervals/20190819-Kutna Hora-L14-out-MVI_0005_824_865',\n",
       " '- cvut_intervals/20190819-Kutna Hora-L14-out-MVI_0005_865_910',\n",
       " '- cvut_intervals/20190819-Kutna Hora-L14-out-MVI_0005_910_945',\n",
       " '- cvut_intervals/20190819-Kutna Hora-L14-out-MVI_0005_945_978',\n",
       " '- cvut_intervals/20190819-Kutna Hora-L14-out-MVI_0005_978_1006',\n",
       " '- cvut_intervals/20190819-Kutna Hora-L14-out-MVI_0005_1006_1039',\n",
       " '- cvut_intervals/20190819-Kutna Hora-L14-out-MVI_0005_1039_1076',\n",
       " '- cvut_intervals/20190819-Kutna Hora-L14-out-MVI_0005_1076_1115',\n",
       " '- cvut_intervals/20190819-Kutna Hora-L14-out-MVI_0005_1115_1138',\n",
       " '- cvut_intervals/20190819-Kutna Hora-L14-out-MVI_0005_1138_1215',\n",
       " '- cvut_intervals/20190819-Kutna Hora-L14-out-MVI_0005_1215_1239',\n",
       " '- cvut_intervals/20190819-Kutna Hora-L14-out-MVI_0005_1239_1298',\n",
       " '- cvut_intervals/20190819-Kutna Hora-L14-out-MVI_0005_1298_1323',\n",
       " '- cvut_intervals/20190819-Kutna Hora-L14-out-MVI_0005_1323_1348',\n",
       " '- cvut_intervals/20190819-Kutna Hora-L14-out-MVI_0005_1348_1377',\n",
       " '- cvut_intervals/20190819-Kutna Hora-L14-out-MVI_0005_1377_1433',\n",
       " '- cvut_intervals/20190819-Kutna Hora-L14-out-MVI_0005_1433_1461',\n",
       " '- cvut_intervals/20190819-Kutna Hora-L14-out-MVI_0005_1461_1479',\n",
       " '- cvut_intervals/20190819-Kutna Hora-L14-out-MVI_0005_1479_1492',\n",
       " '- cvut_intervals/20190819-Kutna Hora-L14-out-MVI_0005_1492_1530',\n",
       " '- cvut_intervals/20190819-Kutna Hora-L14-out-MVI_0005_1530_1614',\n",
       " '- cvut_intervals/20190819-Kutna Hora-L14-out-MVI_0005_1614_1650',\n",
       " '- cvut_intervals/20190819-Kutna Hora-L14-out-MVI_0005_1650_1666',\n",
       " '- cvut_intervals/20190819-Kutna Hora-L14-out-MVI_0005_1666_1698',\n",
       " '- cvut_intervals/20190819-Kutna Hora-L14-out-MVI_0005_1698_1771',\n",
       " '- cvut_intervals/20190819-Kutna Hora-L14-out-MVI_0005_1771_1838',\n",
       " '- cvut_intervals/20190819-Kutna Hora-L14-out-MVI_0005_1838_1873',\n",
       " '- cvut_intervals/20190819-Kutna Hora-L14-out-MVI_0005_1873_1909',\n",
       " '- cvut_intervals/20190819-Kutna Hora-L14-out-MVI_0005_1909_1956',\n",
       " '- cvut_intervals/20190819-Kutna Hora-L14-out-MVI_0005_1956_1994',\n",
       " '- cvut_intervals/20190819-Kutna Hora-L14-out-MVI_0005_1994_2022',\n",
       " '- cvut_intervals/20190819-Kutna Hora-L14-out-MVI_0005_2022_2069',\n",
       " '- cvut_intervals/20190819-Kutna Hora-L18-in-MVI_0030_0_268',\n",
       " '- cvut_intervals/20190819-Kutna Hora-L18-in-MVI_0030_268_1360',\n",
       " '- cvut_intervals/20190819-Kutna Hora-L18-in-MVI_0030_1360_1878',\n",
       " '- cvut_intervals/20190819-Kutna Hora-L18-in-MVI_0030_1878_2065',\n",
       " '- cvut_intervals/20190819-Ricany-L2-in-MVI_0006_0_195',\n",
       " '- cvut_intervals/20190819-Ricany-L2-in-MVI_0006_195_354',\n",
       " '- cvut_intervals/20190819-Ricany-L2-in-MVI_0006_354_387',\n",
       " '- cvut_intervals/20190819-Ricany-L2-in-MVI_0006_387_702',\n",
       " '- cvut_intervals/20190819-Ricany-L2-in-MVI_0006_702_933',\n",
       " '- cvut_intervals/20190819-Ricany-L2-in-MVI_0006_933_1153',\n",
       " '- cvut_intervals/20190819-Ricany-L2-in-MVI_0006_1153_1293',\n",
       " '- cvut_intervals/20190819-Ricany-L2-in-MVI_0006_1293_1363',\n",
       " '- cvut_intervals/20190819-Ricany-L2-in-MVI_0006_1363_1530',\n",
       " '- cvut_intervals/20190819-Ricany-L2-in-MVI_0006_1530_1630',\n",
       " '- cvut_intervals/20190819-Ricany-L2-in-MVI_0006_1630_1653',\n",
       " '- cvut_intervals/20190819-Ricany-L2-in-MVI_0006_1653_1917',\n",
       " '- cvut_intervals/20190819-Ricany-L2-in-MVI_0006_1917_1955',\n",
       " '- cvut_intervals/20190819-Ricany-L2-in-MVI_0006_1955_2001',\n",
       " '- cvut_intervals/20190819-Ricany-L2-in-MVI_0006_2001_2068',\n",
       " '- cvut_intervals/20190819-Ricany-L6-out-MVI_0011_0_379',\n",
       " '- cvut_intervals/20190819-Ricany-L6-out-MVI_0011_379_415',\n",
       " '- cvut_intervals/20190819-Ricany-L6-out-MVI_0011_415_600',\n",
       " '- cvut_intervals/20190819-Ricany-L6-out-MVI_0011_600_645',\n",
       " '- cvut_intervals/20190819-Ricany-L6-out-MVI_0011_645_1469',\n",
       " '- cvut_intervals/20190819-Ricany-L6-out-MVI_0011_1469_1493',\n",
       " '- cvut_intervals/20190819-Ricany-L6-out-MVI_0011_1493_1506',\n",
       " '- cvut_intervals/20190819-Ricany-L6-out-MVI_0011_1506_1567',\n",
       " '- cvut_intervals/20190819-Ricany-L6-out-MVI_0011_1567_1710',\n",
       " '- cvut_intervals/20190819-Ricany-L6-out-MVI_0011_1710_1816',\n",
       " '- cvut_intervals/20190819-Ricany-L6-out-MVI_0011_1816_2055']"
      ]
     },
     "execution_count": 11,
     "metadata": {},
     "output_type": "execute_result"
    }
   ],
   "source": []
  },
  {
   "cell_type": "code",
   "execution_count": 6,
   "metadata": {},
   "outputs": [
    {
     "data": {
      "text/plain": [
       "tensor([0.0279, 0.0766, 0.1262,  ..., 0.0258, 0.0179, 0.0104])"
      ]
     },
     "execution_count": 6,
     "metadata": {},
     "output_type": "execute_result"
    }
   ],
   "source": [
    "load_audio('cvut_intervals/20190819-Ricany-L6-out-MVI_0011_0_379')"
   ]
  },
  {
   "cell_type": "code",
   "execution_count": null,
   "metadata": {},
   "outputs": [],
   "source": []
  }
 ],
 "metadata": {
  "interpreter": {
   "hash": "5c5367881cd1cf07ff91f385af2760a91324c2d338b276ec1210beedc2863863"
  },
  "kernelspec": {
   "display_name": "Python 3.9.0 ('dev')",
   "language": "python",
   "name": "python3"
  },
  "language_info": {
   "codemirror_mode": {
    "name": "ipython",
    "version": 3
   },
   "file_extension": ".py",
   "mimetype": "text/x-python",
   "name": "python",
   "nbconvert_exporter": "python",
   "pygments_lexer": "ipython3",
   "version": "3.9.0"
  },
  "orig_nbformat": 4
 },
 "nbformat": 4,
 "nbformat_minor": 2
}

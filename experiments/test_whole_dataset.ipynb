{
 "cells": [
  {
   "cell_type": "code",
   "execution_count": 1,
   "id": "795d29f3",
   "metadata": {},
   "outputs": [],
   "source": [
    "%load_ext autoreload\n",
    "%autoreload 2"
   ]
  },
  {
   "cell_type": "code",
   "execution_count": 2,
   "id": "b58d1459",
   "metadata": {},
   "outputs": [],
   "source": [
    "from model.classification import *\n",
    "from src import *\n",
    "import matplotlib.pyplot as plt\n",
    "from tqdm.notebook import tqdm\n",
    "\n",
    "device = torch.device(f'cuda:0' if torch.cuda.is_available() else 'cpu')"
   ]
  },
  {
   "cell_type": "code",
   "execution_count": 3,
   "id": "531b068c",
   "metadata": {},
   "outputs": [],
   "source": [
    "files = [\n",
    "    '20190819-Kutna Hora-L1-out-MVI_0007',\n",
    "    '20190819-Kutna Hora-L3-in-MVI_0005',\n",
    "    '20190819-Kutna Hora-L3-out-MVI_0008',\n",
    "    '20190819-Kutna Hora-L4-in-MVI_0013',\n",
    "    '20190819-Kutna Hora-L6-out-MVI_0017',\n",
    "    '20190819-Kutna Hora-L7-out-MVI_0032',\n",
    "    '20190819-Kutna Hora-L8-in-MVI_0045',\n",
    "    '20190819-Kutna Hora-L9-in-MVI_0043',\n",
    "    '20190819-Kutna Hora-L10-out-SDV_1888',\n",
    "    '20190819-Kutna Hora-L13-in-MVI_0006',\n",
    "    '20190819-Kutna Hora-L13-out-MVI_0018',\n",
    "    '20190819-Kutna Hora-L14-out-MVI_0005',\n",
    "    '20190819-Kutna Hora-L15-out-MVI_0012',\n",
    "    '20190819-Kutna Hora-L18-in-MVI_0030',\n",
    "    '20190819-Ricany-L2-in-MVI_0006',\n",
    "    '20190819-Ricany-L2-out-MVI_0005',\n",
    "    '20190819-Ricany-L3-in-MVI_0006',\n",
    "    '20190819-Ricany-L6-in-MVI_0008',\n",
    "    '20190819-Ricany-L6-out-MVI_0011',\n",
    "    '20190819-Ricany-L7-in-MVI_0008',\n",
    "    '20190819-Ricany-L7-out-MVI_0013',\n",
    "    '20190819-Ricany-L8-in-MVI_0009',\n",
    "    '20190819-Ricany-L8-out-MVI_0013',\n",
    "    '20190819-Ricany-L9-in-MVI_0008',\n",
    "    '20190819-Ricany-L9-out-MVI_0011'\n",
    "]"
   ]
  },
  {
   "cell_type": "code",
   "execution_count": 4,
   "id": "d08abaa7",
   "metadata": {},
   "outputs": [
    {
     "data": {
      "application/vnd.jupyter.widget-view+json": {
       "model_id": "9e3f0ef9088e4a48a741c08d318c6de2",
       "version_major": 2,
       "version_minor": 0
      },
      "text/plain": [
       "Video loading:   0%|          | 0/25 [00:00<?, ?it/s]"
      ]
     },
     "metadata": {},
     "output_type": "display_data"
    }
   ],
   "source": [
    "datapool = DataPool(files, window_length=6, split_ratio=0.75, tqdm=tqdm)"
   ]
  },
  {
   "cell_type": "code",
   "execution_count": 5,
   "id": "86626c1c",
   "metadata": {},
   "outputs": [],
   "source": [
    "uuid = 1637706373\n",
    "# suffix = 'diff'\n",
    "# suffix = 'mae'\n",
    "suffix = 'interval'\n",
    "model, params = load_model(uuid, suffix)\n",
    "transform = create_transformation(params)"
   ]
  },
  {
   "cell_type": "code",
   "execution_count": 6,
   "id": "4bfaf560",
   "metadata": {},
   "outputs": [],
   "source": [
    "def test(is_trn=True):\n",
    "    outputs = []\n",
    "\n",
    "    for video in tqdm(datapool):\n",
    "        n_events = video.get_events_count(is_trn)\n",
    "        from_time, till_time = video.get_from_till_time(is_trn)\n",
    "\n",
    "        predictions = validate(video.signal, model, transform, params, from_time=from_time, till_time=till_time, classification=True)\n",
    "        mae = get_diff(video.signal, video.events, predictions, params, from_time, till_time)\n",
    "\n",
    "        n_predicted = predictions.sum()\n",
    "        rvce = np.abs(n_predicted - n_events) / n_events\n",
    "        error = n_predicted - n_events\n",
    "        outputs.append([f'{rvce:.3f}', error, n_events, f'{mae:.3f}', f'[{from_time:.0f}, {till_time:.0f}]  {video.file}'])\n",
    "\n",
    "    outputs = np.array(outputs)\n",
    "    idx = np.argsort(outputs[:, 0].astype(float))\n",
    "    outputs = outputs[idx]\n",
    "\n",
    "    rvce = outputs[:, 0].astype(float).mean()\n",
    "\n",
    "    print('rvce', rvce)\n",
    "    \n",
    "    return outputs\n",
    "\n",
    "def print_outputs(outputs):\n",
    "    print(' # |  rvce | error | n_events |     mae | file')\n",
    "    print('– ' * 50)\n",
    "    for i, row in enumerate(outputs):\n",
    "        row[0]\n",
    "        print(f'{i + 1:>2} | {row[0]} | {row[1]:>5} | {row[2]:>8} | {row[3]:>7} | {row[4]}')\n",
    "    print('– ' * 50)\n",
    "    mean_rvce = outputs[:, 0].astype(float).mean()\n",
    "    mean_error = outputs[:, 1].astype(int).mean()\n",
    "    mean_n_events = outputs[:, 2].astype(int).mean()\n",
    "    mean_mae = outputs[:, 3].astype(float).mean()\n",
    "    print(f'   | {mean_rvce:.3f} | {mean_error:>5} | {mean_n_events:>8} | {mean_mae:7.4} | ')\n",
    "    \n",
    "    "
   ]
  },
  {
   "cell_type": "code",
   "execution_count": 7,
   "id": "421b0cd8",
   "metadata": {},
   "outputs": [
    {
     "data": {
      "application/vnd.jupyter.widget-view+json": {
       "model_id": "ba1a78aa64724bfab4393adc5853601d",
       "version_major": 2,
       "version_minor": 0
      },
      "text/plain": [
       "  0%|          | 0/25 [00:00<?, ?it/s]"
      ]
     },
     "metadata": {},
     "output_type": "display_data"
    },
    {
     "name": "stdout",
     "output_type": "stream",
     "text": [
      "rvce 0.05552000000000001\n"
     ]
    },
    {
     "data": {
      "application/vnd.jupyter.widget-view+json": {
       "model_id": "595e207816a04d13a487efff22974cdc",
       "version_major": 2,
       "version_minor": 0
      },
      "text/plain": [
       "  0%|          | 0/25 [00:00<?, ?it/s]"
      ]
     },
     "metadata": {},
     "output_type": "display_data"
    },
    {
     "name": "stdout",
     "output_type": "stream",
     "text": [
      "rvce 0.03548\n"
     ]
    }
   ],
   "source": [
    "val_outputs = test(is_trn=False)\n",
    "trn_outputs = test(is_trn=True)"
   ]
  },
  {
   "cell_type": "code",
   "execution_count": 10,
   "id": "340d866f",
   "metadata": {},
   "outputs": [
    {
     "name": "stdout",
     "output_type": "stream",
     "text": [
      " # |  rvce | error | n_events |     mae | file\n",
      "– – – – – – – – – – – – – – – – – – – – – – – – – – – – – – – – – – – – – – – – – – – – – – – – – – \n",
      " 1 | 0.000 |     0 |        6 |   0.000 | [0, 1620]  20190819-Kutna Hora-L13-in-MVI_0006\n",
      " 2 | 0.000 |     0 |       49 |   0.008 | [0, 1584]  20190819-Ricany-L9-in-MVI_0008\n",
      " 3 | 0.000 |     0 |      218 |   1.096 | [0, 942]  20190819-Ricany-L3-in-MVI_0006\n",
      " 4 | 0.004 |     1 |      258 |   1.220 | [0, 1524]  20190819-Ricany-L8-in-MVI_0009\n",
      " 5 | 0.004 |     2 |      504 |   2.639 | [0, 1362]  20190819-Kutna Hora-L18-in-MVI_0030\n",
      " 6 | 0.005 |    -1 |      217 |   0.694 | [0, 1590]  20190819-Ricany-L7-out-MVI_0013\n",
      " 7 | 0.006 |     1 |      173 |   0.746 | [0, 1560]  20190819-Kutna Hora-L3-out-MVI_0008\n",
      " 8 | 0.014 |    -3 |      208 |   3.103 | [0, 1566]  20190819-Kutna Hora-L1-out-MVI_0007\n",
      " 9 | 0.016 |     5 |      317 |   2.485 | [0, 1422]  20190819-Ricany-L7-in-MVI_0008\n",
      "10 | 0.022 |    13 |      578 |   7.375 | [0, 1566]  20190819-Ricany-L6-out-MVI_0011\n",
      "11 | 0.024 |     5 |      207 |   3.423 | [0, 1518]  20190819-Kutna Hora-L3-in-MVI_0005\n",
      "12 | 0.026 |     5 |      190 |   3.463 | [0, 1530]  20190819-Kutna Hora-L14-out-MVI_0005\n",
      "13 | 0.028 |     1 |       36 |   0.345 | [0, 1566]  20190819-Kutna Hora-L7-out-MVI_0032\n",
      "14 | 0.031 |    -6 |      192 |   3.121 | [0, 2820]  20190819-Kutna Hora-L10-out-SDV_1888\n",
      "15 | 0.042 |     4 |       96 |   1.722 | [0, 1578]  20190819-Kutna Hora-L9-in-MVI_0043\n",
      "16 | 0.043 |    -2 |       47 |   1.780 | [0, 1554]  20190819-Ricany-L9-out-MVI_0011\n",
      "17 | 0.046 |    18 |      393 |   8.486 | [0, 1530]  20190819-Ricany-L2-in-MVI_0006\n",
      "18 | 0.051 |    -8 |      157 |   3.528 | [0, 1410]  20190819-Kutna Hora-L8-in-MVI_0045\n",
      "19 | 0.051 |   -14 |      273 |   6.342 | [0, 1596]  20190819-Ricany-L8-out-MVI_0013\n",
      "20 | 0.051 |    27 |      529 |  10.834 | [0, 1812]  20190819-Ricany-L2-out-MVI_0005\n",
      "21 | 0.064 |    43 |      671 |  23.703 | [0, 1596]  20190819-Ricany-L6-in-MVI_0008\n",
      "22 | 0.077 |     1 |       13 |   0.836 | [0, 1680]  20190819-Kutna Hora-L13-out-MVI_0018\n",
      "23 | 0.077 |    -1 |       13 |   1.000 | [0, 1482]  20190819-Kutna Hora-L6-out-MVI_0017\n",
      "24 | 0.080 |    10 |      125 |   4.535 | [0, 1536]  20190819-Kutna Hora-L4-in-MVI_0013\n",
      "25 | 0.125 |     1 |        8 |   0.394 | [0, 1554]  20190819-Kutna Hora-L15-out-MVI_0012\n",
      "– – – – – – – – – – – – – – – – – – – – – – – – – – – – – – – – – – – – – – – – – – – – – – – – – – \n",
      "   | 0.035 |  4.08 |   219.12 |   3.715 | \n"
     ]
    }
   ],
   "source": [
    "print_outputs(trn_outputs)"
   ]
  },
  {
   "cell_type": "code",
   "execution_count": 11,
   "id": "29120cce",
   "metadata": {},
   "outputs": [
    {
     "name": "stdout",
     "output_type": "stream",
     "text": [
      " # |  rvce | error | n_events |     mae | file\n",
      "– – – – – – – – – – – – – – – – – – – – – – – – – – – – – – – – – – – – – – – – – – – – – – – – – – \n",
      " 1 | 0.000 |     0 |        2 |   0.000 | [1554, 2052]  20190819-Kutna Hora-L15-out-MVI_0012\n",
      " 2 | 0.000 |     0 |       42 |   0.899 | [1530, 2064]  20190819-Kutna Hora-L14-out-MVI_0005\n",
      " 3 | 0.000 |     0 |        1 |   0.000 | [1680, 2046]  20190819-Kutna Hora-L13-out-MVI_0018\n",
      " 4 | 0.000 |     0 |        2 |   0.000 | [1620, 2040]  20190819-Kutna Hora-L13-in-MVI_0006\n",
      " 5 | 0.000 |     0 |       11 |   0.171 | [1566, 2058]  20190819-Kutna Hora-L7-out-MVI_0032\n",
      " 6 | 0.000 |     0 |       12 |   0.286 | [1554, 2058]  20190819-Ricany-L9-out-MVI_0011\n",
      " 7 | 0.000 |     0 |        4 |   0.000 | [1482, 2046]  20190819-Kutna Hora-L6-out-MVI_0017\n",
      " 8 | 0.006 |    -1 |      161 |   1.078 | [1596, 2058]  20190819-Ricany-L6-in-MVI_0008\n",
      " 9 | 0.013 |     1 |       77 |   2.772 | [1590, 2064]  20190819-Ricany-L7-out-MVI_0013\n",
      "10 | 0.025 |     4 |      157 |   6.580 | [1566, 2052]  20190819-Ricany-L6-out-MVI_0011\n",
      "11 | 0.026 |    -6 |      231 |   5.342 | [1362, 2064]  20190819-Kutna Hora-L18-in-MVI_0030\n",
      "12 | 0.028 |    -3 |      106 |   4.022 | [1530, 2064]  20190819-Ricany-L2-in-MVI_0006\n",
      "13 | 0.039 |    -3 |       76 |   1.644 | [1518, 2058]  20190819-Kutna Hora-L3-in-MVI_0005\n",
      "14 | 0.041 |    -4 |       97 |   2.724 | [1524, 2046]  20190819-Ricany-L8-in-MVI_0009\n",
      "15 | 0.042 |    -2 |       48 |   2.412 | [1410, 1920]  20190819-Kutna Hora-L8-in-MVI_0045\n",
      "16 | 0.045 |    -1 |       22 |   0.691 | [1578, 2064]  20190819-Kutna Hora-L9-in-MVI_0043\n",
      "17 | 0.045 |    -8 |      176 |   7.355 | [1422, 2064]  20190819-Ricany-L7-in-MVI_0008\n",
      "18 | 0.049 |    -3 |       61 |   1.167 | [1812, 2064]  20190819-Ricany-L2-out-MVI_0005\n",
      "19 | 0.065 |     5 |       77 |   3.595 | [1560, 2064]  20190819-Kutna Hora-L3-out-MVI_0008\n",
      "20 | 0.097 |    -6 |       62 |   3.519 | [1596, 2058]  20190819-Ricany-L8-out-MVI_0013\n",
      "21 | 0.100 |     4 |       40 |   1.267 | [1536, 2052]  20190819-Kutna Hora-L4-in-MVI_0013\n",
      "22 | 0.116 |   -10 |       86 |   2.928 | [1566, 2064]  20190819-Kutna Hora-L1-out-MVI_0007\n",
      "23 | 0.201 |   -48 |      239 |  27.775 | [942, 2064]  20190819-Ricany-L3-in-MVI_0006\n",
      "24 | 0.214 |     3 |       14 |   1.225 | [1584, 2064]  20190819-Ricany-L9-in-MVI_0008\n",
      "25 | 0.236 |   -17 |       72 |   8.465 | [2820, 3750]  20190819-Kutna Hora-L10-out-SDV_1888\n",
      "– – – – – – – – – – – – – – – – – – – – – – – – – – – – – – – – – – – – – – – – – – – – – – – – – – \n",
      "   | 0.056 |  -3.8 |    75.04 |   3.437 | \n"
     ]
    }
   ],
   "source": [
    "print_outputs(val_outputs)"
   ]
  },
  {
   "cell_type": "code",
   "execution_count": null,
   "id": "a3232d40",
   "metadata": {},
   "outputs": [],
   "source": []
  }
 ],
 "metadata": {
  "kernelspec": {
   "display_name": "Python 3 (ipykernel)",
   "language": "python",
   "name": "python3"
  },
  "language_info": {
   "codemirror_mode": {
    "name": "ipython",
    "version": 3
   },
   "file_extension": ".py",
   "mimetype": "text/x-python",
   "name": "python",
   "nbconvert_exporter": "python",
   "pygments_lexer": "ipython3",
   "version": "3.9.0"
  }
 },
 "nbformat": 4,
 "nbformat_minor": 5
}

{
 "cells": [
  {
   "cell_type": "code",
   "execution_count": 1,
   "id": "4ede6c8e",
   "metadata": {},
   "outputs": [],
   "source": [
    "%load_ext autoreload\n",
    "%autoreload 2\n",
    "import os\n",
    "\n",
    "os.chdir('..')"
   ]
  },
  {
   "cell_type": "code",
   "execution_count": 2,
   "id": "d54ea67f",
   "metadata": {},
   "outputs": [],
   "source": [
    "from src import *\n",
    "from model.classification import *\n",
    "\n",
    "from tqdm.notebook import tqdm\n",
    "from IPython.display import HTML\n",
    "import matplotlib as mpl\n",
    "import matplotlib.pyplot as plt\n",
    "import matplotlib.colors as mcolors\n",
    "\n",
    "import torch.nn as nn\n",
    "from sklearn.manifold import TSNE\n",
    "from sklearn.decomposition import PCA\n",
    "import yaml\n",
    "from glob import glob\n",
    "from tabulate import tabulate"
   ]
  },
  {
   "cell_type": "code",
   "execution_count": 12,
   "id": "f0a3246c",
   "metadata": {
    "scrolled": true
   },
   "outputs": [
    {
     "name": "stdout",
     "output_type": "stream",
     "text": [
      "╒════╤════════╤═════════╤════════════╤═══════╤═════════════════════════════════════════════════╕\n",
      "│    │   rvce │   error │   n_events │   mae │ file                                            │\n",
      "╞════╪════════╪═════════╪════════════╪═══════╪═════════════════════════════════════════════════╡\n",
      "│  0 │  0.026 │       6 │        232 │ 0.465 │ [0, 2069]  20190819-Kutna Hora-L14-out-MVI_0005 │\n",
      "├────┼────────┼─────────┼────────────┼───────┼─────────────────────────────────────────────────┤\n",
      "│  1 │  0.03  │       8 │        265 │ 0.328 │ [0, 3752]  20190819-Kutna Hora-L10-out-SDV_1888 │\n",
      "├────┼────────┼─────────┼────────────┼───────┼─────────────────────────────────────────────────┤\n",
      "│  2 │  0.101 │     -30 │        296 │ 0.448 │ [0, 2067]  20190819-Kutna Hora-L1-out-MVI_0007  │\n",
      "├────┼────────┼─────────┼────────────┼───────┼─────────────────────────────────────────────────┤\n",
      "│  3 │  0.127 │      -8 │         63 │ 0.064 │ [0, 2068]  20190819-Ricany-L9-in-MVI_0008       │\n",
      "├────┼────────┼─────────┼────────────┼───────┼─────────────────────────────────────────────────┤\n",
      "│  4 │  0.236 │    -108 │        457 │ 0.698 │ [0, 2068]  20190819-Ricany-L3-in-MVI_0006       │\n",
      "├────┼────────┼─────────┼────────────┼───────┼─────────────────────────────────────────────────┤\n",
      "│  5 │  0.042 │      14 │        336 │ 0.434 │ [0, 2062]  20190819-Ricany-L8-out-MVI_0013      │\n",
      "├────┼────────┼─────────┼────────────┼───────┼─────────────────────────────────────────────────┤\n",
      "│  6 │  0.211 │      60 │        285 │ 0.379 │ [0, 2059]  20190819-Kutna Hora-L3-in-MVI_0005   │\n",
      "├────┼────────┼─────────┼────────────┼───────┼─────────────────────────────────────────────────┤\n",
      "│  7 │  0.234 │     -11 │         47 │ 0.05  │ [0, 2062]  20190819-Kutna Hora-L7-out-MVI_0032  │\n",
      "├────┼────────┼─────────┼────────────┼───────┼─────────────────────────────────────────────────┤\n",
      "│  8 │  0.353 │    -260 │        737 │ 1.221 │ [0, 2065]  20190819-Kutna Hora-L18-in-MVI_0030  │\n",
      "├────┼────────┼─────────┼────────────┼───────┼─────────────────────────────────────────────────┤\n",
      "│  9 │  2.375 │      19 │          8 │ 0.056 │ [0, 2042]  20190819-Kutna Hora-L13-in-MVI_0006  │\n",
      "├────┼────────┼─────────┼────────────┼───────┼─────────────────────────────────────────────────┤\n",
      "│ 10 │  0.059 │      -1 │         17 │ 0.015 │ [0, 2048]  20190819-Kutna Hora-L6-out-MVI_0017  │\n",
      "├────┼────────┼─────────┼────────────┼───────┼─────────────────────────────────────────────────┤\n",
      "│ 11 │  0.076 │     -45 │        592 │ 0.706 │ [0, 2065]  20190819-Ricany-L2-out-MVI_0005      │\n",
      "├────┼────────┼─────────┼────────────┼───────┼─────────────────────────────────────────────────┤\n",
      "│ 12 │  0.157 │      26 │        166 │ 0.26  │ [0, 2057]  20190819-Kutna Hora-L4-in-MVI_0013   │\n",
      "├────┼────────┼─────────┼────────────┼───────┼─────────────────────────────────────────────────┤\n",
      "│ 13 │  0.2   │      -2 │         10 │ 0.006 │ [0, 2055]  20190819-Kutna Hora-L15-out-MVI_0012 │\n",
      "├────┼────────┼─────────┼────────────┼───────┼─────────────────────────────────────────────────┤\n",
      "│ 14 │  0.656 │     164 │        250 │ 0.779 │ [0, 2065]  20190819-Kutna Hora-L3-out-MVI_0008  │\n",
      "├────┼────────┼─────────┼────────────┼───────┼─────────────────────────────────────────────────┤\n",
      "│ 15 │  0.054 │     -16 │        294 │ 0.343 │ [0, 2067]  20190819-Ricany-L7-out-MVI_0013      │\n",
      "├────┼────────┼─────────┼────────────┼───────┼─────────────────────────────────────────────────┤\n",
      "│ 16 │  0.222 │      79 │        356 │ 0.493 │ [0, 2051]  20190819-Ricany-L8-in-MVI_0009       │\n",
      "├────┼────────┼─────────┼────────────┼───────┼─────────────────────────────────────────────────┤\n",
      "│ 17 │  0.277 │    -231 │        833 │ 0.95  │ [0, 2060]  20190819-Ricany-L6-in-MVI_0008       │\n",
      "├────┼────────┼─────────┼────────────┼───────┼─────────────────────────────────────────────────┤\n",
      "│ 18 │  0.284 │    -209 │        737 │ 0.845 │ [0, 2055]  20190819-Ricany-L6-out-MVI_0011      │\n",
      "├────┼────────┼─────────┼────────────┼───────┼─────────────────────────────────────────────────┤\n",
      "│ 19 │  0.373 │     -22 │         59 │ 0.093 │ [0, 2062]  20190819-Ricany-L9-out-MVI_0011      │\n",
      "├────┼────────┼─────────┼────────────┼───────┼─────────────────────────────────────────────────┤\n",
      "│ 20 │  0.004 │      -2 │        495 │ 0.703 │ [0, 2067]  20190819-Ricany-L7-in-MVI_0008       │\n",
      "├────┼────────┼─────────┼────────────┼───────┼─────────────────────────────────────────────────┤\n",
      "│ 21 │  0.017 │      -2 │        118 │ 0.14  │ [0, 2065]  20190819-Kutna Hora-L9-in-MVI_0043   │\n",
      "├────┼────────┼─────────┼────────────┼───────┼─────────────────────────────────────────────────┤\n",
      "│ 22 │  0.09  │     -45 │        502 │ 0.477 │ [0, 2068]  20190819-Ricany-L2-in-MVI_0006       │\n",
      "├────┼────────┼─────────┼────────────┼───────┼─────────────────────────────────────────────────┤\n",
      "│ 23 │  0.203 │     -42 │        207 │ 0.287 │ [0, 1925]  20190819-Kutna Hora-L8-in-MVI_0045   │\n",
      "├────┼────────┼─────────┼────────────┼───────┼─────────────────────────────────────────────────┤\n",
      "│ 24 │  0.286 │       4 │         14 │ 0.018 │ [0, 2046]  20190819-Kutna Hora-L13-out-MVI_0018 │\n",
      "╘════╧════════╧═════════╧════════════╧═══════╧═════════════════════════════════════════════════╛\n"
     ]
    }
   ],
   "source": [
    "table = []\n",
    "for i in range(5):\n",
    "    file = f'outputs/cross_validation_5/{i}/results/tst_output.csv'\n",
    "    rows = np.genfromtxt(file, delimiter=';', skip_header=1, dtype=str)\n",
    "    rows = np.atleast_2d(rows)\n",
    "    table.extend(rows)\n",
    "\n",
    "print(tabulate(table, headers=['rvce', 'error', 'n_events', 'mae', 'file'], tablefmt='fancy_grid', showindex=True))"
   ]
  },
  {
   "cell_type": "code",
   "execution_count": 4,
   "id": "f9d93ee8",
   "metadata": {},
   "outputs": [
    {
     "data": {
      "text/plain": [
       "['outputs/cross_validation_5/1/results/tst_output.csv',\n",
       " 'outputs/cross_validation_5/2/results/tst_output.csv',\n",
       " 'outputs/cross_validation_5/0/results/tst_output.csv',\n",
       " 'outputs/cross_validation_5/4/results/tst_output.csv',\n",
       " 'outputs/cross_validation_5/3/results/tst_output.csv']"
      ]
     },
     "execution_count": 4,
     "metadata": {},
     "output_type": "execute_result"
    }
   ],
   "source": [
    "files"
   ]
  },
  {
   "cell_type": "code",
   "execution_count": 4,
   "id": "6cdeb776",
   "metadata": {},
   "outputs": [
    {
     "name": "stdout",
     "output_type": "stream",
     "text": [
      "╒════╤════════╤═════════╤════════════╤═════════╤═════════════════════════════════════════════════╕\n",
      "│    │   rvce │   error │   n_events │     mae │ file                                            │\n",
      "╞════╪════════╪═════════╪════════════╪═════════╪═════════════════════════════════════════════════╡\n",
      "│  0 │  0.059 │      -1 │         17 │   1.009 │ [0, 2048]  20190819-Kutna Hora-L6-out-MVI_0017  │\n",
      "├────┼────────┼─────────┼────────────┼─────────┼─────────────────────────────────────────────────┤\n",
      "│  1 │  0.104 │     -37 │        356 │  22.862 │ [0, 2051]  20190819-Ricany-L8-in-MVI_0009       │\n",
      "├────┼────────┼─────────┼────────────┼─────────┼─────────────────────────────────────────────────┤\n",
      "│  2 │  0.027 │      -8 │        294 │   4.602 │ [0, 2067]  20190819-Ricany-L7-out-MVI_0013      │\n",
      "├────┼────────┼─────────┼────────────┼─────────┼─────────────────────────────────────────────────┤\n",
      "│  3 │  0.197 │     -90 │        457 │  44.541 │ [0, 2068]  20190819-Ricany-L3-in-MVI_0006       │\n",
      "├────┼────────┼─────────┼────────────┼─────────┼─────────────────────────────────────────────────┤\n",
      "│  4 │  0.113 │     -83 │        737 │  41.558 │ [0, 2055]  20190819-Ricany-L6-out-MVI_0011      │\n",
      "├────┼────────┼─────────┼────────────┼─────────┼─────────────────────────────────────────────────┤\n",
      "│  5 │  0.351 │     104 │        296 │  63.177 │ [0, 2067]  20190819-Kutna Hora-L1-out-MVI_0007  │\n",
      "├────┼────────┼─────────┼────────────┼─────────┼─────────────────────────────────────────────────┤\n",
      "│  6 │  0.292 │    -215 │        737 │ 108.459 │ [0, 2065]  20190819-Kutna Hora-L18-in-MVI_0030  │\n",
      "├────┼────────┼─────────┼────────────┼─────────┼─────────────────────────────────────────────────┤\n",
      "│  7 │  0.11  │     -65 │        592 │  32.869 │ [0, 2065]  20190819-Ricany-L2-out-MVI_0005      │\n",
      "├────┼────────┼─────────┼────────────┼─────────┼─────────────────────────────────────────────────┤\n",
      "│  8 │  0.264 │     -70 │        265 │  39.736 │ [0, 3752]  20190819-Kutna Hora-L10-out-SDV_1888 │\n",
      "├────┼────────┼─────────┼────────────┼─────────┼─────────────────────────────────────────────────┤\n",
      "│  9 │  0.021 │      -1 │         47 │   0.493 │ [0, 2062]  20190819-Kutna Hora-L7-out-MVI_0032  │\n",
      "├────┼────────┼─────────┼────────────┼─────────┼─────────────────────────────────────────────────┤\n",
      "│ 10 │  0.03  │       7 │        232 │   8.91  │ [0, 2069]  20190819-Kutna Hora-L14-out-MVI_0005 │\n",
      "├────┼────────┼─────────┼────────────┼─────────┼─────────────────────────────────────────────────┤\n",
      "│ 11 │  4     │      32 │          8 │  13.274 │ [0, 2042]  20190819-Kutna Hora-L13-in-MVI_0006  │\n",
      "├────┼────────┼─────────┼────────────┼─────────┼─────────────────────────────────────────────────┤\n",
      "│ 12 │  0.084 │      24 │        285 │  13.096 │ [0, 2059]  20190819-Kutna Hora-L3-in-MVI_0005   │\n",
      "├────┼────────┼─────────┼────────────┼─────────┼─────────────────────────────────────────────────┤\n",
      "│ 13 │  0.261 │    -217 │        833 │ 116.222 │ [0, 2060]  20190819-Ricany-L6-in-MVI_0008       │\n",
      "├────┼────────┼─────────┼────────────┼─────────┼─────────────────────────────────────────────────┤\n",
      "│ 14 │  0.708 │     177 │        250 │  84.267 │ [0, 2065]  20190819-Kutna Hora-L3-out-MVI_0008  │\n",
      "├────┼────────┼─────────┼────────────┼─────────┼─────────────────────────────────────────────────┤\n",
      "│ 15 │  0.163 │     -27 │        166 │  20.848 │ [0, 2057]  20190819-Kutna Hora-L4-in-MVI_0013   │\n",
      "├────┼────────┼─────────┼────────────┼─────────┼─────────────────────────────────────────────────┤\n",
      "│ 16 │  0     │       0 │         63 │   2.041 │ [0, 2068]  20190819-Ricany-L9-in-MVI_0008       │\n",
      "├────┼────────┼─────────┼────────────┼─────────┼─────────────────────────────────────────────────┤\n",
      "│ 17 │  0.08  │     -27 │        336 │  18.848 │ [0, 2062]  20190819-Ricany-L8-out-MVI_0013      │\n",
      "├────┼────────┼─────────┼────────────┼─────────┼─────────────────────────────────────────────────┤\n",
      "│ 18 │  0.2   │      -2 │         10 │   1.009 │ [0, 2055]  20190819-Kutna Hora-L15-out-MVI_0012 │\n",
      "╘════╧════════╧═════════╧════════════╧═════════╧═════════════════════════════════════════════════╛\n"
     ]
    }
   ],
   "source": [
    "files = glob('outputs/cross_validation_25/*/results/tst_output.csv')\n",
    "\n",
    "table = []\n",
    "for file in files:\n",
    "    row = np.genfromtxt(file, delimiter=';', skip_header=1, dtype=str)\n",
    "    table.append(row)\n",
    "\n",
    "print(tabulate(table, headers=['rvce', 'error', 'n_events', 'mae', 'file'], tablefmt='fancy_grid', showindex=True))"
   ]
  },
  {
   "cell_type": "code",
   "execution_count": 6,
   "id": "e9925b9b",
   "metadata": {},
   "outputs": [],
   "source": [
    "with open(f'config/dataset/dataset_26.11.2021.yaml', 'r') as stream:\n",
    "    dataset = yaml.safe_load(stream)"
   ]
  },
  {
   "cell_type": "code",
   "execution_count": 7,
   "id": "44b59f5e",
   "metadata": {},
   "outputs": [
    {
     "data": {
      "application/vnd.jupyter.widget-view+json": {
       "model_id": "a69478ed677d4c649578976c7f33317a",
       "version_major": 2,
       "version_minor": 0
      },
      "text/plain": [
       "Video loading:   0%|          | 0/26 [00:00<?, ?it/s]"
      ]
     },
     "metadata": {},
     "output_type": "display_data"
    }
   ],
   "source": [
    "datapool = DataPool(dataset, 6.0, 0.75, tqdm=tqdm)"
   ]
  },
  {
   "cell_type": "code",
   "execution_count": 13,
   "id": "acc3a43e",
   "metadata": {},
   "outputs": [
    {
     "data": {
      "text/plain": [
       "<module 'src.datapool' from '/home/yermaand/audio-nn/src/datapool.py'>"
      ]
     },
     "execution_count": 13,
     "metadata": {},
     "output_type": "execute_result"
    }
   ],
   "source": []
  },
  {
   "cell_type": "code",
   "execution_count": 8,
   "id": "5cf6112e",
   "metadata": {},
   "outputs": [],
   "source": [
    "folds = 19\n",
    "trn_folds = [f'config/training_files/cross_validation_28.01.2021/{i}.yaml' for i in range(folds)]\n",
    "tst_folds = [f'config/testing_files/cross_validation_28.01.2021/{i}.yaml' for i in range(folds)]"
   ]
  },
  {
   "cell_type": "code",
   "execution_count": 6,
   "id": "1bda4b44",
   "metadata": {
    "scrolled": false
   },
   "outputs": [
    {
     "name": "stdout",
     "output_type": "stream",
     "text": [
      "fold: 0\n",
      "|   rvce |   error |   n_events |    mae | file                                            |\n",
      "|--------+---------+------------+--------+-------------------------------------------------|\n",
      "|  0.264 |     -70 |        265 | 39.736 | [0, 3752]  20190819-Kutna Hora-L10-out-SDV_1888 |\n"
     ]
    },
    {
     "data": {
      "image/png": "[encoded data removed]",
      "text/plain": [
       "<Figure size 432x288 with 1 Axes>"
      ]
     },
     "metadata": {
      "needs_background": "light"
     },
     "output_type": "display_data"
    },
    {
     "name": "stdout",
     "output_type": "stream",
     "text": [
      "fold: 1\n",
      "|   rvce |   error |   n_events |    mae | file                                      |\n",
      "|--------+---------+------------+--------+-------------------------------------------|\n",
      "|  0.197 |     -90 |        457 | 44.541 | [0, 2068]  20190819-Ricany-L3-in-MVI_0006 |\n"
     ]
    },
    {
     "data": {
      "image/png": "[encoded data removed]",
      "text/plain": [
       "<Figure size 432x288 with 1 Axes>"
      ]
     },
     "metadata": {
      "needs_background": "light"
     },
     "output_type": "display_data"
    },
    {
     "name": "stdout",
     "output_type": "stream",
     "text": [
      "fold: 2\n",
      "|   rvce |   error |   n_events |    mae | file                                           |\n",
      "|--------+---------+------------+--------+------------------------------------------------|\n",
      "|  0.351 |     104 |        296 | 63.177 | [0, 2067]  20190819-Kutna Hora-L1-out-MVI_0007 |\n"
     ]
    },
    {
     "data": {
      "image/png": "[encoded data removed]",
      "text/plain": [
       "<Figure size 432x288 with 1 Axes>"
      ]
     },
     "metadata": {
      "needs_background": "light"
     },
     "output_type": "display_data"
    },
    {
     "name": "stdout",
     "output_type": "stream",
     "text": [
      "fold: 3\n",
      "|   rvce |   error |   n_events |   mae | file                                      |\n",
      "|--------+---------+------------+-------+-------------------------------------------|\n",
      "|      0 |       0 |         63 | 2.041 | [0, 2068]  20190819-Ricany-L9-in-MVI_0008 |\n"
     ]
    },
    {
     "data": {
      "image/png": "[encoded data removed]",
      "text/plain": [
       "<Figure size 432x288 with 1 Axes>"
      ]
     },
     "metadata": {
      "needs_background": "light"
     },
     "output_type": "display_data"
    },
    {
     "name": "stdout",
     "output_type": "stream",
     "text": [
      "fold: 4\n",
      "|   rvce |   error |   n_events |   mae | file                                            |\n",
      "|--------+---------+------------+-------+-------------------------------------------------|\n",
      "|   0.03 |       7 |        232 |  8.91 | [0, 2069]  20190819-Kutna Hora-L14-out-MVI_0005 |\n"
     ]
    },
    {
     "data": {
      "image/png": "[encoded data removed]",
      "text/plain": [
       "<Figure size 432x288 with 1 Axes>"
      ]
     },
     "metadata": {
      "needs_background": "light"
     },
     "output_type": "display_data"
    },
    {
     "name": "stdout",
     "output_type": "stream",
     "text": [
      "fold: 5\n",
      "|   rvce |   error |   n_events |    mae | file                                           |\n",
      "|--------+---------+------------+--------+------------------------------------------------|\n",
      "|      4 |      32 |          8 | 13.274 | [0, 2042]  20190819-Kutna Hora-L13-in-MVI_0006 |\n"
     ]
    },
    {
     "data": {
      "image/png": "[encoded data removed]",
      "text/plain": [
       "<Figure size 432x288 with 1 Axes>"
      ]
     },
     "metadata": {
      "needs_background": "light"
     },
     "output_type": "display_data"
    },
    {
     "name": "stdout",
     "output_type": "stream",
     "text": [
      "fold: 6\n",
      "|   rvce |   error |   n_events |     mae | file                                           |\n",
      "|--------+---------+------------+---------+------------------------------------------------|\n",
      "|  0.292 |    -215 |        737 | 108.459 | [0, 2065]  20190819-Kutna Hora-L18-in-MVI_0030 |\n"
     ]
    },
    {
     "data": {
      "image/png": "[encoded data removed]",
      "text/plain": [
       "<Figure size 432x288 with 1 Axes>"
      ]
     },
     "metadata": {
      "needs_background": "light"
     },
     "output_type": "display_data"
    },
    {
     "name": "stdout",
     "output_type": "stream",
     "text": [
      "fold: 7\n",
      "|   rvce |   error |   n_events |    mae | file                                          |\n",
      "|--------+---------+------------+--------+-----------------------------------------------|\n",
      "|  0.084 |      24 |        285 | 13.096 | [0, 2059]  20190819-Kutna Hora-L3-in-MVI_0005 |\n"
     ]
    },
    {
     "data": {
      "image/png": "[encoded data removed]",
      "text/plain": [
       "<Figure size 432x288 with 1 Axes>"
      ]
     },
     "metadata": {
      "needs_background": "light"
     },
     "output_type": "display_data"
    },
    {
     "name": "stdout",
     "output_type": "stream",
     "text": [
      "fold: 8\n",
      "|   rvce |   error |   n_events |    mae | file                                       |\n",
      "|--------+---------+------------+--------+--------------------------------------------|\n",
      "|   0.08 |     -27 |        336 | 18.848 | [0, 2062]  20190819-Ricany-L8-out-MVI_0013 |\n"
     ]
    },
    {
     "data": {
      "image/png": "[encoded data removed]",
      "text/plain": [
       "<Figure size 432x288 with 1 Axes>"
      ]
     },
     "metadata": {
      "needs_background": "light"
     },
     "output_type": "display_data"
    },
    {
     "name": "stdout",
     "output_type": "stream",
     "text": [
      "fold: 9\n",
      "|   rvce |   error |   n_events |   mae | file                                           |\n",
      "|--------+---------+------------+-------+------------------------------------------------|\n",
      "|  0.021 |      -1 |         47 | 0.493 | [0, 2062]  20190819-Kutna Hora-L7-out-MVI_0032 |\n"
     ]
    },
    {
     "data": {
      "image/png": "[encoded data removed]",
      "text/plain": [
       "<Figure size 432x288 with 1 Axes>"
      ]
     },
     "metadata": {
      "needs_background": "light"
     },
     "output_type": "display_data"
    },
    {
     "name": "stdout",
     "output_type": "stream",
     "text": [
      "fold: 10\n",
      "|   rvce |   error |   n_events |    mae | file                                           |\n",
      "|--------+---------+------------+--------+------------------------------------------------|\n",
      "|  0.708 |     177 |        250 | 84.267 | [0, 2065]  20190819-Kutna Hora-L3-out-MVI_0008 |\n"
     ]
    },
    {
     "data": {
      "image/png": "[encoded data removed]",
      "text/plain": [
       "<Figure size 432x288 with 1 Axes>"
      ]
     },
     "metadata": {
      "needs_background": "light"
     },
     "output_type": "display_data"
    }
   ],
   "source": [
    "for fold, (trn_fold, tst_fold) in enumerate(zip(trn_folds, tst_folds)):\n",
    "    print('fold:', fold)\n",
    "    row = np.genfromtxt(f'outputs/cross_validation_25/{fold}/results/tst_output.csv', delimiter=';', skip_header=1, dtype=str)\n",
    "    print(tabulate([row], tablefmt='orgtbl', headers=['rvce', 'error', 'n_events', 'mae', 'file']))\n",
    "    \n",
    "    with open(trn_fold, 'r') as stream:\n",
    "        trn_files = yaml.safe_load(stream)\n",
    "    with open(tst_fold, 'r') as stream:\n",
    "        tst_files = yaml.safe_load(stream)\n",
    "        \n",
    "    fig, ax = plt.subplots()\n",
    "    \n",
    "    all_training_labels = []\n",
    "    all_testing_labels = []\n",
    "    \n",
    "    for file in trn_files:\n",
    "        video = datapool[file]\n",
    "        events = video.get_events(True)\n",
    "        \n",
    "        samples, labels = create_dataset_sequentially(\n",
    "            video.signal, 44100, video.events, \n",
    "            from_time=video.trn_from_time, \n",
    "            till_time=video.trn_till_time, \n",
    "            window_length=6.0)\n",
    "        \n",
    "        all_training_labels.extend(labels)\n",
    "    \n",
    "    labels1, counts = np.unique(all_training_labels, return_counts=True)\n",
    "#     print(counts.sum())\n",
    "    counts = counts / counts.sum()\n",
    "    ax.bar(labels1, counts, align='center', alpha=0.5, label='trn', color='r')\n",
    "    ax.set_xticks(labels)\n",
    "    \n",
    "    for file in tst_files:\n",
    "        video = datapool[file]\n",
    "        \n",
    "        samples, labels = create_dataset_sequentially(\n",
    "            video.signal, 44100, video.events, \n",
    "            window_length=6.0)\n",
    "        \n",
    "        all_testing_labels.extend(labels)\n",
    "    \n",
    "    labels2, counts = np.unique(all_testing_labels, return_counts=True)\n",
    "    counts = counts / counts.sum()\n",
    "    ax.bar(labels2, counts, align='center', alpha=0.5, label='tst')\n",
    "    \n",
    "    labels = np.union1d(labels1, labels2)\n",
    "    ax.set_xticks(labels)\n",
    "    plt.legend()\n",
    "    plt.show()"
   ]
  },
  {
   "cell_type": "code",
   "execution_count": null,
   "id": "7054c347",
   "metadata": {},
   "outputs": [],
   "source": []
  }
 ],
 "metadata": {
  "kernelspec": {
   "display_name": "Python 3 (ipykernel)",
   "language": "python",
   "name": "python3"
  },
  "language_info": {
   "codemirror_mode": {
    "name": "ipython",
    "version": 3
   },
   "file_extension": ".py",
   "mimetype": "text/x-python",
   "name": "python",
   "nbconvert_exporter": "python",
   "pygments_lexer": "ipython3",
   "version": "3.9.0"
  }
 },
 "nbformat": 4,
 "nbformat_minor": 5
}

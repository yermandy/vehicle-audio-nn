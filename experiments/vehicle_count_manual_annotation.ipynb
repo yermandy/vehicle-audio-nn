{
 "cells": [
  {
   "cell_type": "code",
   "execution_count": 1,
   "id": "dd45a2d8",
   "metadata": {},
   "outputs": [],
   "source": [
    "%load_ext autoreload\n",
    "%autoreload 2"
   ]
  },
  {
   "cell_type": "code",
   "execution_count": 2,
   "id": "1291ff18",
   "metadata": {},
   "outputs": [],
   "source": [
    "from src import *\n",
    "from glob import glob\n",
    "import librosa\n",
    "from tabulate import tabulate\n"
   ]
  },
  {
   "cell_type": "code",
   "execution_count": 3,
   "id": "52ed57a3",
   "metadata": {},
   "outputs": [],
   "source": [
    "# annotated = np.loadtxt('vehicle_count_manual_annotation_with_sound.csv', delimiter=',', dtype=str, usecols=[0,1,2])[1:]"
   ]
  },
  {
   "cell_type": "code",
   "execution_count": 4,
   "id": "7594c1cf",
   "metadata": {},
   "outputs": [],
   "source": [
    "# mask = (annotated[:, 1] != '') & (annotated[:, 2] != '')\n",
    "# annotated = annotated[mask]"
   ]
  },
  {
   "cell_type": "code",
   "execution_count": 5,
   "id": "a0b9085c",
   "metadata": {},
   "outputs": [],
   "source": [
    "def get_annotations():\n",
    "    annotated = np.loadtxt('vehicle_count_manual_annotation_with_sound.csv', delimiter=',', dtype=str, usecols=[0,1,2])[1:]\n",
    "    rows = []\n",
    "    for name, n_incoming, n_outgoing in annotated:\n",
    "#         print(name)\n",
    "\n",
    "        till_min, till_sec = name.split('_')[-1][:-4].split('.')\n",
    "        from_min, from_sec = name.split('_')[-2].split('.')\n",
    "        from_time = int(from_min) * 60 + int(from_sec)\n",
    "        till_time = int(till_min) * 60 + int(till_sec)\n",
    "\n",
    "        row = [name[:-16], from_time, till_time, int(n_incoming), int(n_outgoing)]\n",
    "        rows.append(row)\n",
    "    return rows\n",
    "\n",
    "annotations = get_annotations()"
   ]
  },
  {
   "cell_type": "code",
   "execution_count": 6,
   "id": "f44568fe",
   "metadata": {},
   "outputs": [],
   "source": [
    "# files_manual_counts = {}\n",
    "\n",
    "# for file in files:\n",
    "#     files_manual_counts[file] = 0\n",
    "#     for row in annotations:\n",
    "#         name = row[0]\n",
    "#         from_time = row[1]\n",
    "#         if file in name and from_time >= 0:\n",
    "#             counts = names_counts[name]\n",
    "#             files_manual_counts[file] += counts\n",
    "# files_manual_counts"
   ]
  },
  {
   "cell_type": "code",
   "execution_count": 7,
   "id": "418f7529",
   "metadata": {},
   "outputs": [],
   "source": [
    "# file_names, manual_counts = annotated[:, 0], annotated[:, 1].astype(int) + annotated[:, 2].astype(int)\n",
    "\n",
    "# names_counts = {k: v for k, v in zip(file_names, manual_counts)}"
   ]
  },
  {
   "cell_type": "code",
   "execution_count": 8,
   "id": "2d67569a",
   "metadata": {
    "scrolled": true
   },
   "outputs": [],
   "source": [
    "files = [\n",
    "    '20190819-Kutna Hora-L1-out-MVI_0007',\n",
    "    '20190819-Kutna Hora-L3-in-MVI_0005',\n",
    "    '20190819-Kutna Hora-L3-out-MVI_0008',\n",
    "    '20190819-Kutna Hora-L4-in-MVI_0013',\n",
    "    '20190819-Kutna Hora-L6-out-MVI_0017',\n",
    "    '20190819-Kutna Hora-L7-out-MVI_0032',\n",
    "    '20190819-Kutna Hora-L8-in-MVI_0045',\n",
    "    '20190819-Kutna Hora-L9-in-MVI_0043',\n",
    "    '20190819-Kutna Hora-L10-out-SDV_1888',\n",
    "    '20190819-Kutna Hora-L13-in-MVI_0006',\n",
    "    '20190819-Kutna Hora-L13-out-MVI_0018',\n",
    "    '20190819-Kutna Hora-L14-out-MVI_0005',\n",
    "    '20190819-Kutna Hora-L15-out-MVI_0012',\n",
    "    '20190819-Kutna Hora-L18-in-MVI_0030',\n",
    "    '20190819-Ricany-L2-in-MVI_0006',\n",
    "    '20190819-Ricany-L2-out-MVI_0005',\n",
    "    '20190819-Ricany-L3-in-MVI_0006',\n",
    "    '20190819-Ricany-L6-in-MVI_0008',\n",
    "    '20190819-Ricany-L6-out-MVI_0011',\n",
    "    '20190819-Ricany-L7-in-MVI_0008',\n",
    "    '20190819-Ricany-L7-out-MVI_0013',\n",
    "    '20190819-Ricany-L8-in-MVI_0009',\n",
    "    '20190819-Ricany-L8-out-MVI_0013',\n",
    "    '20190819-Ricany-L9-in-MVI_0008',\n",
    "    '20190819-Ricany-L9-out-MVI_0011'\n",
    "]"
   ]
  },
  {
   "cell_type": "code",
   "execution_count": 10,
   "id": "85b81a04",
   "metadata": {
    "scrolled": false
   },
   "outputs": [],
   "source": [
    "# files_manual_counts = {}\n",
    "\n",
    "# for file in files:\n",
    "#     files_manual_counts[file] = 0\n",
    "#     for name in file_names:\n",
    "#         start_time = name.split('_')[-2]\n",
    "#         if file in name and float(start_time) >= 0:\n",
    "#             counts = names_counts[name]\n",
    "#             files_manual_counts[file] += counts\n",
    "# files_manual_counts"
   ]
  },
  {
   "cell_type": "code",
   "execution_count": 11,
   "id": "e6c0ce7c",
   "metadata": {},
   "outputs": [
    {
     "name": "stderr",
     "output_type": "stream",
     "text": [
      "Video loading: 100%|██████████████████████████████████████████████████████████████████████████████████████████████| 25/25 [01:02<00:00,  2.49s/it]\n"
     ]
    }
   ],
   "source": [
    "datapool = DataPool(files, 6, 0.75)"
   ]
  },
  {
   "cell_type": "code",
   "execution_count": 13,
   "id": "02425d00",
   "metadata": {
    "scrolled": true
   },
   "outputs": [
    {
     "name": "stdout",
     "output_type": "stream",
     "text": [
      "20190819-Kutna Hora-L1-out-MVI_0007\n",
      "0 1935.02\n",
      "\n",
      "20190819-Kutna Hora-L3-in-MVI_0005\n",
      "0 2006.58\n",
      "\n",
      "20190819-Kutna Hora-L3-out-MVI_0008\n",
      "0 2045.86\n",
      "\n",
      "20190819-Kutna Hora-L4-in-MVI_0013\n",
      "0 2049.3\n",
      "\n",
      "20190819-Kutna Hora-L6-out-MVI_0017\n",
      "0 1852.34\n",
      "\n",
      "20190819-Kutna Hora-L7-out-MVI_0032\n",
      "0 1904.4\n",
      "\n",
      "20190819-Kutna Hora-L8-in-MVI_0045\n",
      "0 1882.84\n",
      "\n",
      "20190819-Kutna Hora-L9-in-MVI_0043\n",
      "0 2031.72\n",
      "\n",
      "20190819-Kutna Hora-L10-out-SDV_1888\n",
      "0 3743.46\n",
      "\n",
      "20190819-Kutna Hora-L13-in-MVI_0006\n",
      "0 1789.14\n",
      "\n",
      "20190819-Kutna Hora-L13-out-MVI_0018\n",
      "0 1680.52\n",
      "\n",
      "20190819-Kutna Hora-L14-out-MVI_0005\n",
      "0 2021.64\n",
      "\n",
      "20190819-Kutna Hora-L15-out-MVI_0012\n",
      "0 1873.3\n",
      "\n",
      "20190819-Kutna Hora-L18-in-MVI_0030\n",
      "0 1878.1\n",
      "\n",
      "20190819-Ricany-L2-in-MVI_0006\n",
      "0 2001.1\n",
      "\n",
      "20190819-Ricany-L2-out-MVI_0005\n",
      "0 1813.1\n",
      "\n",
      "20190819-Ricany-L3-in-MVI_0006\n",
      "0 941.58\n",
      "\n",
      "20190819-Ricany-L6-in-MVI_0008\n",
      "0 1975.92\n",
      "\n",
      "20190819-Ricany-L6-out-MVI_0011\n",
      "0 1815.74\n",
      "\n",
      "20190819-Ricany-L7-in-MVI_0008\n",
      "0 1422.26\n",
      "\n",
      "20190819-Ricany-L7-out-MVI_0013\n",
      "0 2030.86\n",
      "\n",
      "20190819-Ricany-L8-in-MVI_0009\n",
      "0 2016.94\n",
      "\n",
      "20190819-Ricany-L8-out-MVI_0013\n",
      "0 2052.94\n",
      "\n",
      "20190819-Ricany-L9-in-MVI_0008\n",
      "0 2021.26\n",
      "\n",
      "20190819-Ricany-L9-out-MVI_0011\n",
      "0 2027.92\n",
      "\n"
     ]
    },
    {
     "data": {
      "text/plain": [
       "{'20190819-Kutna Hora-L1-out-MVI_0007': 259,\n",
       " '20190819-Kutna Hora-L3-in-MVI_0005': 287,\n",
       " '20190819-Kutna Hora-L3-out-MVI_0008': 259,\n",
       " '20190819-Kutna Hora-L4-in-MVI_0013': 179,\n",
       " '20190819-Kutna Hora-L6-out-MVI_0017': 16,\n",
       " '20190819-Kutna Hora-L7-out-MVI_0032': 47,\n",
       " '20190819-Kutna Hora-L8-in-MVI_0045': 227,\n",
       " '20190819-Kutna Hora-L9-in-MVI_0043': 121,\n",
       " '20190819-Kutna Hora-L10-out-SDV_1888': 386,\n",
       " '20190819-Kutna Hora-L13-in-MVI_0006': 9,\n",
       " '20190819-Kutna Hora-L13-out-MVI_0018': 12,\n",
       " '20190819-Kutna Hora-L14-out-MVI_0005': 238,\n",
       " '20190819-Kutna Hora-L15-out-MVI_0012': 9,\n",
       " '20190819-Kutna Hora-L18-in-MVI_0030': 700,\n",
       " '20190819-Ricany-L2-in-MVI_0006': 497,\n",
       " '20190819-Ricany-L2-out-MVI_0005': 561,\n",
       " '20190819-Ricany-L3-in-MVI_0006': 269,\n",
       " '20190819-Ricany-L6-in-MVI_0008': 824,\n",
       " '20190819-Ricany-L6-out-MVI_0011': 647,\n",
       " '20190819-Ricany-L7-in-MVI_0008': 316,\n",
       " '20190819-Ricany-L7-out-MVI_0013': 311,\n",
       " '20190819-Ricany-L8-in-MVI_0009': 348,\n",
       " '20190819-Ricany-L8-out-MVI_0013': 340,\n",
       " '20190819-Ricany-L9-in-MVI_0008': 61,\n",
       " '20190819-Ricany-L9-out-MVI_0011': 58}"
      ]
     },
     "execution_count": 13,
     "metadata": {},
     "output_type": "execute_result"
    }
   ],
   "source": [
    "files_manual_counts = {}\n",
    "validation_part_only = False\n",
    "\n",
    "files_times = {}\n",
    "\n",
    "for video in datapool:\n",
    "    file = video.file \n",
    "    print(video.file)\n",
    "    val_time_from = video.get_from_till_time(False)[0]\n",
    "    intervals = load_intervals(f'data/intervals/{video.file}.MP4.txt')\n",
    "\n",
    "    if validation_part_only:\n",
    "        i = np.argmin(np.abs(intervals[:, 0] - val_time_from))\n",
    "        from_time = intervals[i, 0]\n",
    "    else:\n",
    "        from_time = 0\n",
    "    till_time = intervals[-1, 1]\n",
    "    \n",
    "    files_manual_counts[file] = 0\n",
    "    for row in annotations:\n",
    "        name = row[0]\n",
    "        start_time = row[1]\n",
    "        end_time = row[2]\n",
    "        if file in name:\n",
    "            if start_time >= from_time - 3:\n",
    "                counts = row[3] + row[4]\n",
    "                files_manual_counts[file] += counts\n",
    "                \n",
    "                if file not in files_times:\n",
    "                    files_times[file] = [start_time, end_time]\n",
    "                else:\n",
    "                    files_times[file] = [\n",
    "                        min(files_times[file][0], start_time), \n",
    "                        max(files_times[file][1], end_time)\n",
    "                    ]\n",
    "                    \n",
    "    \n",
    "    print(from_time, till_time)\n",
    "    print()\n",
    "\n",
    "files_manual_counts "
   ]
  },
  {
   "cell_type": "code",
   "execution_count": 18,
   "id": "a459aa76",
   "metadata": {},
   "outputs": [
    {
     "name": "stdout",
     "output_type": "stream",
     "text": [
      "20190819-Kutna Hora-L1-out-MVI_0007\n",
      "1567 1935.02\n",
      "20190819-Kutna Hora-L3-in-MVI_0005\n",
      "1520 2006.58\n",
      "20190819-Kutna Hora-L3-out-MVI_0008\n",
      "1560 2045.86\n",
      "20190819-Kutna Hora-L4-in-MVI_0013\n",
      "1539 2049.3\n",
      "20190819-Kutna Hora-L6-out-MVI_0017\n",
      "1480 1852.34\n",
      "20190819-Kutna Hora-L7-out-MVI_0032\n",
      "1563 1904.4\n",
      "20190819-Kutna Hora-L8-in-MVI_0045\n",
      "1413 1882.84\n",
      "20190819-Kutna Hora-L9-in-MVI_0043\n",
      "1577 2031.72\n",
      "20190819-Kutna Hora-L10-out-SDV_1888\n",
      "2819 3743.46\n",
      "20190819-Kutna Hora-L13-in-MVI_0006\n",
      "1620 1789.14\n",
      "20190819-Kutna Hora-L13-out-MVI_0018\n",
      "1355 1680.52\n",
      "20190819-Kutna Hora-L14-out-MVI_0005\n",
      "1530 2021.64\n",
      "20190819-Kutna Hora-L15-out-MVI_0012\n",
      "1553 1873.3\n",
      "20190819-Kutna Hora-L18-in-MVI_0030\n",
      "1360 1878.1\n",
      "20190819-Ricany-L2-in-MVI_0006\n",
      "1530 2001.1\n",
      "20190819-Ricany-L2-out-MVI_0005\n",
      "89 1813.1\n",
      "20190819-Ricany-L3-in-MVI_0006\n",
      "288 941.58\n",
      "20190819-Ricany-L6-in-MVI_0008\n",
      "1594 1975.92\n",
      "20190819-Ricany-L6-out-MVI_0011\n",
      "1567 1815.74\n",
      "20190819-Ricany-L7-in-MVI_0008\n",
      "968 1422.26\n",
      "20190819-Ricany-L7-out-MVI_0013\n",
      "1590 2030.86\n",
      "20190819-Ricany-L8-in-MVI_0009\n",
      "1525 2016.94\n",
      "20190819-Ricany-L8-out-MVI_0013\n",
      "1593 2052.94\n",
      "20190819-Ricany-L9-in-MVI_0008\n",
      "1585 2021.26\n",
      "20190819-Ricany-L9-out-MVI_0011\n",
      "1555 2027.92\n"
     ]
    }
   ],
   "source": [
    "uuid = 1640285058\n",
    "model_name='rvce'\n",
    "\n",
    "validation_part_only = True\n",
    "\n",
    "model, config = load_model_locally(uuid, model_name=model_name)\n",
    "transform = create_transformation(config)\n",
    "\n",
    "files_estimated_counts = {}\n",
    "\n",
    "for video in datapool:\n",
    "    file = video.file\n",
    "    print(video.file)\n",
    "    intervals = load_intervals(f'data/intervals/{video.file}.MP4.txt')\n",
    "    from_time = 0\n",
    "    \n",
    "    if validation_part_only:\n",
    "        from_time = files_times[file]\n",
    "#         val_time_from = video.get_from_till_time(False)[0]\n",
    "#         i = np.argmin(np.abs(intervals[:, 0] - val_time_from))\n",
    "#         from_time = intervals[i, 0]\n",
    "        \n",
    "    till_time = intervals[-1, 1]\n",
    "    \n",
    "    print(from_time, till_time)\n",
    "\n",
    "    predictions = validate(video.signal, model, transform, config, from_time=from_time, till_time=till_time)\n",
    "    files_estimated_counts[video.file] = predictions.sum()\n",
    "    "
   ]
  },
  {
   "cell_type": "code",
   "execution_count": 103,
   "id": "6a00c06c",
   "metadata": {},
   "outputs": [
    {
     "name": "stdout",
     "output_type": "stream",
     "text": [
      "file                                  manual           video            error           rvce\n",
      "------------------------------------  ---------------  ---------------  --------------  -----------\n",
      "20190819-Kutna Hora-L1-out-MVI_0007   259              263              4               0.02\n",
      "20190819-Kutna Hora-L3-in-MVI_0005    287              278              -9              0.03\n",
      "20190819-Kutna Hora-L3-out-MVI_0008   259              246              -13             0.05\n",
      "20190819-Kutna Hora-L4-in-MVI_0013    179              165              -14             0.08\n",
      "20190819-Kutna Hora-L6-out-MVI_0017   16               16               0               0.00\n",
      "20190819-Kutna Hora-L7-out-MVI_0032   47               44               -3              0.06\n",
      "20190819-Kutna Hora-L8-in-MVI_0045    227              202              -25             0.11\n",
      "20190819-Kutna Hora-L9-in-MVI_0043    121              116              -5              0.04\n",
      "20190819-Kutna Hora-L10-out-SDV_1888  386              264              -122            0.32\n",
      "20190819-Kutna Hora-L13-in-MVI_0006   9                7                -2              0.22\n",
      "20190819-Kutna Hora-L13-out-MVI_0018  12               13               1               0.08\n",
      "20190819-Kutna Hora-L14-out-MVI_0005  238              225              -13             0.05\n",
      "20190819-Kutna Hora-L15-out-MVI_0012  9                9                0               0.00\n",
      "20190819-Kutna Hora-L18-in-MVI_0030   700              695              -5              0.01\n",
      "20190819-Ricany-L2-in-MVI_0006        497              489              -8              0.02\n",
      "20190819-Ricany-L2-out-MVI_0005       561              529              -32             0.06\n",
      "20190819-Ricany-L3-in-MVI_0006        269              218              -51             0.19\n",
      "20190819-Ricany-L6-in-MVI_0008        824              795              -29             0.04\n",
      "20190819-Ricany-L6-out-MVI_0011       647              644              -3              0.00\n",
      "20190819-Ricany-L7-in-MVI_0008        316              317              1               0.00\n",
      "20190819-Ricany-L7-out-MVI_0013       311              286              -25             0.08\n",
      "20190819-Ricany-L8-in-MVI_0009        348              349              1               0.00\n",
      "20190819-Ricany-L8-out-MVI_0013       340              335              -5              0.01\n",
      "20190819-Ricany-L9-in-MVI_0008        61               60               -1              0.02\n",
      "20190819-Ricany-L9-out-MVI_0011       58               57               -1              0.02\n",
      "summary                               279.24 ± 222.33  264.88 ± 216.95  -14.36 ± 25.49  0.06 ± 0.08\n"
     ]
    }
   ],
   "source": [
    "rvce_videos, rvce_audio = [], []\n",
    "\n",
    "errors_video = []\n",
    "errors_audio = []\n",
    "\n",
    "do_not_consider = [\n",
    "#     '20190819-Ricany-L3-in-MVI_0006',\n",
    "#     '20190819-Ricany-L6-in-MVI_0008',\n",
    "#     '20190819-Kutna Hora-L18-in-MVI_0030',\n",
    "#     '20190819-Kutna Hora-L14-out-MVI_0005'\n",
    "]\n",
    "\n",
    "table = ['file name, manual events, video error, video rvce, audio error, audio rvce']\n",
    "\n",
    "all_manual_events = []\n",
    "all_automatic_counts = []\n",
    "\n",
    "# print(f'name {\" \" * 35} | manual | video | audio')\n",
    "\n",
    "header = ['file', 'manual', 'video', 'error', 'rvce']\n",
    "table = []\n",
    "\n",
    "for file, n_manual_counts in files_manual_counts.items():\n",
    "    if k in do_not_consider:\n",
    "        continue\n",
    "            \n",
    "    events_times = np.loadtxt(f'data/labels/{file}.MP4.txt')\n",
    "    events_from = files_times[file][0]\n",
    "    events_till = files_times[file][1]\n",
    "    n_automatic_counts = np.sum([(events_times >= events_from) & (events_times <= events_till)])\n",
    "    all_automatic_counts.append(n_automatic_counts)\n",
    "                \n",
    "    error_video = n_automatic_counts - n_manual_counts\n",
    "    \n",
    "    all_manual_events.append(n_manual_counts)\n",
    "    \n",
    "    errors_video.append(error_video)\n",
    "    \n",
    "    rvce_video = abs(n_manual_counts - n_automatic_counts) / n_manual_counts\n",
    "    rvce_videos.append(rvce_video)\n",
    "    \n",
    "    row = [file, n_manual_counts, n_automatic_counts, error_video, f'{rvce_video:.2f}']\n",
    "           \n",
    "    table.append(row)\n",
    "\n",
    "row = [\n",
    "    'summary', \n",
    "    f'{np.mean(all_manual_events):.2f} ± {np.std(all_manual_events):.2f}',\n",
    "    f'{np.mean(all_automatic_counts):.2f} ± {np.std(all_automatic_counts):.2f}',\n",
    "    f'{np.mean(errors_video):.2f} ± {np.std(errors_video):.2f}',\n",
    "    f'{np.mean(rvce_videos):.2f} ± {np.std(rvce_videos):.2f}'\n",
    "]\n",
    "table.append(row)\n",
    "table = np.array(table)\n",
    "\n",
    "from tabulate import tabulate\n",
    "table = tabulate(table, headers=header)\n",
    "print(table)"
   ]
  },
  {
   "cell_type": "code",
   "execution_count": 181,
   "id": "ac48c052",
   "metadata": {},
   "outputs": [
    {
     "data": {
      "text/plain": [
       "'0.29'"
      ]
     },
     "execution_count": 181,
     "metadata": {},
     "output_type": "execute_result"
    }
   ],
   "source": [
    "for k, v in datapool.items():\n",
    "    print(k, v.signal)\n",
    "    \n",
    "datapool[k].signal"
   ]
  },
  {
   "cell_type": "code",
   "execution_count": 187,
   "id": "41f194ea",
   "metadata": {},
   "outputs": [
    {
     "data": {
      "text/plain": [
       "<function src.utils.validate(signal, model, transform, config, tqdm=<function <lambda> at 0x7f853141c040>, return_probs=False, from_time=None, till_time=None, classification=True)>"
      ]
     },
     "execution_count": 187,
     "metadata": {},
     "output_type": "execute_result"
    }
   ],
   "source": [
    "validate"
   ]
  },
  {
   "cell_type": "code",
   "execution_count": 192,
   "id": "7e2431a1",
   "metadata": {},
   "outputs": [
    {
     "name": "stderr",
     "output_type": "stream",
     "text": [
      "Video loading: 100%|████████████████████████████████████████████████████████████████████████████████████████████████| 5/5 [00:14<00:00,  2.81s/it]\n",
      "Video loading: 100%|████████████████████████████████████████████████████████████████████████████████████████████████| 5/5 [00:12<00:00,  2.42s/it]\n",
      "Video loading: 100%|████████████████████████████████████████████████████████████████████████████████████████████████| 5/5 [00:12<00:00,  2.41s/it]\n",
      "Video loading: 100%|████████████████████████████████████████████████████████████████████████████████████████████████| 5/5 [00:12<00:00,  2.42s/it]\n",
      "Video loading: 100%|████████████████████████████████████████████████████████████████████████████████████████████████| 5/5 [00:11<00:00,  2.39s/it]\n"
     ]
    },
    {
     "name": "stdout",
     "output_type": "stream",
     "text": [
      "file                                  manual           predicted        error           rvce\n",
      "------------------------------------  ---------------  ---------------  --------------  -----------\n",
      "20190819-Kutna Hora-L1-out-MVI_0007   259              262              3               0.01\n",
      "20190819-Kutna Hora-L10-out-SDV_1888  386              203              -183            0.47\n",
      "20190819-Kutna Hora-L14-out-MVI_0005  238              238              0               0.00\n",
      "20190819-Ricany-L3-in-MVI_0006        269              135              -134            0.50\n",
      "20190819-Ricany-L9-in-MVI_0008        61               62               1               0.02\n",
      "20190819-Kutna Hora-L3-in-MVI_0005    287              309              22              0.08\n",
      "20190819-Kutna Hora-L7-out-MVI_0032   47               34               -13             0.28\n",
      "20190819-Kutna Hora-L13-in-MVI_0006   9                14               5               0.56\n",
      "20190819-Kutna Hora-L18-in-MVI_0030   700              473              -227            0.32\n",
      "20190819-Ricany-L8-out-MVI_0013       340              330              -10             0.03\n",
      "20190819-Kutna Hora-L3-out-MVI_0008   259              427              168             0.65\n",
      "20190819-Kutna Hora-L4-in-MVI_0013    179              145              -34             0.19\n",
      "20190819-Kutna Hora-L6-out-MVI_0017   16               15               -1              0.06\n",
      "20190819-Kutna Hora-L15-out-MVI_0012  9                10               1               0.11\n",
      "20190819-Ricany-L2-out-MVI_0005       561              476              -85             0.15\n",
      "20190819-Ricany-L6-in-MVI_0008        824              606              -218            0.26\n",
      "20190819-Ricany-L6-out-MVI_0011       647              579              -68             0.11\n",
      "20190819-Ricany-L7-out-MVI_0013       311              255              -56             0.18\n",
      "20190819-Ricany-L8-in-MVI_0009        348              334              -14             0.04\n",
      "20190819-Ricany-L9-out-MVI_0011       58               52               -6              0.10\n",
      "20190819-Kutna Hora-L8-in-MVI_0045    227              168              -59             0.26\n",
      "20190819-Kutna Hora-L9-in-MVI_0043    121              108              -13             0.11\n",
      "20190819-Kutna Hora-L13-out-MVI_0018  12               16               4               0.33\n",
      "20190819-Ricany-L2-in-MVI_0006        497              459              -38             0.08\n",
      "20190819-Ricany-L7-in-MVI_0008        316              277              -39             0.12\n",
      "summary                               279.24 ± 222.33  239.48 ± 181.53  -39.76 ± 80.75  0.20 ± 0.18\n"
     ]
    }
   ],
   "source": [
    "rvces = []\n",
    "errors = []\n",
    "n_trues = []\n",
    "n_preds = []\n",
    "\n",
    "table = []\n",
    "for i in range(5):\n",
    "    uuid = f'cross_validation_5_augmentation/{i}'\n",
    "    model, config = load_model_locally(uuid, 'mae')\n",
    "    transform = create_transformation(config)\n",
    "    datapool = DataPool(config.testing_files, config.window_length, config.split_ratio)\n",
    "#     outputs = validate_datapool(datapool, model, config, None)\n",
    "\n",
    "    for file, video in datapool.items():        \n",
    "        from_time = files_times[file][0]\n",
    "        till_time = files_times[file][1]\n",
    "        predictions = validate(video.signal, model, transform, config, from_time=from_time, till_time=till_time)\n",
    "\n",
    "        n_pred = predictions.sum()\n",
    "        n_preds.append(n_pred)\n",
    "\n",
    "        n_true = files_manual_counts[file]\n",
    "        n_trues.append(n_true)\n",
    "\n",
    "        error = n_pred - n_true\n",
    "        errors.append(error)\n",
    "\n",
    "        rvce = abs(n_true - n_pred) / n_true\n",
    "        rvces.append(rvce)\n",
    "\n",
    "        row = [file, n_true, n_pred, error, f'{rvce:.2f}']\n",
    "        table.append(row)\n",
    "    \n",
    "header = ['file', 'manual', 'predicted', 'error', 'rvce']\n",
    "row = [\n",
    "    'summary', \n",
    "    f'{np.mean(n_trues):.2f} ± {np.std(n_trues):.2f}',\n",
    "    f'{np.mean(n_preds):.2f} ± {np.std(n_preds):.2f}',\n",
    "    f'{np.mean(errors):.2f} ± {np.std(errors):.2f}',\n",
    "    f'{np.mean(rvces):.2f} ± {np.std(rvces):.2f}'\n",
    "]\n",
    "\n",
    "table.append(row)\n",
    "table = tabulate(table, headers=header)\n",
    "print(table)"
   ]
  },
  {
   "cell_type": "code",
   "execution_count": 134,
   "id": "53931be9",
   "metadata": {},
   "outputs": [],
   "source": [
    "table, fancy_table = create_fancy_table(outputs)"
   ]
  },
  {
   "cell_type": "code",
   "execution_count": 136,
   "id": "2f672405",
   "metadata": {},
   "outputs": [],
   "source": [
    "with open(f'table.txt', 'w') as file:\n",
    "    file.write(fancy_table)"
   ]
  },
  {
   "cell_type": "code",
   "execution_count": 23,
   "id": "26bd0add",
   "metadata": {},
   "outputs": [
    {
     "ename": "NameError",
     "evalue": "name 'files_estimated_counts' is not defined",
     "output_type": "error",
     "traceback": [
      "\u001b[0;31m---------------------------------------------------------------------------\u001b[0m",
      "\u001b[0;31mNameError\u001b[0m                                 Traceback (most recent call last)",
      "\u001b[0;32m/tmp/ipykernel_3868890/4143789884.py\u001b[0m in \u001b[0;36m<module>\u001b[0;34m\u001b[0m\n\u001b[1;32m     37\u001b[0m     \u001b[0mname\u001b[0m \u001b[0;34m=\u001b[0m \u001b[0;34m''\u001b[0m\u001b[0;34m.\u001b[0m\u001b[0mjoin\u001b[0m\u001b[0;34m(\u001b[0m\u001b[0mname\u001b[0m\u001b[0;34m)\u001b[0m\u001b[0;34m\u001b[0m\u001b[0;34m\u001b[0m\u001b[0m\n\u001b[1;32m     38\u001b[0m \u001b[0;34m\u001b[0m\u001b[0m\n\u001b[0;32m---> 39\u001b[0;31m     \u001b[0mn_estimated_counts\u001b[0m \u001b[0;34m=\u001b[0m \u001b[0mfiles_estimated_counts\u001b[0m\u001b[0;34m[\u001b[0m\u001b[0mk\u001b[0m\u001b[0;34m]\u001b[0m\u001b[0;34m\u001b[0m\u001b[0;34m\u001b[0m\u001b[0m\n\u001b[0m\u001b[1;32m     40\u001b[0m \u001b[0;34m\u001b[0m\u001b[0m\n\u001b[1;32m     41\u001b[0m \u001b[0;31m#     print(f'{name} | {n_manual_counts:>6.0f} | {n_automatic_counts:>5.0f} | {n_estimated_counts}')\u001b[0m\u001b[0;34m\u001b[0m\u001b[0;34m\u001b[0m\u001b[0;34m\u001b[0m\u001b[0m\n",
      "\u001b[0;31mNameError\u001b[0m: name 'files_estimated_counts' is not defined"
     ]
    }
   ],
   "source": [
    "mae_video, mae_audio = 0, 0\n",
    "rvce_video, rvce_audio = [], []\n",
    "\n",
    "errors_video = []\n",
    "errors_audio = []\n",
    "\n",
    "do_not_consider = [\n",
    "#     '20190819-Ricany-L3-in-MVI_0006',\n",
    "#     '20190819-Ricany-L6-in-MVI_0008',\n",
    "#     '20190819-Kutna Hora-L18-in-MVI_0030',\n",
    "#     '20190819-Kutna Hora-L14-out-MVI_0005'\n",
    "]\n",
    "\n",
    "table = ['file name, manual events, video error, video rvce, audio error, audio rvce']\n",
    "\n",
    "all_manual_events = []\n",
    "\n",
    "# print(f'name {\" \" * 35} | manual | video | audio')\n",
    "\n",
    "header = ['file', 'manual', 'video']\n",
    "\n",
    "for k, n_manual_counts in files_manual_counts.items():\n",
    "    if k in do_not_consider:\n",
    "        continue\n",
    "        \n",
    "#     n_events_in_each_interval = np.genfromtxt(f'data/for_manual_annotation/{k}.csv', delimiter=',', skip_header=1)[:, 1]\n",
    "#     n_automatic_counts = int(n_events_in_each_interval.sum())\n",
    "    \n",
    "    events_times = np.loadtxt(f'data/labels/{k}.MP4.txt')\n",
    "    n_automatic_counts = np.sum([(events_times >= files_times[k][0]) & (events_times <= files_times[k][1])])\n",
    "    \n",
    "    # append white spaces\n",
    "    name = ' ' * 40\n",
    "    name = list(name)\n",
    "    for i, ki in enumerate(k):\n",
    "        name[i] = ki\n",
    "    name = ''.join(name)\n",
    "    \n",
    "    n_estimated_counts = files_estimated_counts[k]\n",
    "    \n",
    "#     print(f'{name} | {n_manual_counts:>6.0f} | {n_automatic_counts:>5.0f} | {n_estimated_counts}')\n",
    "    \n",
    "    error_video = n_automatic_counts - n_manual_counts\n",
    "    error_audio = n_estimated_counts - n_manual_counts\n",
    "    \n",
    "    all_manual_events.append(n_manual_counts)\n",
    "    \n",
    "    errors_video.append(error_video)\n",
    "    errors_audio.append(error_audio)\n",
    "    \n",
    "    mae_video += abs(n_manual_counts - n_automatic_counts)\n",
    "    rvce_v = abs(n_manual_counts - n_automatic_counts) / n_manual_counts * 100\n",
    "    rvce_video.append(rvce_v)\n",
    "    \n",
    "    mae_audio += abs(n_manual_counts - n_estimated_counts)\n",
    "    rvce_a = abs(n_manual_counts - n_estimated_counts) / n_manual_counts * 100\n",
    "    rvce_audio.append(rvce_a)\n",
    "    \n",
    "    row = f'{k},{n_manual_counts},{error_video},{rvce_v:.1f},{error_audio},{rvce_a:.1f}'\n",
    "    table.append(row)\n",
    "    \n",
    "table = np.array(table)\n",
    "print(table)\n",
    "np.savetxt('table.csv', table, fmt='%s', delimiter=',')\n",
    "\n",
    "mae_video /= len(files_manual_counts)\n",
    "# rvce_video = np.mean(rvce_video)\n",
    "\n",
    "mae_audio /= len(files_manual_counts)\n",
    "# rvce_audio = np.mean(rvce_audio)\n",
    "\n",
    "print()\n",
    "print(f'Events {np.mean(all_manual_events):.2f} ± {np.std(all_manual_events):.2f}')\n",
    "print()\n",
    "print(f'Error video {np.mean(errors_video):.2f} ± {np.std(errors_video):.2f}')\n",
    "print(f'RVCE video  {np.mean(rvce_video):.2f} ± {np.std(rvce_video):.2f}%')\n",
    "print()\n",
    "# print(f'MAE audio  {mae_audio:.4f}')\n",
    "print(f'Error audio {np.mean(errors_audio):.2f} ± {np.std(errors_audio):.2f}')\n",
    "print(f'RVCE audio {np.mean(rvce_audio):.2f} ± {np.std(rvce_audio):.2f}%')"
   ]
  },
  {
   "cell_type": "code",
   "execution_count": 15,
   "id": "fd175a2b",
   "metadata": {},
   "outputs": [],
   "source": [
    "from cross_validation import cross_validation_error\n",
    "from train_classification import validate_and_save"
   ]
  },
  {
   "cell_type": "code",
   "execution_count": 12,
   "id": "36ec4b9b",
   "metadata": {},
   "outputs": [
    {
     "name": "stderr",
     "output_type": "stream",
     "text": [
      "Video loading: 100%|██████████████████████████████████████████████████████████████████████████████████████████████████████████████████████████████| 20/20 [00:48<00:00,  2.44s/it]\n",
      "100%|█████████████████████████████████████████████████████████████████████████████████████████████████████████████████████████████████████████████| 20/20 [00:20<00:00,  1.02s/it]\n",
      "100%|█████████████████████████████████████████████████████████████████████████████████████████████████████████████████████████████████████████████| 20/20 [00:07<00:00,  2.51it/s]\n",
      "Video loading: 100%|████████████████████████████████████████████████████████████████████████████████████████████████████████████████████████████████| 5/5 [00:14<00:00,  2.87s/it]\n",
      "100%|███████████████████████████████████████████████████████████████████████████████████████████████████████████████████████████████████████████████| 5/5 [00:07<00:00,  1.53s/it]\n",
      "Video loading: 100%|██████████████████████████████████████████████████████████████████████████████████████████████████████████████████████████████| 20/20 [00:50<00:00,  2.53s/it]\n",
      "100%|█████████████████████████████████████████████████████████████████████████████████████████████████████████████████████████████████████████████| 20/20 [00:20<00:00,  1.05s/it]\n",
      "100%|█████████████████████████████████████████████████████████████████████████████████████████████████████████████████████████████████████████████| 20/20 [00:08<00:00,  2.27it/s]\n",
      "Video loading: 100%|████████████████████████████████████████████████████████████████████████████████████████████████████████████████████████████████| 5/5 [00:12<00:00,  2.41s/it]\n",
      "100%|███████████████████████████████████████████████████████████████████████████████████████████████████████████████████████████████████████████████| 5/5 [00:06<00:00,  1.32s/it]\n",
      "Video loading: 100%|██████████████████████████████████████████████████████████████████████████████████████████████████████████████████████████████| 20/20 [00:50<00:00,  2.51s/it]\n",
      "100%|█████████████████████████████████████████████████████████████████████████████████████████████████████████████████████████████████████████████| 20/20 [00:21<00:00,  1.09s/it]\n",
      "100%|█████████████████████████████████████████████████████████████████████████████████████████████████████████████████████████████████████████████| 20/20 [00:08<00:00,  2.24it/s]\n",
      "Video loading: 100%|████████████████████████████████████████████████████████████████████████████████████████████████████████████████████████████████| 5/5 [00:12<00:00,  2.41s/it]\n",
      "100%|███████████████████████████████████████████████████████████████████████████████████████████████████████████████████████████████████████████████| 5/5 [00:06<00:00,  1.30s/it]\n",
      "Video loading: 100%|██████████████████████████████████████████████████████████████████████████████████████████████████████████████████████████████| 20/20 [00:50<00:00,  2.51s/it]\n",
      "100%|█████████████████████████████████████████████████████████████████████████████████████████████████████████████████████████████████████████████| 20/20 [00:20<00:00,  1.04s/it]\n",
      "100%|█████████████████████████████████████████████████████████████████████████████████████████████████████████████████████████████████████████████| 20/20 [00:08<00:00,  2.25it/s]\n",
      "Video loading: 100%|████████████████████████████████████████████████████████████████████████████████████████████████████████████████████████████████| 5/5 [00:11<00:00,  2.40s/it]\n",
      "100%|███████████████████████████████████████████████████████████████████████████████████████████████████████████████████████████████████████████████| 5/5 [00:06<00:00,  1.32s/it]\n",
      "Video loading: 100%|██████████████████████████████████████████████████████████████████████████████████████████████████████████████████████████████| 20/20 [00:50<00:00,  2.51s/it]\n",
      "100%|█████████████████████████████████████████████████████████████████████████████████████████████████████████████████████████████████████████████| 20/20 [00:20<00:00,  1.05s/it]\n",
      "100%|█████████████████████████████████████████████████████████████████████████████████████████████████████████████████████████████████████████████| 20/20 [00:08<00:00,  2.25it/s]\n",
      "Video loading: 100%|████████████████████████████████████████████████████████████████████████████████████████████████████████████████████████████████| 5/5 [00:11<00:00,  2.36s/it]\n",
      "100%|███████████████████████████████████████████████████████████████████████████████████████████████████████████████████████████████████████████████| 5/5 [00:06<00:00,  1.29s/it]\n"
     ]
    }
   ],
   "source": [
    "uuids = []\n",
    "for i in range(5):\n",
    "    uuid = f'cross_validation_5/{i}'\n",
    "    model, config = load_model_locally(uuid, 'rvce')\n",
    "    \n",
    "    datapool = DataPool(config.training_files, config.window_length, config.split_ratio)\n",
    "    validate_and_save(uuid, datapool, 'trn', True)\n",
    "    validate_and_save(uuid, datapool, 'val', False)\n",
    "    \n",
    "    datapool = DataPool(config.testing_files, config.window_length, config.split_ratio)\n",
    "    validate_and_save(uuid, datapool, 'tst', None)\n",
    "#     uuids.append(uuid)\n",
    "# cross_validation_error(uuids)"
   ]
  },
  {
   "cell_type": "code",
   "execution_count": 20,
   "id": "e6762704",
   "metadata": {},
   "outputs": [
    {
     "data": {
      "text/plain": [
       "['cross_validation_5/0',\n",
       " 'cross_validation_5/1',\n",
       " 'cross_validation_5/2',\n",
       " 'cross_validation_5/3',\n",
       " 'cross_validation_5/4']"
      ]
     },
     "execution_count": 20,
     "metadata": {},
     "output_type": "execute_result"
    }
   ],
   "source": [
    "uuids = []\n",
    "for i in range(5):\n",
    "    uuid = f'cross_validation_5/{i}'\n",
    "    uuids.append(uuid)\n",
    "uuids"
   ]
  },
  {
   "cell_type": "code",
   "execution_count": 21,
   "id": "7669d26d",
   "metadata": {},
   "outputs": [
    {
     "name": "stdout",
     "output_type": "stream",
     "text": [
      "[array(['0.026', '6', '232', '0.465', '[0, 2069]',\n",
      "       '20190819-Kutna Hora-L14-out-MVI_0005'], dtype='<U36'), array(['0.030', '8', '265', '0.328', '[0, 3752]',\n",
      "       '20190819-Kutna Hora-L10-out-SDV_1888'], dtype='<U36'), array(['0.101', '-30', '296', '0.448', '[0, 2067]',\n",
      "       '20190819-Kutna Hora-L1-out-MVI_0007'], dtype='<U36'), array(['0.127', '-8', '63', '0.064', '[0, 2068]',\n",
      "       '20190819-Ricany-L9-in-MVI_0008'], dtype='<U36'), array(['0.236', '-108', '457', '0.698', '[0, 2068]',\n",
      "       '20190819-Ricany-L3-in-MVI_0006'], dtype='<U36'), array(['0.042', '14', '336', '0.434', '[0, 2062]',\n",
      "       '20190819-Ricany-L8-out-MVI_0013'], dtype='<U35'), array(['0.211', '60', '285', '0.379', '[0, 2059]',\n",
      "       '20190819-Kutna Hora-L3-in-MVI_0005'], dtype='<U35'), array(['0.234', '-11', '47', '0.050', '[0, 2062]',\n",
      "       '20190819-Kutna Hora-L7-out-MVI_0032'], dtype='<U35'), array(['0.353', '-260', '737', '1.221', '[0, 2065]',\n",
      "       '20190819-Kutna Hora-L18-in-MVI_0030'], dtype='<U35'), array(['2.375', '19', '8', '0.056', '[0, 2042]',\n",
      "       '20190819-Kutna Hora-L13-in-MVI_0006'], dtype='<U35'), array(['0.059', '-1', '17', '0.015', '[0, 2048]',\n",
      "       '20190819-Kutna Hora-L6-out-MVI_0017'], dtype='<U36'), array(['0.076', '-45', '592', '0.706', '[0, 2065]',\n",
      "       '20190819-Ricany-L2-out-MVI_0005'], dtype='<U36'), array(['0.157', '26', '166', '0.260', '[0, 2057]',\n",
      "       '20190819-Kutna Hora-L4-in-MVI_0013'], dtype='<U36'), array(['0.200', '-2', '10', '0.006', '[0, 2055]',\n",
      "       '20190819-Kutna Hora-L15-out-MVI_0012'], dtype='<U36'), array(['0.656', '164', '250', '0.779', '[0, 2065]',\n",
      "       '20190819-Kutna Hora-L3-out-MVI_0008'], dtype='<U36'), array(['0.054', '-16', '294', '0.343', '[0, 2067]',\n",
      "       '20190819-Ricany-L7-out-MVI_0013'], dtype='<U31'), array(['0.222', '79', '356', '0.493', '[0, 2051]',\n",
      "       '20190819-Ricany-L8-in-MVI_0009'], dtype='<U31'), array(['0.277', '-231', '833', '0.950', '[0, 2060]',\n",
      "       '20190819-Ricany-L6-in-MVI_0008'], dtype='<U31'), array(['0.284', '-209', '737', '0.845', '[0, 2055]',\n",
      "       '20190819-Ricany-L6-out-MVI_0011'], dtype='<U31'), array(['0.373', '-22', '59', '0.093', '[0, 2062]',\n",
      "       '20190819-Ricany-L9-out-MVI_0011'], dtype='<U31'), array(['0.004', '-2', '495', '0.703', '[0, 2067]',\n",
      "       '20190819-Ricany-L7-in-MVI_0008'], dtype='<U36'), array(['0.017', '-2', '118', '0.140', '[0, 2065]',\n",
      "       '20190819-Kutna Hora-L9-in-MVI_0043'], dtype='<U36'), array(['0.090', '-45', '502', '0.477', '[0, 2068]',\n",
      "       '20190819-Ricany-L2-in-MVI_0006'], dtype='<U36'), array(['0.203', '-42', '207', '0.287', '[0, 1925]',\n",
      "       '20190819-Kutna Hora-L8-in-MVI_0045'], dtype='<U36'), array(['0.286', '4', '14', '0.018', '[0, 2046]',\n",
      "       '20190819-Kutna Hora-L13-out-MVI_0018'], dtype='<U36')]\n"
     ]
    }
   ],
   "source": [
    "cross_validation_error(uuids)"
   ]
  },
  {
   "cell_type": "code",
   "execution_count": 210,
   "id": "bfe7a7c8",
   "metadata": {},
   "outputs": [
    {
     "data": {
      "text/plain": [
       "<function cross_validation.cross_validation_error(uuids, model_name='rvce', prefix='tst')>"
      ]
     },
     "execution_count": 210,
     "metadata": {},
     "output_type": "execute_result"
    }
   ],
   "source": [
    "cross_validation_error"
   ]
  },
  {
   "cell_type": "code",
   "execution_count": 22,
   "id": "be09c62f",
   "metadata": {},
   "outputs": [],
   "source": [
    "from glob import glob"
   ]
  },
  {
   "cell_type": "code",
   "execution_count": 25,
   "id": "ebd2ba07",
   "metadata": {},
   "outputs": [
    {
     "data": {
      "text/plain": [
       "['data/video/20190819-Kategorizace-Vinohradska-smer Ven-MVI_0010.MP4',\n",
       " 'data/video/20190819-Ricany-L5-in-MVI_0007.MP4',\n",
       " 'data/video/20190819-Kutna Hora-L9-in-MVI_0043.MP4',\n",
       " 'data/video/17_RX100.MP4',\n",
       " 'data/video/20190819-Ricany-L2-in-MVI_0006.MP4',\n",
       " 'data/video/20190819-Kategorizace-Jizni spojka-cam 3-MVI_0009.MP4',\n",
       " 'data/video/13_RX100.MP4',\n",
       " 'data/video/20190819-Kutna Hora-L1-out-MVI_0007.MP4',\n",
       " 'data/video/20190819-Ricany-L8-out-MVI_0013.MP4',\n",
       " 'data/video/20190819-Kutna Hora-L14-out-MVI_0005.MP4',\n",
       " 'data/video/10_iphone.MP4',\n",
       " 'data/video/20190819-Ricany-L4-in-MVI_0007.MP4',\n",
       " 'data/video/01_Vypadova_A6000.MP4',\n",
       " 'data/video/20190819-Kutna Hora-L5-in-MVI_0003.MP4',\n",
       " 'data/video/11_RX100.MP4',\n",
       " 'data/video/20190819-Kategorizace-Vinohradska-smer Centrum-MVI_0013.MP4',\n",
       " 'data/video/20190819-Kutna Hora-L6-out-MVI_0017.MP4',\n",
       " 'data/video/20190819-Kutna Hora-L13-out-MVI_0018.MP4',\n",
       " 'data/video/20190819-Kutna Hora-L14-in-SDV_0012.MP4',\n",
       " 'data/video/20190819-Kutna Hora-L10-out-SDV_1888.MP4',\n",
       " 'data/video/20190819-Kutna Hora-L18-in-MVI_0030.MP4',\n",
       " 'data/video/20190819-Kutna Hora-L2-in-MVI_0030.MP4',\n",
       " 'data/video/20190819-Ricany-L9-out-MVI_0011.MP4',\n",
       " 'data/video/16_RX100.MP4',\n",
       " 'data/video/20190819-Kutna Hora-L4-in-MVI_0013.MP4',\n",
       " 'data/video/14_RX100.MP4',\n",
       " 'data/video/20190819-Kutna Hora-L18-out-MVI_0045.MP4',\n",
       " 'data/video/20190819-Ricany-L3-in-MVI_0006.MP4',\n",
       " 'data/video/20190819-Ricany-L6-out-MVI_0011.MP4',\n",
       " 'data/video/20190819-Kutna Hora-L12-out-MVI_0021.MP4',\n",
       " 'data/video/20190819-Ricany-L3-out-MVI_0014.MP4',\n",
       " 'data/video/20190819-Ricany-L5-out-MVI_0008.MP4',\n",
       " 'data/video/20190819-Ricany-L7-in-MVI_0008.MP4',\n",
       " 'data/video/20190819-Ricany-L1-in-MVI_0006.MP4',\n",
       " 'data/video/20190819-Kategorizace-Jizni spojka-cam 1-MVI_0008.MP4',\n",
       " 'data/video/20190819-Ricany-L1-out-MVI_0009.MP4',\n",
       " 'data/video/20190819-Kutna Hora-L16-out-MVI_0003.MP4',\n",
       " 'data/video/20190819-Kutna Hora-L3-in-MVI_0005.MP4',\n",
       " 'data/video/20190819-Kutna Hora-L1-in-MVI_0038.MP4',\n",
       " 'data/video/20190819-Kategorizace-Jizni spojka-cam 2-MVI_0010.MP4',\n",
       " 'data/video/12_RX100.MP4',\n",
       " 'data/video/20190819-Kutna Hora-L16-in-MVI_0038.MP4',\n",
       " 'data/video/20190819-Ricany-L4-out-MVI_0012.MP4',\n",
       " 'data/video/03_KPrehradam_A6000.MP4',\n",
       " 'data/video/20190819-Kutna Hora-L17-out-MVI_0040.MP4',\n",
       " 'data/video/20190819-Kutna Hora-L11-in-MVI_0002.MP4',\n",
       " 'data/video/20190819-Kutna Hora-L4-out-MVI_0040.MP4',\n",
       " 'data/video/20190819-Kutna Hora-L13-in-MVI_0006.MP4',\n",
       " 'data/video/20190819-Kutna Hora-L7-out-MVI_0032.MP4',\n",
       " 'data/video/01_Vypadova_RX100.MP4',\n",
       " 'data/video/20190819-Kutna Hora-L11-out-MVI_0046.MP4',\n",
       " 'data/video/15_RX100.MP4',\n",
       " 'data/video/20190819-Ricany-L2-out-MVI_0005.MP4',\n",
       " 'data/video/20190819-Kutna Hora-L3-out-MVI_0008.MP4',\n",
       " 'data/video/20190819-Ricany-L7-out-MVI_0013.MP4',\n",
       " 'data/video/20190819-Ricany-L8-in-MVI_0009.MP4',\n",
       " 'data/video/20190819-Kutna Hora-L10-in-MVI_0029.MP4',\n",
       " 'data/video/20190819-Kutna Hora-L2-out-MVI_0008.MP4',\n",
       " 'data/video/20190819-Ricany-L9-in-MVI_0008.MP4',\n",
       " 'data/video/20190819-Kutna Hora-L15-out-MVI_0012.MP4',\n",
       " 'data/video/20190819-Kutna Hora-L8-in-MVI_0045.MP4',\n",
       " 'data/video/20190819-Ricany-L6-in-MVI_0008.MP4',\n",
       " 'data/video/20190819-Kutna Hora-L17-in-MVI_0036.MP4']"
      ]
     },
     "execution_count": 25,
     "metadata": {},
     "output_type": "execute_result"
    }
   ],
   "source": [
    "glob('data/video/*.MP4')"
   ]
  },
  {
   "cell_type": "code",
   "execution_count": 32,
   "id": "9edef2c5",
   "metadata": {},
   "outputs": [],
   "source": [
    "import shutil"
   ]
  },
  {
   "cell_type": "code",
   "execution_count": 63,
   "id": "9e97ef0d",
   "metadata": {},
   "outputs": [
    {
     "data": {
      "text/plain": [
       "['../data/MultiDo/Eyedea/Prujezdy1/01_Vypadova_A41.csv',\n",
       " '../data/MultiDo/Eyedea/Prujezdy1/01_Vypadova_D600.csv',\n",
       " '../data/MultiDo/Eyedea/Prujezdy1/03_KPrehradam_A6000.csv',\n",
       " '../data/MultiDo/Eyedea/Prujezdy1/05_RX100.csv',\n",
       " '../data/MultiDo/Eyedea/Prujezdy1/06_RX100.csv',\n",
       " '../data/MultiDo/Eyedea/Prujezdy1/07_RX100.csv',\n",
       " '../data/MultiDo/Eyedea/Prujezdy1/08_iphone.csv',\n",
       " '../data/MultiDo/Eyedea/Prujezdy1/09_RX100.csv',\n",
       " '../data/MultiDo/Eyedea/Prujezdy1/10_RX100.csv',\n",
       " '../data/MultiDo/Eyedea/Prujezdy1/11_RX100.csv',\n",
       " '../data/MultiDo/Eyedea/Prujezdy1/12_RX100.csv',\n",
       " '../data/MultiDo/Eyedea/Prujezdy1/13_RX100.csv',\n",
       " '../data/MultiDo/Eyedea/Prujezdy1/14_RX100.csv',\n",
       " '../data/MultiDo/Eyedea/Prujezdy1/15_RX100.csv',\n",
       " '../data/MultiDo/Eyedea/Prujezdy1/16_RX100.csv',\n",
       " '../data/MultiDo/Eyedea/Prujezdy1/17_RX100.csv']"
      ]
     },
     "execution_count": 63,
     "metadata": {},
     "output_type": "execute_result"
    }
   ],
   "source": [
    "files = sorted(glob('../data/MultiDo/Eyedea/Prujezdy1/*.csv'))\n",
    "# files = sorted(glob('data/video/*.MP4'))\n",
    "files"
   ]
  },
  {
   "cell_type": "code",
   "execution_count": 59,
   "id": "bdc12164",
   "metadata": {},
   "outputs": [],
   "source": [
    "# os.symlink(src, dst)"
   ]
  },
  {
   "cell_type": "code",
   "execution_count": 64,
   "id": "bc777352",
   "metadata": {},
   "outputs": [],
   "source": [
    "names = []\n",
    "for file in files:\n",
    "    name = file.split('/')[-1]\n",
    "#     print(name[:-4])\n",
    "    names.append(name[:-4])\n",
    "    name = f'{name[:-4]}.MP4.csv'\n",
    "#     destination = f'data/csv/{name}'\n",
    "#     print(destination)\n",
    "#     shutil.copy2(file, destination)"
   ]
  },
  {
   "cell_type": "code",
   "execution_count": 70,
   "id": "8540fec7",
   "metadata": {},
   "outputs": [
    {
     "data": {
      "text/plain": [
       "['../data/MultiDo/dataset/12_Mobius.MOV',\n",
       " '../data/MultiDo/dataset/11_Mobius.MOV',\n",
       " '../data/MultiDo/dataset/10_RX100.csv',\n",
       " '../data/MultiDo/dataset/09_RX100.MTS.avi.mp4',\n",
       " '../data/MultiDo/dataset/16_iphone.mp4',\n",
       " '../data/MultiDo/dataset/05_Mobius.mov',\n",
       " '../data/MultiDo/dataset/16_Mobius.MOV',\n",
       " '../data/MultiDo/dataset/13_RX100.csv',\n",
       " '../data/MultiDo/dataset/08_Mobius.MOV',\n",
       " '../data/MultiDo/dataset/09_Mobius.MOV',\n",
       " '../data/MultiDo/dataset/11_iphone.MOV',\n",
       " '../data/MultiDo/dataset/10_iphone.MP4',\n",
       " '../data/MultiDo/dataset/17_RX100.MP4',\n",
       " '../data/MultiDo/dataset/03_KPrehradam_Mobius.MOV',\n",
       " '../data/MultiDo/dataset/07_iphone.mp4',\n",
       " '../data/MultiDo/dataset/03_KPrehradam_A41.mp4',\n",
       " '../data/MultiDo/dataset/03_KPrehradam_D600.MOV',\n",
       " '../data/MultiDo/dataset/06_Mobius.mov',\n",
       " '../data/MultiDo/dataset/11_RX100.MP4',\n",
       " '../data/MultiDo/dataset/07_RX100.csv',\n",
       " '../data/MultiDo/dataset/03_KPrehradam_iPhoneXS.mp4',\n",
       " '../data/MultiDo/dataset/06_RX100.csv',\n",
       " '../data/MultiDo/dataset/05_RX100.mp4',\n",
       " '../data/MultiDo/dataset/16_RX100.MP4',\n",
       " '../data/MultiDo/dataset/01_Vypadova_RX100.MP4',\n",
       " '../data/MultiDo/dataset/01_Vypadova_D600.MOV',\n",
       " '../data/MultiDo/dataset/14_RX100.MP4',\n",
       " '../data/MultiDo/dataset/01_Vypadova_A6000.MP4',\n",
       " '../data/MultiDo/dataset/06_RX100.mts',\n",
       " '../data/MultiDo/dataset/11_RX100.csv',\n",
       " '../data/MultiDo/dataset/17_iphone.mp4',\n",
       " '../data/MultiDo/dataset/12_RX100.csv',\n",
       " '../data/MultiDo/dataset/01_Vypadova_D600.csv',\n",
       " '../data/MultiDo/dataset/09_iphone.MOV',\n",
       " '../data/MultiDo/dataset/17_RX100.csv',\n",
       " '../data/MultiDo/dataset/07_RX100.mp4',\n",
       " '../data/MultiDo/dataset/14_iphone.MOV',\n",
       " '../data/MultiDo/dataset/14_RX100.csv',\n",
       " '../data/MultiDo/dataset/05_RX100.csv',\n",
       " '../data/MultiDo/dataset/08_iphone.csv',\n",
       " '../data/MultiDo/dataset/01_Vypadova_A41.mp4',\n",
       " '../data/MultiDo/dataset/12_RX100.MP4',\n",
       " '../data/MultiDo/dataset/06_RX100.mp4',\n",
       " '../data/MultiDo/dataset/08_RX100.MTS',\n",
       " '../data/MultiDo/dataset/05_iphone.mov',\n",
       " '../data/MultiDo/dataset/15_iphone.MOV',\n",
       " '../data/MultiDo/dataset/12_iphone.MOV',\n",
       " '../data/MultiDo/dataset/16_RX100.csv',\n",
       " '../data/MultiDo/dataset/13_RX100.MP4',\n",
       " '../data/MultiDo/dataset/17_Mobius.MOV',\n",
       " '../data/MultiDo/dataset/15_RX100.MP4',\n",
       " '../data/MultiDo/dataset/03_KPrehradam_A6000.MP4',\n",
       " '../data/MultiDo/dataset/10_RX100.MTS.avi.mp4',\n",
       " '../data/MultiDo/dataset/13_Mobius.MOV',\n",
       " '../data/MultiDo/dataset/14_Mobius.MOV',\n",
       " '../data/MultiDo/dataset/15_Mobius.MOV',\n",
       " '../data/MultiDo/dataset/03_KPrehradam_A6000.csv',\n",
       " '../data/MultiDo/dataset/13_iphone.MOV',\n",
       " '../data/MultiDo/dataset/15_RX100.csv',\n",
       " '../data/MultiDo/dataset/09_RX100.csv',\n",
       " '../data/MultiDo/dataset/08_iphone.MOV.mp4',\n",
       " '../data/MultiDo/dataset/01_Vypadova_A41.csv']"
      ]
     },
     "execution_count": 70,
     "metadata": {},
     "output_type": "execute_result"
    }
   ],
   "source": [
    "all_files"
   ]
  },
  {
   "cell_type": "code",
   "execution_count": 69,
   "id": "f5a03d87",
   "metadata": {},
   "outputs": [
    {
     "name": "stdout",
     "output_type": "stream",
     "text": [
      "- 01_Vypadova_A41\n",
      "../data/MultiDo/dataset/01_Vypadova_A41.mp4\n",
      "../data/MultiDo/dataset/01_Vypadova_A41.csv\n",
      "- 01_Vypadova_D600\n",
      "../data/MultiDo/dataset/01_Vypadova_D600.MOV\n",
      "../data/MultiDo/dataset/01_Vypadova_D600.csv\n",
      "- 03_KPrehradam_A6000\n",
      "../data/MultiDo/dataset/03_KPrehradam_A6000.MP4\n",
      "../data/MultiDo/dataset/03_KPrehradam_A6000.csv\n",
      "- 05_RX100\n",
      "../data/MultiDo/dataset/05_RX100.mp4\n",
      "../data/MultiDo/dataset/05_RX100.csv\n",
      "- 06_RX100\n",
      "../data/MultiDo/dataset/06_RX100.csv\n",
      "../data/MultiDo/dataset/06_RX100.mts\n",
      "../data/MultiDo/dataset/06_RX100.mp4\n",
      "- 07_RX100\n",
      "../data/MultiDo/dataset/07_RX100.csv\n",
      "../data/MultiDo/dataset/07_RX100.mp4\n",
      "- 08_iphone\n",
      "../data/MultiDo/dataset/08_iphone.csv\n",
      "../data/MultiDo/dataset/08_iphone.MOV.mp4\n",
      "- 09_RX100\n",
      "../data/MultiDo/dataset/09_RX100.MTS.avi.mp4\n",
      "../data/MultiDo/dataset/09_RX100.csv\n",
      "- 10_RX100\n",
      "../data/MultiDo/dataset/10_RX100.csv\n",
      "../data/MultiDo/dataset/10_RX100.MTS.avi.mp4\n",
      "- 11_RX100\n",
      "../data/MultiDo/dataset/11_RX100.MP4\n",
      "../data/MultiDo/dataset/11_RX100.csv\n",
      "- 12_RX100\n",
      "../data/MultiDo/dataset/12_RX100.csv\n",
      "../data/MultiDo/dataset/12_RX100.MP4\n",
      "- 13_RX100\n",
      "../data/MultiDo/dataset/13_RX100.csv\n",
      "../data/MultiDo/dataset/13_RX100.MP4\n",
      "- 14_RX100\n",
      "../data/MultiDo/dataset/14_RX100.MP4\n",
      "../data/MultiDo/dataset/14_RX100.csv\n",
      "- 15_RX100\n",
      "../data/MultiDo/dataset/15_RX100.MP4\n",
      "../data/MultiDo/dataset/15_RX100.csv\n",
      "- 16_RX100\n",
      "../data/MultiDo/dataset/16_RX100.MP4\n",
      "../data/MultiDo/dataset/16_RX100.csv\n",
      "- 17_RX100\n",
      "../data/MultiDo/dataset/17_RX100.MP4\n",
      "../data/MultiDo/dataset/17_RX100.csv\n"
     ]
    }
   ],
   "source": [
    "all_files = glob('../data/MultiDo/dataset/*')\n",
    "for n in sorted(names):\n",
    "    print('-',n)\n",
    "    for file in all_files:\n",
    "        if n in file:\n",
    "            print(file)\n"
   ]
  },
  {
   "cell_type": "code",
   "execution_count": null,
   "id": "e3820692",
   "metadata": {},
   "outputs": [],
   "source": []
  }
 ],
 "metadata": {
  "kernelspec": {
   "display_name": "Python 3 (ipykernel)",
   "language": "python",
   "name": "python3"
  },
  "language_info": {
   "codemirror_mode": {
    "name": "ipython",
    "version": 3
   },
   "file_extension": ".py",
   "mimetype": "text/x-python",
   "name": "python",
   "nbconvert_exporter": "python",
   "pygments_lexer": "ipython3",
   "version": "3.9.0"
  }
 },
 "nbformat": 4,
 "nbformat_minor": 5
}

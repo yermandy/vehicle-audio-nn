{
 "cells": [
  {
   "cell_type": "code",
   "execution_count": 1,
   "metadata": {},
   "outputs": [],
   "source": [
    "%load_ext autoreload\n",
    "%autoreload 2"
   ]
  },
  {
   "cell_type": "code",
   "execution_count": 2,
   "metadata": {},
   "outputs": [],
   "source": [
    "import matplotlib.pyplot as plt\n",
    "from src import *"
   ]
  },
  {
   "cell_type": "code",
   "execution_count": 3,
   "metadata": {},
   "outputs": [],
   "source": [
    "model, config = load_model_locally('clean_cross_validation_5_gaussian_blur/2', 'rvce')\n",
    "transform = create_transformation(config)"
   ]
  },
  {
   "cell_type": "code",
   "execution_count": 4,
   "metadata": {},
   "outputs": [
    {
     "data": {
      "text/plain": [
       "5"
      ]
     },
     "execution_count": 4,
     "metadata": {},
     "output_type": "execute_result"
    }
   ],
   "source": [
    "config.gaussian_blur"
   ]
  },
  {
   "cell_type": "code",
   "execution_count": 5,
   "metadata": {},
   "outputs": [
    {
     "name": "stderr",
     "output_type": "stream",
     "text": [
      "Video loading: 100%|██████████| 4/4 [00:00<00:00,  8.94it/s]\n"
     ]
    }
   ],
   "source": [
    "datapool = DataPool(config.testing_files, config.window_length, config.split_ratio, tqdm=tqdm)"
   ]
  },
  {
   "cell_type": "code",
   "execution_count": 6,
   "metadata": {},
   "outputs": [
    {
     "data": {
      "text/plain": [
       "{'20190819-Kutna Hora-L3-out-MVI_0008': <src.video.Video at 0x7f1b84b28ac0>,\n",
       " '20190819-Kutna Hora-L18-in-MVI_0030': <src.video.Video at 0x7f1b84b28f40>,\n",
       " '20190819-Ricany-L6-in-MVI_0008': <src.video.Video at 0x7f1b84b28a00>,\n",
       " '20190819-Ricany-L9-out-MVI_0011': <src.video.Video at 0x7f1b84b28ca0>}"
      ]
     },
     "execution_count": 6,
     "metadata": {},
     "output_type": "execute_result"
    }
   ],
   "source": [
    "datapool"
   ]
  },
  {
   "cell_type": "code",
   "execution_count": 17,
   "metadata": {},
   "outputs": [
    {
     "name": "stderr",
     "output_type": "stream",
     "text": [
      "100%|██████████| 4/4 [00:06<00:00,  1.67s/it]\n"
     ]
    }
   ],
   "source": [
    "MEs = []\n",
    "Ps = []\n",
    "table = []\n",
    "\n",
    "for video in tqdm(datapool):\n",
    "    from_time = 0\n",
    "    till_time = len(video.signal) // config.sr\n",
    "\n",
    "    predictions = validate(video.signal, model, transform, config, classification=True)\n",
    "    labels = get_labels(video.events, config.window_length, from_time, till_time)\n",
    "\n",
    "    n_events = len(video.events)\n",
    "    n_predicted = predictions.sum()\n",
    "    rvce = np.abs(n_predicted - n_events) / n_events\n",
    "\n",
    "    ME = {}\n",
    "    P = {}\n",
    "    for c in range(5):\n",
    "        labels_eq_c = labels == c\n",
    "        ME[c] = np.sum(labels_eq_c * (predictions - c)) / np.sum(labels_eq_c)\n",
    "        P[c] = np.mean(labels_eq_c)\n",
    "\n",
    "    MEs.append(ME)\n",
    "    Ps.append(P)\n",
    "\n",
    "    mae = np.abs(predictions - labels).mean()\n",
    "    \n",
    "    table.append([video.file, rvce, mae])\n",
    "    # break"
   ]
  },
  {
   "cell_type": "code",
   "execution_count": 18,
   "metadata": {},
   "outputs": [
    {
     "name": "stdout",
     "output_type": "stream",
     "text": [
      "-----------------------------------  ---------  ---------\n",
      "20190819-Kutna Hora-L3-out-MVI_0008  0.488      0.55814\n",
      "20190819-Kutna Hora-L18-in-MVI_0030  0.545455   1.49419\n",
      "20190819-Ricany-L6-in-MVI_0008       0.104442   0.746356\n",
      "20190819-Ricany-L9-out-MVI_0011      0.0847458  0.0553936\n",
      "-----------------------------------  ---------  ---------\n"
     ]
    }
   ],
   "source": [
    "print(tabulate(table))"
   ]
  },
  {
   "cell_type": "code",
   "execution_count": 25,
   "metadata": {},
   "outputs": [
    {
     "name": "stdout",
     "output_type": "stream",
     "text": [
      "['20190819-Kutna Hora-L3-out-MVI_0008', 0.488, 0.5581395348837209]\n",
      "0: 0.465, 0.469\n",
      "1: 0.390, 0.440\n",
      "2: 0.110, -0.132\n",
      "3: 0.026, -0.444\n",
      "4: 0.006, -1.000\n",
      "\n",
      "['20190819-Kutna Hora-L18-in-MVI_0030', 0.5454545454545454, 1.494186046511628]\n",
      "0: 0.102, 0.829\n",
      "1: 0.241, -0.157\n",
      "2: 0.314, -1.102\n",
      "3: 0.183, -1.810\n",
      "4: 0.099, -2.794\n",
      "\n",
      "['20190819-Ricany-L6-in-MVI_0008', 0.10444177671068428, 0.7463556851311953]\n",
      "0: 0.090, 0.484\n",
      "1: 0.207, 0.113\n",
      "2: 0.257, 0.023\n",
      "3: 0.210, -0.347\n",
      "4: 0.140, -0.646\n",
      "\n",
      "['20190819-Ricany-L9-out-MVI_0011', 0.0847457627118644, 0.05539358600583091]\n",
      "0: 0.845, 0.021\n",
      "1: 0.137, -0.149\n",
      "2: 0.017, -0.667\n",
      "3: 0.000, nan\n",
      "4: 0.000, nan\n",
      "\n"
     ]
    }
   ],
   "source": [
    "for row, P, ME in zip(table, Ps, MEs):\n",
    "    print(row)\n",
    "    for c in P.keys():\n",
    "        print(f'{c}: {P[c]:.3f}, {ME[c]:.3f}')\n",
    "    print()\n",
    "# for ME in MEs:\n",
    "#     print([ME])"
   ]
  },
  {
   "cell_type": "code",
   "execution_count": 22,
   "metadata": {},
   "outputs": [
    {
     "data": {
      "text/plain": [
       "[{0: 0.46511627906976744,\n",
       "  1: 0.38953488372093026,\n",
       "  2: 0.11046511627906977,\n",
       "  3: 0.02616279069767442,\n",
       "  4: 0.005813953488372093},\n",
       " {0: 0.10174418604651163,\n",
       "  1: 0.24127906976744187,\n",
       "  2: 0.313953488372093,\n",
       "  3: 0.18313953488372092,\n",
       "  4: 0.09883720930232558},\n",
       " {0: 0.09037900874635568,\n",
       "  1: 0.20699708454810495,\n",
       "  2: 0.2565597667638484,\n",
       "  3: 0.2099125364431487,\n",
       "  4: 0.13994169096209913},\n",
       " {0: 0.8454810495626822,\n",
       "  1: 0.13702623906705538,\n",
       "  2: 0.01749271137026239,\n",
       "  3: 0.0,\n",
       "  4: 0.0}]"
      ]
     },
     "execution_count": 22,
     "metadata": {},
     "output_type": "execute_result"
    }
   ],
   "source": [
    "Ps"
   ]
  },
  {
   "cell_type": "code",
   "execution_count": 26,
   "metadata": {},
   "outputs": [],
   "source": [
    "# from cross_validation import cross_validation_error\n",
    "\n",
    "# uuids = []\n",
    "# for i in range(5):\n",
    "#     uuids.append(f'clean_cross_validation_5_small_features/{i}')\n",
    "# cross_validation_error(uuids, 'mae')"
   ]
  },
  {
   "cell_type": "code",
   "execution_count": null,
   "metadata": {},
   "outputs": [],
   "source": []
  }
 ],
 "metadata": {
  "interpreter": {
   "hash": "5c5367881cd1cf07ff91f385af2760a91324c2d338b276ec1210beedc2863863"
  },
  "kernelspec": {
   "display_name": "Python 3.9.0 ('dev')",
   "language": "python",
   "name": "python3"
  },
  "language_info": {
   "codemirror_mode": {
    "name": "ipython",
    "version": 3
   },
   "file_extension": ".py",
   "mimetype": "text/x-python",
   "name": "python",
   "nbconvert_exporter": "python",
   "pygments_lexer": "ipython3",
   "version": "3.9.0"
  },
  "orig_nbformat": 4
 },
 "nbformat": 4,
 "nbformat_minor": 2
}

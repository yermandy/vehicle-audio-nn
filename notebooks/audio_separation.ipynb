{
 "cells": [
  {
   "cell_type": "code",
   "execution_count": 1,
   "id": "f43dcc86",
   "metadata": {},
   "outputs": [],
   "source": [
    "import moviepy.editor as mp\n",
    "import os\n",
    "\n",
    "os.chdir('..')"
   ]
  },
  {
   "cell_type": "code",
   "execution_count": 2,
   "id": "f61918d3",
   "metadata": {},
   "outputs": [],
   "source": [
    "files = [\n",
    "#     '20190819-Kutna Hora-L13-in-MVI_0006',\n",
    "#     '20190819-Kutna Hora-L14-in-SDV_0012',\n",
    "#     '20190819-Kutna Hora-L14-out-MVI_0005',\n",
    "#     '20190819-Kutna Hora-L1-out-MVI_0007',\n",
    "#     '20190819-Ricany-L2-in-MVI_0006',\n",
    "#     '20190819-Kutna Hora-L16-in-MVI_0038',\n",
    "    '20190819-Kutna Hora-L2-in-MVI_0030'\n",
    "]"
   ]
  },
  {
   "cell_type": "code",
   "execution_count": 3,
   "id": "e9900e9b",
   "metadata": {},
   "outputs": [
    {
     "name": "stdout",
     "output_type": "stream",
     "text": [
      "MoviePy - Writing audio in data/audio/20190819-Kutna Hora-L2-in-MVI_0030.wav\n"
     ]
    },
    {
     "name": "stderr",
     "output_type": "stream",
     "text": [
      "                                                                                                                                                                                                                                              "
     ]
    },
    {
     "name": "stdout",
     "output_type": "stream",
     "text": [
      "MoviePy - Done.\n"
     ]
    },
    {
     "name": "stderr",
     "output_type": "stream",
     "text": [
      "\r"
     ]
    }
   ],
   "source": [
    "for file in files:\n",
    "    import moviepy.editor as mp\n",
    "    video = mp.VideoFileClip(f\"data/video/{file}.MP4\")\n",
    "    video.audio.write_audiofile(f\"data/audio/{file}.wav\")"
   ]
  },
  {
   "cell_type": "code",
   "execution_count": null,
   "id": "9d13c091",
   "metadata": {},
   "outputs": [],
   "source": []
  }
 ],
 "metadata": {
  "kernelspec": {
   "display_name": "Python 3 (ipykernel)",
   "language": "python",
   "name": "python3"
  },
  "language_info": {
   "codemirror_mode": {
    "name": "ipython",
    "version": 3
   },
   "file_extension": ".py",
   "mimetype": "text/x-python",
   "name": "python",
   "nbconvert_exporter": "python",
   "pygments_lexer": "ipython3",
   "version": "3.9.0"
  }
 },
 "nbformat": 4,
 "nbformat_minor": 5
}

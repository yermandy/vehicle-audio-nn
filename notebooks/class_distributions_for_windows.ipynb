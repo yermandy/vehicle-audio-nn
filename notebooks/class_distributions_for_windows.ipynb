{
 "cells": [
  {
   "cell_type": "code",
   "execution_count": 1,
   "metadata": {},
   "outputs": [],
   "source": [
    "from src import *"
   ]
  },
  {
   "cell_type": "code",
   "execution_count": 47,
   "metadata": {},
   "outputs": [
    {
     "data": {
      "application/vnd.jupyter.widget-view+json": {
       "model_id": "15a565b1027a4ee29bf48a7e71166cd2",
       "version_major": 2,
       "version_minor": 0
      },
      "text/plain": [
       "Video loading:   0%|          | 0/36 [00:00<?, ?it/s]"
      ]
     },
     "metadata": {},
     "output_type": "display_data"
    },
    {
     "data": {
      "application/vnd.jupyter.widget-view+json": {
       "model_id": "0b548e7509d94fdaabdd051cd2a1e5e0",
       "version_major": 2,
       "version_minor": 0
      },
      "text/plain": [
       "Video loading:   0%|          | 0/36 [00:00<?, ?it/s]"
      ]
     },
     "metadata": {},
     "output_type": "display_data"
    },
    {
     "data": {
      "application/vnd.jupyter.widget-view+json": {
       "model_id": "a267838790da4e96bfa0dc64ee1d31ca",
       "version_major": 2,
       "version_minor": 0
      },
      "text/plain": [
       "Video loading:   0%|          | 0/36 [00:00<?, ?it/s]"
      ]
     },
     "metadata": {},
     "output_type": "display_data"
    },
    {
     "data": {
      "application/vnd.jupyter.widget-view+json": {
       "model_id": "445706aa20964465bb35ceff612638f8",
       "version_major": 2,
       "version_minor": 0
      },
      "text/plain": [
       "Video loading:   0%|          | 0/36 [00:00<?, ?it/s]"
      ]
     },
     "metadata": {},
     "output_type": "display_data"
    },
    {
     "data": {
      "application/vnd.jupyter.widget-view+json": {
       "model_id": "91bf1c0eda73445c9fbcc11bde4cdc08",
       "version_major": 2,
       "version_minor": 0
      },
      "text/plain": [
       "Video loading:   0%|          | 0/36 [00:00<?, ?it/s]"
      ]
     },
     "metadata": {},
     "output_type": "display_data"
    },
    {
     "data": {
      "application/vnd.jupyter.widget-view+json": {
       "model_id": "7c54841c1283484eb6f07cbf8e312886",
       "version_major": 2,
       "version_minor": 0
      },
      "text/plain": [
       "Video loading:   0%|          | 0/36 [00:00<?, ?it/s]"
      ]
     },
     "metadata": {},
     "output_type": "display_data"
    },
    {
     "data": {
      "application/vnd.jupyter.widget-view+json": {
       "model_id": "01567efce39048b2a881727f53363b86",
       "version_major": 2,
       "version_minor": 0
      },
      "text/plain": [
       "Video loading:   0%|          | 0/36 [00:00<?, ?it/s]"
      ]
     },
     "metadata": {},
     "output_type": "display_data"
    }
   ],
   "source": [
    "DATA = {}\n",
    "\n",
    "for window_length in [4,5,6,7,8,9,10]:\n",
    "\n",
    "    config = load_config_locally(f'038_RX100_window_{window_length}/0')\n",
    "    config.sr = 1000\n",
    "\n",
    "    files = load_files_from_dataset('002_eyedea_RX100')\n",
    "\n",
    "    datapool = DataPool(files, config)\n",
    "\n",
    "    dataset = VehicleDataset(datapool, part=Part.WHOLE, config=config, is_trn=True)\n",
    "\n",
    "    unique_labels, counts = np.unique(dataset.labels['n_counts'], return_counts=True)\n",
    "\n",
    "    DATA[window_length] = (unique_labels, counts)"
   ]
  },
  {
   "cell_type": "code",
   "execution_count": 6,
   "metadata": {},
   "outputs": [],
   "source": [
    "dataset = VehicleDataset(datapool, part=Part.WHOLE, config=config, is_trn=True)"
   ]
  },
  {
   "cell_type": "code",
   "execution_count": 13,
   "metadata": {},
   "outputs": [
    {
     "data": {
      "image/png": "[encoded data removed]",
      "text/plain": [
       "<Figure size 432x288 with 1 Axes>"
      ]
     },
     "metadata": {
      "needs_background": "light"
     },
     "output_type": "display_data"
    }
   ],
   "source": [
    "unique_labels, counts = np.unique(dataset.labels['n_counts'], return_counts=True)\n",
    "\n",
    "plt.xlabel('Class')\n",
    "plt.ylabel('Number of samples')\n",
    "plt.bar(unique_labels, counts, align='center');\n",
    "\n",
    "X_axis = np.arange(len(counts))\n",
    "\n",
    "plt.xticks(X_axis, unique_labels)\n",
    "\n",
    "\n",
    "counts[0] -= 1000\n",
    "plt.bar(unique_labels - 0.2, counts, 0.4, align='center');\n",
    "plt.tight_layout()"
   ]
  },
  {
   "cell_type": "code",
   "execution_count": null,
   "metadata": {},
   "outputs": [],
   "source": [
    "unique_labels"
   ]
  },
  {
   "cell_type": "code",
   "execution_count": 62,
   "metadata": {},
   "outputs": [
    {
     "data": {
      "text/plain": [
       "array([[0.000e+00, 7.041e+03, 5.108e+03, 3.895e+03, 3.070e+03, 2.456e+03,\n",
       "        2.005e+03, 1.646e+03],\n",
       "       [1.000e+00, 2.858e+03, 2.438e+03, 2.100e+03, 1.794e+03, 1.585e+03,\n",
       "        1.415e+03, 1.289e+03],\n",
       "       [2.000e+00, 9.890e+02, 9.740e+02, 8.910e+02, 8.770e+02, 8.460e+02,\n",
       "        8.150e+02, 7.410e+02],\n",
       "       [3.000e+00, 2.760e+02, 3.330e+02, 4.130e+02, 4.090e+02, 4.150e+02,\n",
       "        3.750e+02, 4.030e+02],\n",
       "       [4.000e+00, 4.900e+01, 9.000e+01, 1.240e+02, 1.730e+02, 1.860e+02,\n",
       "        2.010e+02, 2.140e+02],\n",
       "       [5.000e+00, 6.000e+00, 2.400e+01, 4.400e+01, 5.700e+01, 7.400e+01,\n",
       "        1.030e+02, 1.010e+02],\n",
       "       [6.000e+00, 2.000e+00, 5.000e+00, 9.000e+00, 1.700e+01, 3.100e+01,\n",
       "        4.200e+01, 5.000e+01],\n",
       "       [7.000e+00, 0.000e+00, 0.000e+00, 1.000e+00, 4.000e+00, 7.000e+00,\n",
       "        1.800e+01, 2.400e+01],\n",
       "       [8.000e+00, 0.000e+00, 0.000e+00, 0.000e+00, 1.000e+00, 1.000e+00,\n",
       "        2.000e+00, 5.000e+00],\n",
       "       [9.000e+00, 0.000e+00, 0.000e+00, 0.000e+00, 0.000e+00, 1.000e+00,\n",
       "        0.000e+00, 2.000e+00],\n",
       "       [1.000e+01, 0.000e+00, 0.000e+00, 0.000e+00, 0.000e+00, 0.000e+00,\n",
       "        0.000e+00, 1.000e+00]])"
      ]
     },
     "execution_count": 62,
     "metadata": {},
     "output_type": "execute_result"
    }
   ],
   "source": [
    "data = np.zeros((11, 8))\n",
    "data[:, 0] = np.arange(11)\n",
    "\n",
    "for i, (unique_labels, counts) in enumerate(DATA.values()):\n",
    "    data[unique_labels, i + 1] = counts\n",
    "\n",
    "data"
   ]
  },
  {
   "cell_type": "code",
   "execution_count": 65,
   "metadata": {},
   "outputs": [
    {
     "data": {
      "image/png": "[encoded data removed]",
      "text/plain": [
       "<Figure size 936x720 with 1 Axes>"
      ]
     },
     "metadata": {
      "needs_background": "light"
     },
     "output_type": "display_data"
    }
   ],
   "source": [
    "# Import Library\n",
    "\n",
    "import pandas as pd \n",
    "import matplotlib.pyplot as plt \n",
    "\n",
    "# Define Data\n",
    "\n",
    "# data = [\n",
    "#     [0, 30, 40],\n",
    "#     [1, 50, 60]\n",
    "# ]\n",
    "\n",
    "columns = ['4s', '5s', '6s', '7s', '8s', '9s', '10s']\n",
    "# columns = ['4s', '5s']\n",
    "\n",
    "df = pd.DataFrame(data, columns=[\"Class\", *columns])\n",
    "\n",
    "df.plot(x=\"Class\", y=columns, kind=\"bar\", figsize=(13, 10))\n",
    "\n",
    "# Show\n",
    "\n",
    "plt.show()\n"
   ]
  },
  {
   "cell_type": "code",
   "execution_count": 43,
   "metadata": {},
   "outputs": [
    {
     "data": {
      "text/plain": [
       "(7, 3)"
      ]
     },
     "execution_count": 43,
     "metadata": {},
     "output_type": "execute_result"
    }
   ],
   "source": [
    "data.shape"
   ]
  },
  {
   "cell_type": "code",
   "execution_count": 61,
   "metadata": {},
   "outputs": [
    {
     "data": {
      "text/plain": [
       "{4: (array([0, 1, 2, 3, 4, 5, 6]),\n",
       "  array([7041, 2858,  989,  276,   49,    6,    2])),\n",
       " 5: (array([0, 1, 2, 3, 4, 5, 6]),\n",
       "  array([5108, 2438,  974,  333,   90,   24,    5])),\n",
       " 6: (array([0, 1, 2, 3, 4, 5, 6, 7]),\n",
       "  array([3895, 2100,  891,  413,  124,   44,    9,    1])),\n",
       " 7: (array([0, 1, 2, 3, 4, 5, 6, 7, 8]),\n",
       "  array([3070, 1794,  877,  409,  173,   57,   17,    4,    1])),\n",
       " 8: (array([0, 1, 2, 3, 4, 5, 6, 7, 8, 9]),\n",
       "  array([2456, 1585,  846,  415,  186,   74,   31,    7,    1,    1])),\n",
       " 9: (array([0, 1, 2, 3, 4, 5, 6, 7, 8]),\n",
       "  array([2005, 1415,  815,  375,  201,  103,   42,   18,    2])),\n",
       " 10: (array([ 0,  1,  2,  3,  4,  5,  6,  7,  8,  9, 10]),\n",
       "  array([1646, 1289,  741,  403,  214,  101,   50,   24,    5,    2,    1]))}"
      ]
     },
     "execution_count": 61,
     "metadata": {},
     "output_type": "execute_result"
    }
   ],
   "source": [
    "DATA"
   ]
  },
  {
   "cell_type": "code",
   "execution_count": null,
   "metadata": {},
   "outputs": [],
   "source": []
  }
 ],
 "metadata": {
  "interpreter": {
   "hash": "5c5367881cd1cf07ff91f385af2760a91324c2d338b276ec1210beedc2863863"
  },
  "kernelspec": {
   "display_name": "Python 3.9.0 ('dev')",
   "language": "python",
   "name": "python3"
  },
  "language_info": {
   "codemirror_mode": {
    "name": "ipython",
    "version": 3
   },
   "file_extension": ".py",
   "mimetype": "text/x-python",
   "name": "python",
   "nbconvert_exporter": "python",
   "pygments_lexer": "ipython3",
   "version": "3.9.0"
  },
  "orig_nbformat": 4
 },
 "nbformat": 4,
 "nbformat_minor": 2
}

{
 "cells": [
  {
   "cell_type": "code",
   "execution_count": 1,
   "metadata": {},
   "outputs": [
    {
     "name": "stdout",
     "output_type": "stream",
     "text": [
      "No module named 'gurobipy'\n"
     ]
    }
   ],
   "source": [
    "%load_ext autoreload\n",
    "%autoreload 2\n",
    "\n",
    "from src import *"
   ]
  },
  {
   "cell_type": "code",
   "execution_count": 40,
   "metadata": {},
   "outputs": [
    {
     "name": "stdout",
     "output_type": "stream",
     "text": [
      "NN, n_counts: 0.052 ± 0.065\n",
      "NN, n_incoming: 0.071 ± 0.072\n",
      "NN, n_outgoing: 0.097 ± 0.096\n",
      "NN, n_CAR: 0.076 ± 0.090\n",
      "NN, n_NOT_CAR: 0.348 ± 0.446\n",
      "0.5 overlap, n_counts: 0.057 ± 0.058\n",
      "0.5 overlap, n_incoming: 0.074 ± 0.080\n",
      "0.5 overlap, n_outgoing: 0.100 ± 0.082\n",
      "0.5 overlap, n_CAR: 0.089 ± 0.085\n",
      "0.5 overlap, n_NOT_CAR: 0.434 ± 0.514\n",
      "structured labels, n_counts: 0.054 ± 0.064\n",
      "structured labels, n_incoming: 0.069 ± 0.072\n",
      "structured labels, n_outgoing: 0.105 ± 0.091\n",
      "structured labels, n_CAR: 0.077 ± 0.092\n",
      "structured labels, n_NOT_CAR: 0.357 ± 0.429\n",
      "BMRM, n_counts: 0.062 ± 0.082\n",
      "BMRM, n_incoming: 0.100 ± 0.125\n",
      "BMRM, n_outgoing: 0.137 ± 0.117\n",
      "BMRM, n_CAR: 0.088 ± 0.100\n",
      "BMRM, n_NOT_CAR: 0.398 ± 0.341\n",
      "svm, n_counts: 0.068 ± 0.068\n",
      "svm, n_incoming: 0.070 ± 0.086\n",
      "svm, n_outgoing: 0.144 ± 0.118\n",
      "svm, n_CAR: 0.083 ± 0.093\n",
      "svm, n_NOT_CAR: 0.442 ± 0.214\n"
     ]
    }
   ],
   "source": [
    "def get_result_from_table_column(path, column='rvce: n_counts'):\n",
    "    table = pd.read_csv(path)\n",
    "    return table[column].tail(1).item()\n",
    "\n",
    "\n",
    "meta = [\n",
    "    ('outputs/042_large_dataset_1000/tst_rvce_output.csv', 'NN'),\n",
    "    ('outputs/042_large_dataset_1000/tst_doubled_rvce_output.csv', '0.5 overlap'),\n",
    "    ('outputs/042_large_dataset_1000/tst_structured_rvce_output.csv', 'structured labels'),\n",
    "]\n",
    "\n",
    "heads = [\n",
    "    'n_counts', 'n_incoming', 'n_outgoing', 'n_CAR', 'n_NOT_CAR'\n",
    "]\n",
    "\n",
    "\n",
    "table = [[\"\", *heads]]\n",
    "\n",
    "for path, name in meta:\n",
    "    results = [name]\n",
    "    for head in heads:\n",
    "        result = get_result_from_table_column(path, column=f'rvce: {head}')\n",
    "        print(f'{name}, {head}: {result}')\n",
    "        results.append(result)\n",
    "    table.append(results)\n",
    "\n",
    "results = ['BMRM']\n",
    "for head in heads:\n",
    "    path = f'outputs/042_large_dataset_1000/results/tst/{head}_structured_predictor_*.csv'\n",
    "    result = get_result_from_table_column(path, column=f'rvce')\n",
    "    print(f'BMRM, {head}: {result}')\n",
    "    results.append(result)\n",
    "table.append(results)\n",
    "\n",
    "results = ['SVM']\n",
    "for head in heads:\n",
    "    path = f'outputs/042_large_dataset_1000/0/results_svm/tst_{head}_svm.csv'\n",
    "    result = get_result_from_table_column(path, column=f'rvce')\n",
    "    print(f'svm, {head}: {result}')\n",
    "    results.append(result)\n",
    "table.append(results)"
   ]
  },
  {
   "cell_type": "code",
   "execution_count": 41,
   "metadata": {},
   "outputs": [
    {
     "name": "stdout",
     "output_type": "stream",
     "text": [
      "╒════════════╤═══════════════╤═══════════════╤═════════════════════╤═══════════════╤═══════════════╕\n",
      "│            │ NN            │ 0.5 overlap   │ structured labels   │ BMRM          │ SVM           │\n",
      "╞════════════╪═══════════════╪═══════════════╪═════════════════════╪═══════════════╪═══════════════╡\n",
      "│ n_counts   │ 0.052 ± 0.065 │ 0.057 ± 0.058 │ 0.054 ± 0.064       │ 0.062 ± 0.082 │ 0.068 ± 0.068 │\n",
      "├────────────┼───────────────┼───────────────┼─────────────────────┼───────────────┼───────────────┤\n",
      "│ n_incoming │ 0.071 ± 0.072 │ 0.074 ± 0.080 │ 0.069 ± 0.072       │ 0.100 ± 0.125 │ 0.070 ± 0.086 │\n",
      "├────────────┼───────────────┼───────────────┼─────────────────────┼───────────────┼───────────────┤\n",
      "│ n_outgoing │ 0.097 ± 0.096 │ 0.100 ± 0.082 │ 0.105 ± 0.091       │ 0.137 ± 0.117 │ 0.144 ± 0.118 │\n",
      "├────────────┼───────────────┼───────────────┼─────────────────────┼───────────────┼───────────────┤\n",
      "│ n_CAR      │ 0.076 ± 0.090 │ 0.089 ± 0.085 │ 0.077 ± 0.092       │ 0.088 ± 0.100 │ 0.083 ± 0.093 │\n",
      "├────────────┼───────────────┼───────────────┼─────────────────────┼───────────────┼───────────────┤\n",
      "│ n_NOT_CAR  │ 0.348 ± 0.446 │ 0.434 ± 0.514 │ 0.357 ± 0.429       │ 0.398 ± 0.341 │ 0.442 ± 0.214 │\n",
      "╘════════════╧═══════════════╧═══════════════╧═════════════════════╧═══════════════╧═══════════════╛\n"
     ]
    }
   ],
   "source": [
    "print(tabulate(np.array(table).T, headers='firstrow', tablefmt='fancy_grid'))"
   ]
  },
  {
   "cell_type": "code",
   "execution_count": null,
   "metadata": {},
   "outputs": [],
   "source": []
  }
 ],
 "metadata": {
  "kernelspec": {
   "display_name": "Python 3.9.0 ('dev')",
   "language": "python",
   "name": "python3"
  },
  "language_info": {
   "codemirror_mode": {
    "name": "ipython",
    "version": 3
   },
   "file_extension": ".py",
   "mimetype": "text/x-python",
   "name": "python",
   "nbconvert_exporter": "python",
   "pygments_lexer": "ipython3",
   "version": "3.9.0"
  },
  "orig_nbformat": 4,
  "vscode": {
   "interpreter": {
    "hash": "5c5367881cd1cf07ff91f385af2760a91324c2d338b276ec1210beedc2863863"
   }
  }
 },
 "nbformat": 4,
 "nbformat_minor": 2
}

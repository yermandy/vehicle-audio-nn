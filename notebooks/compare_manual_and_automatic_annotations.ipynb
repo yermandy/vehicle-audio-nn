{
 "cells": [
  {
   "cell_type": "code",
   "execution_count": 1,
   "id": "9374c178",
   "metadata": {},
   "outputs": [],
   "source": [
    "%load_ext autoreload\n",
    "%autoreload 2\n",
    "\n",
    "import os\n",
    "os.chdir('..')"
   ]
  },
  {
   "cell_type": "code",
   "execution_count": 2,
   "id": "03ddb276",
   "metadata": {},
   "outputs": [],
   "source": [
    "from model.classification import *\n",
    "from src import *\n",
    "\n",
    "import matplotlib.pyplot as plt\n",
    "from tqdm.notebook import tqdm\n",
    "\n",
    "device = torch.device(f'cuda:1' if torch.cuda.is_available() else 'cpu')"
   ]
  },
  {
   "cell_type": "code",
   "execution_count": 4,
   "id": "4434ba7c",
   "metadata": {},
   "outputs": [
    {
     "name": "stdout",
     "output_type": "stream",
     "text": [
      "loading: 20190819-Kutna Hora-L4-out-MVI_0040_manual\n",
      " --> trn time 0 : 1542.0\n",
      " --> val time 1542.0 : 2064.0\n",
      "loading: 20190819-Kutna Hora-L4-out-MVI_0040\n",
      " --> trn time 0 : 1542.0\n",
      " --> val time 1542.0 : 2064.0\n"
     ]
    }
   ],
   "source": [
    "files = [\n",
    "    '20190819-Kutna Hora-L4-out-MVI_0040_manual',\n",
    "    '20190819-Kutna Hora-L4-out-MVI_0040'\n",
    "]\n",
    "\n",
    "datapool = DataPool(files, 6, 0.75)"
   ]
  },
  {
   "cell_type": "code",
   "execution_count": 48,
   "id": "7e65d8d7",
   "metadata": {},
   "outputs": [],
   "source": [
    "manual_models = [\n",
    "    1634898322,\n",
    "    1634898797,\n",
    "    1634899332\n",
    "]\n",
    "\n",
    "automatic_models = [\n",
    "    1634896343,\n",
    "    1634896834,\n",
    "    1634897599\n",
    "]"
   ]
  },
  {
   "cell_type": "code",
   "execution_count": 49,
   "id": "b5da23e1",
   "metadata": {},
   "outputs": [],
   "source": [
    "def get_error(signal, uuid, suffix, from_time, till_time, events):\n",
    "    model, params = load_model(uuid, suffix)\n",
    "    transform = create_transformation(params)\n",
    "    params = get_additional_params(params)\n",
    "    predictions = validate(signal, model, transform, params, from_time=from_time, till_time=till_time, classification=True)\n",
    "    \n",
    "    events = crop_events(events, from_time, till_time)\n",
    "    n_events = len(events)\n",
    "    error = np.abs(predictions.sum() - n_events)\n",
    "    return error"
   ]
  },
  {
   "cell_type": "code",
   "execution_count": 50,
   "id": "1a6e5385",
   "metadata": {},
   "outputs": [],
   "source": [
    "file = '20190819-Kutna Hora-L4-out-MVI_0040_manual'\n",
    "\n",
    "signal = load_audio(f'data/audio/{file}.MP4.wav')\n",
    "events = load_events(f'data/labels/{file}.MP4.txt')"
   ]
  },
  {
   "cell_type": "code",
   "execution_count": 51,
   "id": "ae4964ed",
   "metadata": {},
   "outputs": [
    {
     "name": "stdout",
     "output_type": "stream",
     "text": [
      "1634898322: 0.0000\n",
      "1634898797: 0.0000\n",
      "1634899332: 1.0000\n",
      "manual: 0.3333\n",
      "\n",
      "1634896343: 1.0000\n",
      "1634896834: 2.0000\n",
      "1634897599: 1.0000\n",
      "automatic: 1.3333\n",
      "\n"
     ]
    }
   ],
   "source": [
    "suffix = 'diff'\n",
    "\n",
    "manual_errors = []\n",
    "for uuid in manual_models:\n",
    "    error = get_error(signal, uuid, suffix, 1542, 2064, events)\n",
    "    print(f'{uuid}: {error:.4f}')\n",
    "    manual_errors.append(error)\n",
    "print(f'manual: {np.mean(manual_errors):.4f}\\n')\n",
    "\n",
    "automatic_errors = []\n",
    "for uuid in automatic_models:\n",
    "    error = get_error(signal, uuid, suffix, 1542, 2064, events)\n",
    "    print(f'{uuid}: {error:.4f}')\n",
    "    automatic_errors.append(error)\n",
    "print(f'automatic: {np.mean(automatic_errors):.4f}\\n')"
   ]
  },
  {
   "cell_type": "code",
   "execution_count": null,
   "id": "afb202c3",
   "metadata": {},
   "outputs": [],
   "source": []
  }
 ],
 "metadata": {
  "kernelspec": {
   "display_name": "Python 3 (ipykernel)",
   "language": "python",
   "name": "python3"
  },
  "language_info": {
   "codemirror_mode": {
    "name": "ipython",
    "version": 3
   },
   "file_extension": ".py",
   "mimetype": "text/x-python",
   "name": "python",
   "nbconvert_exporter": "python",
   "pygments_lexer": "ipython3",
   "version": "3.9.0"
  }
 },
 "nbformat": 4,
 "nbformat_minor": 5
}

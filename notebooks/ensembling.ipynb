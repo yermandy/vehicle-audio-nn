{
 "cells": [
  {
   "cell_type": "code",
   "execution_count": 2,
   "metadata": {},
   "outputs": [],
   "source": [
    "%load_ext autoreload\n",
    "%autoreload 2"
   ]
  },
  {
   "cell_type": "code",
   "execution_count": 3,
   "metadata": {},
   "outputs": [],
   "source": [
    "from src import *"
   ]
  },
  {
   "cell_type": "code",
   "execution_count": 4,
   "metadata": {},
   "outputs": [
    {
     "data": {
      "application/vnd.jupyter.widget-view+json": {
       "model_id": "b22a6e527ff24a65bb8825b469baf6b9",
       "version_major": 2,
       "version_minor": 0
      },
      "text/plain": [
       "Video loading:   0%|          | 0/8 [00:00<?, ?it/s]"
      ]
     },
     "metadata": {},
     "output_type": "display_data"
    },
    {
     "data": {
      "application/vnd.jupyter.widget-view+json": {
       "model_id": "5d99531f2de840bc8848e7d537de151c",
       "version_major": 2,
       "version_minor": 0
      },
      "text/plain": [
       "  0%|          | 0/8 [00:00<?, ?it/s]"
      ]
     },
     "metadata": {},
     "output_type": "display_data"
    },
    {
     "name": "stdout",
     "output_type": "stream",
     "text": [
      "Ensembling\n",
      "Ensembling\n",
      "Ensembling\n",
      "Ensembling\n",
      "Ensembling\n",
      "Ensembling\n",
      "Ensembling\n",
      "Ensembling\n"
     ]
    },
    {
     "data": {
      "application/vnd.jupyter.widget-view+json": {
       "model_id": "63083472bc6740e695ba0781d4d4ca19",
       "version_major": 2,
       "version_minor": 0
      },
      "text/plain": [
       "Video loading:   0%|          | 0/7 [00:00<?, ?it/s]"
      ]
     },
     "metadata": {},
     "output_type": "display_data"
    },
    {
     "data": {
      "application/vnd.jupyter.widget-view+json": {
       "model_id": "129b4864f67c44e2aede189478f43b21",
       "version_major": 2,
       "version_minor": 0
      },
      "text/plain": [
       "  0%|          | 0/7 [00:00<?, ?it/s]"
      ]
     },
     "metadata": {},
     "output_type": "display_data"
    },
    {
     "name": "stdout",
     "output_type": "stream",
     "text": [
      "Ensembling\n",
      "Ensembling\n",
      "Ensembling\n",
      "Ensembling\n",
      "Ensembling\n",
      "Ensembling\n",
      "Ensembling\n"
     ]
    },
    {
     "data": {
      "application/vnd.jupyter.widget-view+json": {
       "model_id": "115e4a44798c4af890a648d343fe04f8",
       "version_major": 2,
       "version_minor": 0
      },
      "text/plain": [
       "Video loading:   0%|          | 0/7 [00:00<?, ?it/s]"
      ]
     },
     "metadata": {},
     "output_type": "display_data"
    },
    {
     "data": {
      "application/vnd.jupyter.widget-view+json": {
       "model_id": "dd74185fa2834840ac97f277913291dd",
       "version_major": 2,
       "version_minor": 0
      },
      "text/plain": [
       "  0%|          | 0/7 [00:00<?, ?it/s]"
      ]
     },
     "metadata": {},
     "output_type": "display_data"
    },
    {
     "name": "stdout",
     "output_type": "stream",
     "text": [
      "Ensembling\n",
      "Ensembling\n",
      "Ensembling\n",
      "Ensembling\n",
      "Ensembling\n",
      "Ensembling\n",
      "Ensembling\n"
     ]
    },
    {
     "data": {
      "application/vnd.jupyter.widget-view+json": {
       "model_id": "6837ea550bbb400a9f3f3874c331c66f",
       "version_major": 2,
       "version_minor": 0
      },
      "text/plain": [
       "Video loading:   0%|          | 0/7 [00:00<?, ?it/s]"
      ]
     },
     "metadata": {},
     "output_type": "display_data"
    },
    {
     "data": {
      "application/vnd.jupyter.widget-view+json": {
       "model_id": "01f1aeeaea6849ef9c3707459fd931c7",
       "version_major": 2,
       "version_minor": 0
      },
      "text/plain": [
       "  0%|          | 0/7 [00:00<?, ?it/s]"
      ]
     },
     "metadata": {},
     "output_type": "display_data"
    },
    {
     "name": "stdout",
     "output_type": "stream",
     "text": [
      "Ensembling\n",
      "Ensembling\n",
      "Ensembling\n",
      "Ensembling\n",
      "Ensembling\n",
      "Ensembling\n",
      "Ensembling\n"
     ]
    },
    {
     "data": {
      "application/vnd.jupyter.widget-view+json": {
       "model_id": "48219b1729dd431ba1de7090506e113a",
       "version_major": 2,
       "version_minor": 0
      },
      "text/plain": [
       "Video loading:   0%|          | 0/7 [00:00<?, ?it/s]"
      ]
     },
     "metadata": {},
     "output_type": "display_data"
    },
    {
     "data": {
      "application/vnd.jupyter.widget-view+json": {
       "model_id": "0373b8a3d47b4545964274106fcf80c2",
       "version_major": 2,
       "version_minor": 0
      },
      "text/plain": [
       "  0%|          | 0/7 [00:00<?, ?it/s]"
      ]
     },
     "metadata": {},
     "output_type": "display_data"
    },
    {
     "name": "stdout",
     "output_type": "stream",
     "text": [
      "Ensembling\n",
      "Ensembling\n",
      "Ensembling\n",
      "Ensembling\n",
      "Ensembling\n",
      "Ensembling\n",
      "Ensembling\n"
     ]
    }
   ],
   "source": [
    "model_name = 'rvce'\n",
    "prefix = 'tst'\n",
    "\n",
    "ensembling_name = '000_ensembling'\n",
    "\n",
    "uuids = [\n",
    "    # '010_eyedea_RX100_3',\n",
    "    # '018_eyedea_RX100_seed_43',\n",
    "    # '018_eyedea_RX100_seed_44',\n",
    "\n",
    "    # '020_RX100_resized_128',\n",
    "    # '022_RX100_resized_128_ResNet34',\n",
    "    # '022_RX100_resized_128_ResNet50'\n",
    "\n",
    "    # '035_RX100_resized_128_audio_image_augmentation',\n",
    "    # '035_RX100_43_resized_128_audio_image_augmentation_bs_256',\n",
    "    # '035_RX100_44_resized_128_audio_image_augmentation_bs_256',\n",
    "    # '035_RX100_45_resized_128_audio_image_augmentation_bs_256',\n",
    "    # '035_RX100_46_resized_128_audio_image_augmentation_bs_256',\n",
    "    # '035_RX100_47_resized_128_audio_image_augmentation_bs_256',\n",
    "    # '035_RX100_48_resized_128_audio_image_augmentation_bs_256',\n",
    "\n",
    "    # '034_RX100_resized_128_augmented',\n",
    "    # '035_RX100_resized_128_audio_image_augmentation',\n",
    "    # '035_RX100_resized_128_audio_image_augmentation_bs_128',\n",
    "    # '035_RX100_resized_128_audio_image_augmentation_bs_256',\n",
    "\n",
    "    # '029_aligned_resized_128_augmentations_all',\n",
    "    # '029_aligned_resized_128_augmentations_all_seed_43',\n",
    "    # '029_aligned_resized_128_augmentations_all_seed_44',\n",
    "    \n",
    "    # '027_RX100_resized_128_random_gaussian_blur',\n",
    "    # '027_RX100_resized_128_random_resized_crop',\n",
    "    # '027_RX100_resized_128_augmentations_all',\n",
    "    # '018_eyedea_RX100_seed_43',\n",
    "    # '018_eyedea_RX100_seed_44',\n",
    "]\n",
    "\n",
    "for i in range(5):\n",
    "    models = []\n",
    "    for uuid in uuids:\n",
    "        model, config = load_model_locally(f'{uuid}/{i}', model_name)\n",
    "        models.append(model)\n",
    "\n",
    "    #! use doubled inference\n",
    "    # config.inference_function = InferenceFunction.DOUBLED\n",
    "    #! use manual annotation\n",
    "    # config.use_manual_counts = True\n",
    "\n",
    "    datapool = DataPool(config.testing_files, config)\n",
    "    summary = validate_datapool(datapool, models, config)\n",
    "\n",
    "    os.makedirs(f'outputs/{ensembling_name}/{i}/results', exist_ok=True)\n",
    "    save_dict_txt(f'outputs/{ensembling_name}/{i}/results/{prefix}_{model_name}_output.txt', summary)\n",
    "    save_dict_csv(f'outputs/{ensembling_name}/{i}/results/{prefix}_{model_name}_output.csv', summary)\n",
    "\n",
    "uuids = []\n",
    "for i in range(5):\n",
    "    uuids.append(f'{ensembling_name}/{i}')    \n",
    "generate_cross_validation_table(uuids, model_name, prefix)"
   ]
  },
  {
   "cell_type": "code",
   "execution_count": 6,
   "metadata": {},
   "outputs": [],
   "source": [
    "model_name = 'rvce'\n",
    "prefix = 'tst'\n",
    "\n",
    "uuids = []\n",
    "for i in range(5):\n",
    "    uuids.append(f'000_ensembling/{i}')    \n",
    "generate_cross_validation_table(uuids, model_name, prefix)"
   ]
  },
  {
   "cell_type": "code",
   "execution_count": 6,
   "metadata": {},
   "outputs": [
    {
     "data": {
      "application/vnd.jupyter.widget-view+json": {
       "model_id": "2e2f5e817f994ab99e7ec399a60e5b4a",
       "version_major": 2,
       "version_minor": 0
      },
      "text/plain": [
       "  0%|          | 0/8 [00:00<?, ?it/s]"
      ]
     },
     "metadata": {},
     "output_type": "display_data"
    },
    {
     "name": "stdout",
     "output_type": "stream",
     "text": [
      "Ensembling\n",
      "Ensembling\n",
      "Ensembling\n",
      "Ensembling\n",
      "Ensembling\n",
      "Ensembling\n",
      "Ensembling\n",
      "Ensembling\n"
     ]
    }
   ],
   "source": [
    "result = validate_datapool(datapool, models, config)"
   ]
  },
  {
   "cell_type": "code",
   "execution_count": 7,
   "metadata": {},
   "outputs": [
    {
     "name": "stdout",
     "output_type": "stream",
     "text": [
      "╒════╤═════════════════╤══════════════════╤══════════════════════╤═══════════════════╤═════════╤══════════════════════════╕\n",
      "│    │ mae: n_counts   │ rvce: n_counts   │ n_events: n_counts   │ error: n_counts   │ time    │ file                     │\n",
      "╞════╪═════════════════╪══════════════════╪══════════════════════╪═══════════════════╪═════════╪══════════════════════════╡\n",
      "│  0 │ 0.0980          │ 0.1013           │ 79                   │ 8                 │ 0: 1224 │ 18_Prazska_RX100         │\n",
      "├────┼─────────────────┼──────────────────┼──────────────────────┼───────────────────┼─────────┼──────────────────────────┤\n",
      "│  1 │ 0.4951          │ 0.1324           │ 355                  │ -47               │ 0: 1224 │ 19_Krocehlavska_RX100    │\n",
      "├────┼─────────────────┼──────────────────┼──────────────────────┼───────────────────┼─────────┼──────────────────────────┤\n",
      "│  2 │ 0.0990          │ 0.0000           │ 128                  │ 0                 │ 0: 1212 │ 22_Jesenicka_RX100       │\n",
      "├────┼─────────────────┼──────────────────┼──────────────────────┼───────────────────┼─────────┼──────────────────────────┤\n",
      "│  3 │ 0.0830          │ 0.0427           │ 117                  │ -5                │ 0: 1374 │ 27_Komoranska_RX100      │\n",
      "├────┼─────────────────┼──────────────────┼──────────────────────┼───────────────────┼─────────┼──────────────────────────┤\n",
      "│  4 │ 0.1343          │ 0.0185           │ 162                  │ -3                │ 0: 1206 │ 32_Cementarska_RX100     │\n",
      "├────┼─────────────────┼──────────────────┼──────────────────────┼───────────────────┼─────────┼──────────────────────────┤\n",
      "│  5 │ 0.1813          │ 0.1351           │ 111                  │ -15               │ 0: 1158 │ 36_Jesenicka_RX100       │\n",
      "├────┼─────────────────┼──────────────────┼──────────────────────┼───────────────────┼─────────┼──────────────────────────┤\n",
      "│  6 │ 0.1535          │ 0.0920           │ 163                  │ -15               │ 0: 1212 │ 37_Prazska_Jircany_RX100 │\n",
      "├────┼─────────────────┼──────────────────┼──────────────────────┼───────────────────┼─────────┼──────────────────────────┤\n",
      "│  7 │ 0.1106          │ 0.0874           │ 103                  │ -9                │ 0: 1248 │ 41_Dobrejovice_RX100     │\n",
      "├────┼─────────────────┼──────────────────┼──────────────────────┼───────────────────┼─────────┼──────────────────────────┤\n",
      "│  8 │ 0.17 ± 0.13     │ 0.08 ± 0.05      │ 152.25 ± 81.12       │ -10.75 ± 15.47    │         │ summary                  │\n",
      "╘════╧═════════════════╧══════════════════╧══════════════════════╧═══════════════════╧═════════╧══════════════════════════╛\n"
     ]
    }
   ],
   "source": [
    "table = tabulate(result, headers='keys', tablefmt='fancy_grid', showindex=True)\n",
    "print(table)"
   ]
  },
  {
   "cell_type": "markdown",
   "metadata": {},
   "source": [
    "### Ensemble cross validation folds for evaluation of IDMT-Traffic"
   ]
  },
  {
   "cell_type": "code",
   "execution_count": 17,
   "metadata": {},
   "outputs": [
    {
     "name": "stdout",
     "output_type": "stream",
     "text": [
      "file \"data/labels/**/combined.txt\" does not exist\n",
      "file \"data/csv/**/combined.csv\" does not exist\n"
     ]
    },
    {
     "data": {
      "text/plain": [
       "754"
      ]
     },
     "execution_count": 17,
     "metadata": {},
     "output_type": "execute_result"
    }
   ],
   "source": [
    "root_uuid = '040_RX100_resized_128_audio_image_augmentation_bs_256_window_2'\n",
    "file = 'combined'\n",
    "from_time, till_time = 0, 2 * 1000\n",
    "\n",
    "video = None\n",
    "\n",
    "sum_probabilities = 0\n",
    "for i in range(5):\n",
    "    \n",
    "    uuid = f'{root_uuid}/{i}'\n",
    "    model, config = load_model_locally(uuid)\n",
    "\n",
    "    if video == None: video = Video(file, config)\n",
    "\n",
    "    predictions, probabilities = validate_video(video, model, from_time=from_time, till_time=till_time, return_probs=True)\n",
    "\n",
    "    sum_probabilities += probabilities['n_counts']\n",
    "     \n",
    "    \n",
    "predictions = sum_probabilities.argmax(1)\n",
    "predictions.sum()"
   ]
  },
  {
   "cell_type": "code",
   "execution_count": null,
   "metadata": {},
   "outputs": [],
   "source": []
  }
 ],
 "metadata": {
  "interpreter": {
   "hash": "5c5367881cd1cf07ff91f385af2760a91324c2d338b276ec1210beedc2863863"
  },
  "kernelspec": {
   "display_name": "Python 3.9.0 ('dev')",
   "language": "python",
   "name": "python3"
  },
  "language_info": {
   "codemirror_mode": {
    "name": "ipython",
    "version": 3
   },
   "file_extension": ".py",
   "mimetype": "text/x-python",
   "name": "python",
   "nbconvert_exporter": "python",
   "pygments_lexer": "ipython3",
   "version": "3.9.0"
  },
  "orig_nbformat": 4
 },
 "nbformat": 4,
 "nbformat_minor": 2
}

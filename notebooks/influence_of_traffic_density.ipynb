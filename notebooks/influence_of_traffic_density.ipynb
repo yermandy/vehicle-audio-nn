{
 "cells": [
  {
   "cell_type": "code",
   "execution_count": 1,
   "metadata": {},
   "outputs": [],
   "source": [
    "%load_ext autoreload\n",
    "%autoreload 2"
   ]
  },
  {
   "cell_type": "code",
   "execution_count": 2,
   "metadata": {},
   "outputs": [],
   "source": [
    "from src import *"
   ]
  },
  {
   "cell_type": "code",
   "execution_count": 3,
   "metadata": {},
   "outputs": [],
   "source": [
    "# table = np.loadtxt('outputs/010_eyedea_all_aligned_RX100/tst_rvce_output.csv', delimiter=',', dtype=str)[1:-1]\n",
    "# table = np.loadtxt('outputs/010_eyedea_RX100/tst_rvce_output.csv', delimiter=',', dtype=str)[1:-1]\n",
    "# table = np.loadtxt('outputs/010_eyedea_RX100_1/tst_rvce_output.csv', delimiter=',', dtype=str)[1:-1]\n",
    "# table = np.loadtxt('outputs/010_eyedea_RX100_2/tst_rvce_output.csv', delimiter=',', dtype=str)[1:-1]\n",
    "# table = np.loadtxt('outputs/010_eyedea_RX100_half/tst_rvce_output.csv', delimiter=',', dtype=str)[1:-1]\n",
    "# table = np.loadtxt('outputs/010_eyedea_RX100_quarter/tst_rvce_output.csv', delimiter=',', dtype=str)[1:-1]\n",
    "table = np.loadtxt('outputs/004_heads_counts/tst_rvce_output.csv', delimiter=',', dtype=str)[1:-1]"
   ]
  },
  {
   "cell_type": "code",
   "execution_count": 4,
   "metadata": {},
   "outputs": [],
   "source": [
    "def regression(x, y):\n",
    "    A = np.vstack([x, np.ones(len(x))]).T\n",
    "    y = y.reshape(-1, 1)\n",
    "    a, b = np.linalg.inv(A.T @ A) @ A.T @ y\n",
    "    return a, b"
   ]
  },
  {
   "cell_type": "code",
   "execution_count": 5,
   "metadata": {},
   "outputs": [],
   "source": [
    "time = table[:, -2]\n",
    "time = [int(t.split(': ')[1]) - int(t.split(': ')[0]) for t in time]\n",
    "time = np.array(time)\n",
    "\n",
    "n_events = table[:, 2].astype(int)\n",
    "\n",
    "rvce = table[:, 1].astype(float)\n",
    "mae = table[:, 0].astype(float)\n",
    "\n",
    "window_length = 6\n",
    "\n",
    "# n_events per window\n",
    "density = n_events / time * window_length"
   ]
  },
  {
   "cell_type": "code",
   "execution_count": 8,
   "metadata": {},
   "outputs": [
    {
     "data": {
      "text/plain": [
       "array([294, 283, 118,  10,  17, 493, 335,  63, 250, 735, 832,  59,  47,\n",
       "       232, 735,   8, 499, 355])"
      ]
     },
     "execution_count": 8,
     "metadata": {},
     "output_type": "execute_result"
    }
   ],
   "source": [
    "n_events"
   ]
  },
  {
   "cell_type": "code",
   "execution_count": 6,
   "metadata": {},
   "outputs": [
    {
     "data": {
      "image/png": "[encoded data removed]",
      "text/plain": [
       "<Figure size 504x360 with 1 Axes>"
      ]
     },
     "metadata": {
      "needs_background": "light"
     },
     "output_type": "display_data"
    }
   ],
   "source": [
    "# perform linear regression\n",
    "a, b = regression(density, rvce)\n",
    "\n",
    "plt.figure(figsize=(7, 5))\n",
    "plt.ylabel('RVCE')\n",
    "plt.xlabel('Events per window')\n",
    "plt.scatter(density, rvce, marker='.')\n",
    "plt.plot(density, a * density + b, 'r')\n",
    "plt.show()"
   ]
  },
  {
   "cell_type": "code",
   "execution_count": 7,
   "metadata": {},
   "outputs": [
    {
     "data": {
      "image/png": "[encoded data removed]",
      "text/plain": [
       "<Figure size 504x360 with 1 Axes>"
      ]
     },
     "metadata": {
      "needs_background": "light"
     },
     "output_type": "display_data"
    }
   ],
   "source": [
    "# perform linear regression\n",
    "a, b = regression(density, mae)\n",
    "\n",
    "plt.figure(figsize=(7, 5))\n",
    "plt.ylabel('MAE')\n",
    "plt.xlabel('Events per window')\n",
    "plt.scatter(density, mae, marker='.')\n",
    "plt.plot(density, a * density + b, 'r')\n",
    "plt.show()"
   ]
  },
  {
   "cell_type": "code",
   "execution_count": null,
   "metadata": {},
   "outputs": [],
   "source": []
  },
  {
   "cell_type": "code",
   "execution_count": null,
   "metadata": {},
   "outputs": [],
   "source": []
  }
 ],
 "metadata": {
  "interpreter": {
   "hash": "5c5367881cd1cf07ff91f385af2760a91324c2d338b276ec1210beedc2863863"
  },
  "kernelspec": {
   "display_name": "Python 3.9.0 ('dev')",
   "language": "python",
   "name": "python3"
  },
  "language_info": {
   "codemirror_mode": {
    "name": "ipython",
    "version": 3
   },
   "file_extension": ".py",
   "mimetype": "text/x-python",
   "name": "python",
   "nbconvert_exporter": "python",
   "pygments_lexer": "ipython3",
   "version": "3.9.0"
  },
  "orig_nbformat": 4
 },
 "nbformat": 4,
 "nbformat_minor": 2
}

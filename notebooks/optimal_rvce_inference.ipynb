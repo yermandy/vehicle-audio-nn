{
 "cells": [
  {
   "cell_type": "code",
   "execution_count": 9,
   "metadata": {},
   "outputs": [
    {
     "name": "stdout",
     "output_type": "stream",
     "text": [
      "[[0.02943374 0.01861093 0.03091977 ... 0.01118386 0.01730017 0.03405661]\n",
      " [0.0310803  0.039744   0.02524426 ... 0.03630558 0.03633529 0.00660934]\n",
      " [0.02169904 0.03934844 0.01966762 ... 0.03079717 0.01949667 0.0337869 ]\n",
      " ...\n",
      " [0.02713561 0.01351072 0.02155331 ... 0.00479765 0.02018069 0.02138371]\n",
      " [0.00396922 0.02792715 0.0237571  ... 0.01320121 0.00974846 0.00459709]\n",
      " [0.03476455 0.02692313 0.01339912 ... 0.03668461 0.00681734 0.03570337]]\n",
      "(50, 344)\n"
     ]
    }
   ],
   "source": [
    "import numpy as np\n",
    "\n",
    "# generate distribution over the number of events in n_windows independent windows\n",
    "# \n",
    "# the maximal number of events per site is n_label-1 \n",
    "# the maximal total number of events is (n_labels-1)*n_windows\n",
    "\n",
    "n_windows = 344\n",
    "n_labels = 50  \n",
    "\n",
    "p_count = np.random.uniform(low=0,high=1,size=(n_labels,n_windows))\n",
    "p_count = p_count / np.sum( p_count, axis=0)\n",
    "\n",
    "print(p_count)\n",
    "print(p_count.shape)"
   ]
  },
  {
   "cell_type": "code",
   "execution_count": 10,
   "metadata": {},
   "outputs": [
    {
     "name": "stdout",
     "output_type": "stream",
     "text": [
      "8416\n"
     ]
    },
    {
     "data": {
      "image/png": "[encoded data removed]",
      "text/plain": [
       "<Figure size 432x288 with 1 Axes>"
      ]
     },
     "metadata": {
      "needs_background": "light"
     },
     "output_type": "display_data"
    }
   ],
   "source": [
    "from scipy.special import logsumexp\n",
    "import matplotlib.pyplot as plt\n",
    "\n",
    "def total_count_distribution( p_count ):\n",
    "    \"\"\" \n",
    "    Input:\n",
    "      p_c [n_labels x n_windows] \n",
    "    Output:\n",
    "      distr [n_windows*(n_labels-1)] distr[c] is the probability \n",
    "        that the total number of events is c \n",
    "    \"\"\"\n",
    "\n",
    "    n_labels, n_windows = p_count.shape\n",
    "\n",
    "    log_p_count = np.log( p_count )\n",
    "    log_P = np.zeros(((n_labels-1)*n_windows+1, n_windows ))\n",
    "    log_P.fill( np.NINF )\n",
    "\n",
    "    for s in range(n_labels):\n",
    "        log_P[s,n_windows-1] = np.log( p_count[s,n_windows-1])\n",
    "        \n",
    "    for i in range( n_windows-2,-1,-1 ):\n",
    "        for s in range( (n_windows-i)*(n_labels-1)+1 ):\n",
    "            a = []\n",
    "            for c in range( max(s-(n_windows-i-1)*(n_labels-1), 0), min(n_labels, s+1 ) ):\n",
    "                a.append( log_p_count[c,i] + log_P[s-c,i+1])\n",
    "            log_P[s,i] = logsumexp( a )\n",
    "\n",
    "    return np.exp(log_P[:,0]) \n",
    "\n",
    "\n",
    "distr = total_count_distribution( p_count )\n",
    "\n",
    "plt.figure()\n",
    "plt.plot( distr )\n",
    "plt.grid('on')\n",
    "plt.xlabel('total number of events')\n",
    "\n",
    "print(np.argmax( distr ))"
   ]
  },
  {
   "cell_type": "code",
   "execution_count": 11,
   "metadata": {},
   "outputs": [
    {
     "name": "stdout",
     "output_type": "stream",
     "text": [
      "8407\n",
      "8416\n",
      "8450\n"
     ]
    }
   ],
   "source": [
    "# argmax inference\n",
    "pred_labels = np.argmax( p_count, axis=0)\n",
    "pred_count_indep_map = np.sum( pred_labels )\n",
    "\n",
    "# optimal RVCE predictor\n",
    "max_total_count = (n_labels-1)*n_windows\n",
    "rvce_risk = np.zeros( max_total_count )\n",
    "count_range = np.arange( 1, max_total_count+1 )\n",
    "for c in range( 1, max_total_count+1 ):\n",
    "    rvce_risk[c-1] = np.sum(  distr[1:]*np.abs(count_range-c)/count_range  )\n",
    "\n",
    "pred_count_rvce = np.argmin( rvce_risk ) + 1\n",
    "pred_count_map = np.argmax( distr )\n",
    "\n",
    "print( pred_count_rvce )\n",
    "print( pred_count_map )\n",
    "print( pred_count_indep_map )\n"
   ]
  },
  {
   "cell_type": "code",
   "execution_count": 5,
   "metadata": {},
   "outputs": [
    {
     "data": {
      "text/plain": [
       "2450"
      ]
     },
     "execution_count": 5,
     "metadata": {},
     "output_type": "execute_result"
    }
   ],
   "source": [
    "pred_count_rvce"
   ]
  },
  {
   "cell_type": "code",
   "execution_count": null,
   "metadata": {},
   "outputs": [],
   "source": []
  }
 ],
 "metadata": {
  "interpreter": {
   "hash": "1211107d2b8a2215f49e5eb4b7e6b88f32a59a2e7921cdd35a1fc9b4e73e9bee"
  },
  "kernelspec": {
   "display_name": "multido",
   "language": "python",
   "name": "python3"
  },
  "language_info": {
   "codemirror_mode": {
    "name": "ipython",
    "version": 3
   },
   "file_extension": ".py",
   "mimetype": "text/x-python",
   "name": "python",
   "nbconvert_exporter": "python",
   "pygments_lexer": "ipython3",
   "version": "3.9.0"
  }
 },
 "nbformat": 4,
 "nbformat_minor": 4
}

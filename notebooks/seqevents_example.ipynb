{
 "cells": [
  {
   "cell_type": "markdown",
   "metadata": {},
   "source": [
    "Variables $\\{x_1,x_2,\\ldots,x_n\\}$ are i.i.d. generated from $p(X_i=x)$, $i=1,\\ldots,n$\n",
    "\n",
    "Variables $c_i = x_i + x_{i+1}$, $i=1,\\ldots,n-1$, are obtained by summing consequtive $x_i$ and $x_{i+1}$. \n",
    "\n",
    "\n",
    "Task 1 (Convolution): Given $P(X_i=x)$, $i=1,\\ldots,n$, compute $P(C_i=c)$, $i=1,\\ldots,n-1$. \n",
    "\n",
    "Task 2 (Deconvolution): Given $p(C_i=c)$, $i=1,\\ldots,n-1$, find $p(X_i=x)$, $i=1,\\ldots,n$"
   ]
  },
  {
   "cell_type": "code",
   "execution_count": null,
   "metadata": {},
   "outputs": [],
   "source": [
    "%load_ext autoreload\n",
    "%autoreload 2"
   ]
  },
  {
   "cell_type": "code",
   "execution_count": null,
   "metadata": {},
   "outputs": [],
   "source": [
    "import numpy as np\n",
    "import matplotlib.pyplot as plt\n",
    "from seqevents import Events2"
   ]
  },
  {
   "cell_type": "code",
   "execution_count": null,
   "metadata": {},
   "outputs": [],
   "source": [
    "# generate P(X_i=x), i=1,...,n\n",
    "n_events = 5\n",
    "seq_len = 20\n",
    "\n",
    "Px = np.random.rand(n_events+1, seq_len)\n",
    "Px = Px / np.sum( Px, axis=0)\n",
    "\n",
    "# compute P(C_i=c) from P(X_i=x)\n",
    "A = Events2( n_events, seq_len)\n",
    "\n",
    "Pc = A.conv( Px )\n",
    "\n",
    "# estimatecompute P(X_i) from P(C_i)\n",
    "est_Px, est_Pc, kl_hist = A.deconv( Pc )\n",
    "print(est_Px.shape)\n",
    "print( Px.shape)\n",
    "print(Pc.shape)\n",
    "\n",
    "plt.figure()\n",
    "plt.plot( kl_hist)\n",
    "plt.plot( [1, len(kl_hist)], A.get_kl(Pc,Px)*np.array([1,1]), color='r' )\n",
    "plt.xlabel('epoch')\n",
    "plt.ylabel('kl divergence')\n",
    "\n",
    "print(f\"MAE(Px,ext_Px)={np.mean( np.abs( Px-est_Px))}\")\n",
    "print(f\"MAE(Pc,ext_Pc)={np.mean( np.abs( Pc-est_Pc))}\")\n",
    "\n",
    "_, (ax1,ax2) = plt.subplots(2,1,figsize=(80,10))\n",
    "ax1.matshow(Px)\n",
    "ax1.set_title('Px')\n",
    "ax2.matshow(est_Px)\n",
    "ax2.set_title('estimated Px')\n",
    "\n",
    "_, (ax1,ax2) = plt.subplots(2,1,figsize=(80,10))\n",
    "ax1.matshow(Pc)\n",
    "ax1.set_title('Pc')\n",
    "ax2.matshow(est_Pc)\n",
    "ax2.set_title('estiamted Pc')"
   ]
  },
  {
   "cell_type": "markdown",
   "metadata": {},
   "source": [
    "Generalization for arbitrary window size"
   ]
  },
  {
   "cell_type": "code",
   "execution_count": 1,
   "metadata": {},
   "outputs": [
    {
     "name": "stderr",
     "output_type": "stream",
     "text": [
      "100%|██████████| 50/50 [00:15<00:00,  3.20it/s]\n"
     ]
    },
    {
     "data": {
      "text/plain": [
       "<matplotlib.collections.PolyCollection at 0x7fcbe114b240>"
      ]
     },
     "execution_count": 1,
     "metadata": {},
     "output_type": "execute_result"
    },
    {
     "data": {
      "image/png": "[encoded data removed]",
      "text/plain": [
       "<Figure size 432x288 with 1 Axes>"
      ]
     },
     "metadata": {
      "needs_background": "light"
     },
     "output_type": "display_data"
    },
    {
     "data": {
      "image/png": "[encoded data removed]",
      "text/plain": [
       "<Figure size 432x288 with 2 Axes>"
      ]
     },
     "metadata": {
      "needs_background": "light"
     },
     "output_type": "display_data"
    },
    {
     "data": {
      "image/png": "[encoded data removed]",
      "text/plain": [
       "<Figure size 432x288 with 2 Axes>"
      ]
     },
     "metadata": {
      "needs_background": "light"
     },
     "output_type": "display_data"
    }
   ],
   "source": [
    "import numpy as np\n",
    "from seqevents import Events\n",
    "import matplotlib.pyplot as plt\n",
    "\n",
    "Kx = 5   # max num events per dense window; x1 is from {0,1,...,Kx}\n",
    "N  = 20  # length of the dense sequence x1,...xN\n",
    "W  = 3   # window size\n",
    "\n",
    "Px = np.random.rand( Kx + 1, N )\n",
    "Px = Px / np.sum( Px, axis=0)\n",
    "\n",
    "ev = Events( W )\n",
    "Pc = ev.conv( Px )\n",
    "\n",
    "Px_est, Pc_est, kl_hist = ev.deconv( Pc )\n",
    "\n",
    "plt.figure()\n",
    "plt.plot( kl_hist )\n",
    "\n",
    "plt.figure()\n",
    "plt.subplot(1,2,1)\n",
    "plt.pcolor( Px)\n",
    "plt.subplot(1,2,2)\n",
    "plt.pcolor( Px_est )\n",
    "\n",
    "plt.figure()\n",
    "plt.subplot(1,2,1)\n",
    "plt.pcolor( Pc)\n",
    "plt.subplot(1,2,2)\n",
    "plt.pcolor( Pc_est )\n"
   ]
  }
 ],
 "metadata": {
  "interpreter": {
   "hash": "2790283b11d00c81146135427d2ffc3659338fde6784e727cf6b2489931e77de"
  },
  "kernelspec": {
   "display_name": "multido",
   "language": "python",
   "name": "python3"
  },
  "language_info": {
   "codemirror_mode": {
    "name": "ipython",
    "version": 3
   },
   "file_extension": ".py",
   "mimetype": "text/x-python",
   "name": "python",
   "nbconvert_exporter": "python",
   "pygments_lexer": "ipython3",
   "version": "3.7.3"
  }
 },
 "nbformat": 4,
 "nbformat_minor": 4
}

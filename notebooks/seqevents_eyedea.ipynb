{
 "cells": [
  {
   "cell_type": "code",
   "execution_count": 1,
   "metadata": {},
   "outputs": [],
   "source": [
    "%load_ext autoreload\n",
    "%autoreload 2"
   ]
  },
  {
   "cell_type": "code",
   "execution_count": 1,
   "metadata": {},
   "outputs": [],
   "source": [
    "from src import *\n",
    "from notebooks.seqevents import Events"
   ]
  },
  {
   "cell_type": "markdown",
   "metadata": {},
   "source": [
    "### On eyedea dataset"
   ]
  },
  {
   "cell_type": "code",
   "execution_count": 17,
   "metadata": {},
   "outputs": [],
   "source": [
    "uuid = '010_eyedea_all_aligned_RX100/1'\n",
    "model, config = load_model_locally(uuid, model_name='rvce')"
   ]
  },
  {
   "cell_type": "code",
   "execution_count": 29,
   "metadata": {},
   "outputs": [],
   "source": [
    "# file = config.testing_files[6]\n",
    "file = '23_KeZlatnikum_iphone_aligned_RX100'\n",
    "# file = '23_KeZlatnikum_RX100'\n",
    "video = Video(file, config)\n",
    "from_time, till_time = video.get_from_till_time(Part.WHOLE)\n",
    "probs_1 = validate_video(video, model, return_preds=False, from_time=from_time, till_time=till_time)\n",
    "probs_2 = validate_video(video, model, return_preds=False, from_time=config.window_length / 2, till_time=till_time)"
   ]
  },
  {
   "cell_type": "code",
   "execution_count": 30,
   "metadata": {},
   "outputs": [
    {
     "name": "stdout",
     "output_type": "stream",
     "text": [
      "(17, 455)\n"
     ]
    }
   ],
   "source": [
    "n_events = 17\n",
    "\n",
    "Px1 = probs_1['n_counts'][:, :n_events].T\n",
    "Px2 = probs_2['n_counts'][:, :n_events].T\n",
    "\n",
    "Pc = np.empty((Px1.shape[0], Px1.shape[1] + Px2.shape[1]))\n",
    "Pc[:, 0::2] = Px1\n",
    "Pc[:, 1::2] = Px2\n",
    "\n",
    "Pc = Pc / Pc.sum(0)\n",
    "\n",
    "print(Pc.shape)"
   ]
  },
  {
   "cell_type": "code",
   "execution_count": 27,
   "metadata": {},
   "outputs": [
    {
     "name": "stderr",
     "output_type": "stream",
     "text": [
      "100%|██████████| 10/10 [00:02<00:00,  4.57it/s]\n"
     ]
    },
    {
     "name": "stdout",
     "output_type": "stream",
     "text": [
      "Px1:    175, 19\n",
      "Px2:    172, 16\n",
      "est_Px: 171, 15\n",
      "true:   156\n"
     ]
    },
    {
     "name": "stderr",
     "output_type": "stream",
     "text": [
      "100%|██████████| 20/20 [00:04<00:00,  4.42it/s]\n"
     ]
    },
    {
     "name": "stdout",
     "output_type": "stream",
     "text": [
      "Px1:    175, 19\n",
      "Px2:    172, 16\n",
      "est_Px: 173, 17\n",
      "true:   156\n"
     ]
    },
    {
     "name": "stderr",
     "output_type": "stream",
     "text": [
      "100%|██████████| 30/30 [00:06<00:00,  4.35it/s]\n"
     ]
    },
    {
     "name": "stdout",
     "output_type": "stream",
     "text": [
      "Px1:    175, 19\n",
      "Px2:    172, 16\n",
      "est_Px: 174, 18\n",
      "true:   156\n"
     ]
    },
    {
     "name": "stderr",
     "output_type": "stream",
     "text": [
      "100%|██████████| 40/40 [00:08<00:00,  4.54it/s]\n"
     ]
    },
    {
     "name": "stdout",
     "output_type": "stream",
     "text": [
      "Px1:    175, 19\n",
      "Px2:    172, 16\n",
      "est_Px: 172, 16\n",
      "true:   156\n"
     ]
    },
    {
     "name": "stderr",
     "output_type": "stream",
     "text": [
      "100%|██████████| 50/50 [00:11<00:00,  4.49it/s]\n"
     ]
    },
    {
     "name": "stdout",
     "output_type": "stream",
     "text": [
      "Px1:    175, 19\n",
      "Px2:    172, 16\n",
      "est_Px: 172, 16\n",
      "true:   156\n"
     ]
    },
    {
     "name": "stderr",
     "output_type": "stream",
     "text": [
      "100%|██████████| 60/60 [00:13<00:00,  4.50it/s]\n"
     ]
    },
    {
     "name": "stdout",
     "output_type": "stream",
     "text": [
      "Px1:    175, 19\n",
      "Px2:    172, 16\n",
      "est_Px: 172, 16\n",
      "true:   156\n"
     ]
    },
    {
     "name": "stderr",
     "output_type": "stream",
     "text": [
      "100%|██████████| 70/70 [00:15<00:00,  4.53it/s]\n"
     ]
    },
    {
     "name": "stdout",
     "output_type": "stream",
     "text": [
      "Px1:    175, 19\n",
      "Px2:    172, 16\n",
      "est_Px: 172, 16\n",
      "true:   156\n"
     ]
    },
    {
     "name": "stderr",
     "output_type": "stream",
     "text": [
      "100%|██████████| 80/80 [00:18<00:00,  4.32it/s]\n"
     ]
    },
    {
     "name": "stdout",
     "output_type": "stream",
     "text": [
      "Px1:    175, 19\n",
      "Px2:    172, 16\n",
      "est_Px: 172, 16\n",
      "true:   156\n"
     ]
    },
    {
     "name": "stderr",
     "output_type": "stream",
     "text": [
      "100%|██████████| 90/90 [00:19<00:00,  4.51it/s]\n"
     ]
    },
    {
     "name": "stdout",
     "output_type": "stream",
     "text": [
      "Px1:    175, 19\n",
      "Px2:    172, 16\n",
      "est_Px: 172, 16\n",
      "true:   156\n"
     ]
    },
    {
     "name": "stderr",
     "output_type": "stream",
     "text": [
      "100%|██████████| 100/100 [00:22<00:00,  4.53it/s]\n"
     ]
    },
    {
     "name": "stdout",
     "output_type": "stream",
     "text": [
      "Px1:    175, 19\n",
      "Px2:    172, 16\n",
      "est_Px: 172, 16\n",
      "true:   156\n"
     ]
    }
   ],
   "source": [
    "for n_epochs in [10, 20, 30, 40, 50, 60, 70, 80, 90, 100]:\n",
    "    n_events, seq_len = Pc.shape\n",
    "    A = Events(n_events // 2, seq_len + 1)\n",
    "    est_Px, est_Pc, kl_hist = A.deconv(Pc, n_epochs)\n",
    "\n",
    "    labels = get_labels(video, from_time=from_time, till_time=till_time)\n",
    "    n_counts_true = labels['n_counts']\n",
    "    n_counts_true_cumsum = n_counts_true.cumsum()\n",
    "\n",
    "    n_counts_true_sum = n_counts_true.sum()\n",
    "    print(f'Px1:    {Px1.argmax(0).sum()}, {abs(n_counts_true_sum - Px1.argmax(0).sum())}') \n",
    "    print(f'Px2:    {Px2.argmax(0).sum()}, {abs(n_counts_true_sum - Px2.argmax(0).sum())}') \n",
    "    print(f'est_Px: {est_Px.argmax(0).sum()}, {abs(n_counts_true_sum - est_Px.argmax(0).sum())}')\n",
    "    print(f'true:   {n_counts_true_sum}')"
   ]
  },
  {
   "cell_type": "code",
   "execution_count": 31,
   "metadata": {},
   "outputs": [
    {
     "name": "stderr",
     "output_type": "stream",
     "text": [
      "100%|██████████| 50/50 [00:10<00:00,  4.56it/s]\n"
     ]
    },
    {
     "name": "stdout",
     "output_type": "stream",
     "text": [
      "Px1:    220\n",
      "Px2:    232\n",
      "est_Px: 209\n",
      "true:   156\n"
     ]
    }
   ],
   "source": [
    "n_events, seq_len = Pc.shape\n",
    "A = Events(n_events // 2, seq_len + 1)\n",
    "est_Px, est_Pc, kl_hist = A.deconv(Pc, 50)\n",
    "\n",
    "labels = get_labels(video, from_time=from_time, till_time=till_time)\n",
    "n_counts_true = labels['n_counts']\n",
    "n_counts_true_cumsum = n_counts_true.cumsum()\n",
    "\n",
    "print(f'Px1:    {Px1.argmax(0).sum()}') \n",
    "print(f'Px2:    {Px2.argmax(0).sum()}') \n",
    "print(f'est_Px: {est_Px.argmax(0).sum()}')\n",
    "print(f'true:   {n_counts_true.sum()}')"
   ]
  },
  {
   "cell_type": "code",
   "execution_count": 32,
   "metadata": {},
   "outputs": [
    {
     "data": {
      "image/png": "[encoded data removed]",
      "text/plain": [
       "<Figure size 1080x360 with 1 Axes>"
      ]
     },
     "metadata": {
      "needs_background": "light"
     },
     "output_type": "display_data"
    }
   ],
   "source": [
    "Px1_cumsum = Px1.argmax(0).cumsum()\n",
    "Px2_cumsum = Px2.argmax(0).cumsum()\n",
    "est_Px_cumsum = est_Px.argmax(0).cumsum()\n",
    "\n",
    "x_axis = np.linspace(0, Px1.shape[1] , est_Px.shape[1])\n",
    "\n",
    "plt.figure(figsize=(15, 5))\n",
    "plt.plot(x_axis, est_Px_cumsum, label='est_Px')\n",
    "plt.plot(Px1_cumsum, label='Px1')\n",
    "plt.plot(Px2_cumsum, label='Px2')\n",
    "plt.plot(n_counts_true_cumsum, label='true')\n",
    "plt.legend();"
   ]
  },
  {
   "cell_type": "code",
   "execution_count": null,
   "metadata": {},
   "outputs": [],
   "source": []
  }
 ],
 "metadata": {
  "interpreter": {
   "hash": "5c5367881cd1cf07ff91f385af2760a91324c2d338b276ec1210beedc2863863"
  },
  "kernelspec": {
   "display_name": "Python 3.9.0 ('dev')",
   "language": "python",
   "name": "python3"
  },
  "language_info": {
   "codemirror_mode": {
    "name": "ipython",
    "version": 3
   },
   "file_extension": ".py",
   "mimetype": "text/x-python",
   "name": "python",
   "nbconvert_exporter": "python",
   "pygments_lexer": "ipython3",
   "version": "3.9.0"
  },
  "orig_nbformat": 4
 },
 "nbformat": 4,
 "nbformat_minor": 2
}

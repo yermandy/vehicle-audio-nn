{
 "cells": [
  {
   "cell_type": "markdown",
   "id": "900a7fbe",
   "metadata": {},
   "source": [
    "Inference of a single count label c and n coupled labels $x_i,y_i$, $i=1,\\ldots,n$, such that $c=x_i+y_i$, leads to \n",
    "\n",
    "$\\max\\limits_{c=x_1+x_2\\atop {\\cdots\\atop c=x_n+y_n}} log(p(c))+\\sum_{i=1}^n \\big (log(P_x(x_i))+log(P_y(y_i))\\big )$"
   ]
  },
  {
   "cell_type": "code",
   "execution_count": 31,
   "id": "69547760",
   "metadata": {},
   "outputs": [
    {
     "name": "stdout",
     "output_type": "stream",
     "text": [
      "(50, 200)\n",
      "(50, 200)\n",
      "(50, 200)\n"
     ]
    }
   ],
   "source": [
    "import numpy as np\n",
    "\n",
    "# create instance of the problem\n",
    "n_windows = 200\n",
    "n_max_events = 49\n",
    "n_coupled_labels = 2\n",
    "\n",
    "Pc = np.random.rand(n_max_events + 1, n_windows)\n",
    "Pc = Pc / np.sum( Pc, axis=0)\n",
    "log_Pc = np.log( Pc )\n",
    "\n",
    "log_P = []\n",
    "for i in range(n_coupled_labels):\n",
    "    Px = np.random.rand(n_max_events + 1, n_windows)\n",
    "    Px = Px / np.sum( Px, axis=0)\n",
    "\n",
    "    Py = np.random.rand(n_max_events + 1, n_windows)\n",
    "    Py = Py / np.sum( Py, axis=0)\n",
    "    \n",
    "    log_P.append( (np.log(Px),np.log(Py)))\n",
    "\n",
    "print(log_Pc.shape)\n",
    "print(log_P[0][0].shape)\n",
    "print(log_P[0][1].shape)\n"
   ]
  },
  {
   "cell_type": "code",
   "execution_count": 32,
   "id": "0c54da3d",
   "metadata": {},
   "outputs": [],
   "source": [
    "def struct_inference(log_Pc, log_P):\n",
    "    \n",
    "    n_events = log_Pc.shape[0]-1\n",
    "    n_wins = log_Pc.shape[1]\n",
    "    \n",
    "    phi = []\n",
    "    arg_phi = []\n",
    "    score = np.copy( log_Pc )\n",
    "    for i in range( len(log_P) ):\n",
    "        log_Px = log_P[i][0]\n",
    "        log_flip_Py = np.flipud( log_P[i][1] )\n",
    "\n",
    "        phi_ = np.zeros( (n_events+1,n_wins) )\n",
    "        arg_phi_ = np.zeros( (n_events+1,n_wins), dtype = int )\n",
    "        for c in range( n_events+1):\n",
    "            tmp = log_Px[0:c+1,:] + log_flip_Py[-(c+1):,:]\n",
    "            arg_phi_[c,:] = np.argmax( tmp, axis=0 )\n",
    "            #phi_[c,:] = np.max( tmp, axis=0)\n",
    "            idx_row, idx_col = np.unravel_index(arg_phi_[c,:] * tmp.shape[1] + np.arange(0, tmp.shape[1]), tmp.shape)\n",
    "            phi_[c,:] = tmp[idx_row, idx_col]\n",
    "\n",
    "        arg_phi.append(arg_phi_ )\n",
    "\n",
    "        score += phi_\n",
    "            \n",
    "    c = np.argmax(score, axis=0)\n",
    "        \n",
    "    lab = []\n",
    "    for i in range( len(log_P) ):\n",
    "        idx_row, idx_col = np.unravel_index( c*n_wins+np.arange(0,n_wins ), (n_events+1,n_wins))\n",
    "        lab.append( arg_phi[i][idx_row,idx_col])\n",
    "     \n",
    "    return c, lab\n"
   ]
  },
  {
   "cell_type": "code",
   "execution_count": 33,
   "id": "644857d4",
   "metadata": {},
   "outputs": [],
   "source": [
    "# log_Pc.argmax(0)\n",
    "# log_P[0][0].argmax(0)"
   ]
  },
  {
   "cell_type": "code",
   "execution_count": 34,
   "id": "1921bd42",
   "metadata": {},
   "outputs": [
    {
     "name": "stdout",
     "output_type": "stream",
     "text": [
      "number of windows: 200\n",
      "max num of events in a single window: 49\n",
      "count_label: [44 28 27 44 28 17 37 26 39 47 48 18 20 49 29 44 27 32 42 36 35 33 29 42\n",
      " 42 45 31 42 33 48 31 39 28 40 23 47 43 43 39 44 35 31 47 19 38 35 48 47\n",
      " 21 39 41 49 46 43 47 43 44 32 44 49 43 45 36 43 35 38 42 28 44 39 40 32\n",
      " 34 40 29 48 41 33 34 33 13 41 25 19 44 37 16 46 27 33 46 41 49 22 31 19\n",
      " 49 18 42 49 26 31 36 48 42 43 48 26 41 40 48 44 36 41 30 33 33 49 46 38\n",
      " 36 15 44 40 46 36 36 22 47 46 46 27 45 42 47 42 43 37 28 49 28 34 17 49\n",
      " 46 33 42 37 49 36 40 45 22 46 20 29 42 36 47 47 39 27 42 48 38 40 40 33\n",
      " 47 28 48 48 40 19 47 15 20 40 28 47 49 23 34 29 46 25 23 49 47 26 16 33\n",
      " 42 35 46 48 26 39 27 38]\n",
      "coupled_labels 0    x: [24 28  1  8 28 16 27  1 11 10 26  9 17 30 12 10 24  2  9 12 19  9  9  8\n",
      " 30 36  3 15 15 22 12 14  2 40 13 26  5  4 39  0 26 22 39  5 16 19 12 10\n",
      " 14  4 13 40 24 43 33 37 17 31  2 29 40 45 22 24 27 31  8  9  2 23 26 15\n",
      " 29  1 28 23 11 17 34  8  8 25  9 11 29  5 13 38 21 32 12 34 36  5 25  6\n",
      " 30  8 26  7  3 31 25  5 20 38 42 17 17 11 19 29  1 20 22  1  8 45 36 24\n",
      " 26  2  3  6 19 20 11  5 32  5 39 21 14 34 12 11 20 22 17  9  2 34  6 23\n",
      "  0  7 42 26 29 26 23 16 10 41  8 28 39 22 14 34 10 10  7 18  0 37 24  2\n",
      " 46 25  7 13 33  6  2  8  2 37  8 38 32 12 14 18  1 22 10 25  7 22 15  6\n",
      " 40  9 10  4  6 11  3  8] y: [20  0 26 36  0  1 10 25 28 37 22  9  3 19 17 34  3 30 33 24 16 24 20 34\n",
      " 12  9 28 27 18 26 19 25 26  0 10 21 38 39  0 44  9  9  8 14 22 16 36 37\n",
      "  7 35 28  9 22  0 14  6 27  1 42 20  3  0 14 19  8  7 34 19 42 16 14 17\n",
      "  5 39  1 25 30 16  0 25  5 16 16  8 15 32  3  8  6  1 34  7 13 17  6 13\n",
      " 19 10 16 42 23  0 11 43 22  5  6  9 24 29 29 15 35 21  8 32 25  4 10 14\n",
      " 10 13 41 34 27 16 25 17 15 41  7  6 31  8 35 31 23 15 11 40 26  0 11 26\n",
      " 46 26  0 11 20 10 17 29 12  5 12  1  3 14 33 13 29 17 35 30 38  3 16 31\n",
      "  1  3 41 35  7 13 45  7 18  3 20  9 17 11 20 11 45  3 13 24 40  4  1 27\n",
      "  2 26 36 44 20 28 24 30]\n",
      "coupled_labels 1    x: [19 28 18 26  5 13  3 14  5  6 42  0 19  9  2 13  3 18 16 20 13 25 14 40\n",
      " 34 45 28 11  0 26  0 23 23 38 13 10  4 42  4 22 12  0 38 11 33  9 45 37\n",
      " 14  8 37 49  7 13 18 22 38  2  3 22 20 10 17 31 23 19 12  2  3 20  3 29\n",
      "  0 36  2 26  9  0 16  3  3 36 11  8  3  4  3 41 10  3 22 16 11  4 11  4\n",
      "  0  1 20 35 10 30 29  2 20 24 34 21 28  8 47 44 22 32  6 26 30  2 26 21\n",
      "  6  0  2 17  1 28  3  1 10 18 28 15  2 35  9 40 38 37 26 10 18 21 14 25\n",
      " 11 17 27 25  5 36 33 44 16 28 11 21  5 29 38 41 35 12 35 36 21 28  9 28\n",
      " 26 17  7 37 36  3 16 13 16 37  9  4 17 11 13 17 31 12 15  7 28 20 15 23\n",
      " 42 25  0  0 19  1 13  0] y: [25  0  9 18 23  4 34 12 34 41  6 18  1 40 27 31 24 14 26 16 22  8 15  2\n",
      "  8  0  3 31 33 22 31 16  5  2 10 37 39  1 35 22 23 31  9  8  5 26  3 10\n",
      "  7 31  4  0 39 30 29 21  6 30 41 27 23 35 19 12 12 19 30 26 41 19 37  3\n",
      " 34  4 27 22 32 33 18 30 10  5 14 11 41 33 13  5 17 30 24 25 38 18 20 15\n",
      " 49 17 22 14 16  1  7 46 22 19 14  5 13 32  1  0 14  9 24  7  3 47 20 17\n",
      " 30 15 42 23 45  8 33 21 37 28 18 12 43  7 38  2  5  0  2 39 10 13  3 24\n",
      " 35 16 15 12 44  0  7  1  6 18  9  8 37  7  9  6  4 15  7 12 17 12 31  5\n",
      " 21 11 41 11  4 16 31  2  4  3 19 43 32 12 21 12 15 13  8 42 19  6  1 10\n",
      "  0 10 46 48  7 38 14 38]\n"
     ]
    }
   ],
   "source": [
    "# inference  \n",
    "c, lab = struct_inference( log_Pc, log_P )\n",
    "\n",
    "print(\"number of windows:\", log_Pc.shape[1])\n",
    "print(\"max num of events in a single window:\", log_Pc.shape[0]-1)\n",
    "print(\"count_label:\", c)\n",
    "for i in range( len(log_P) ):\n",
    "    print(\"coupled_labels\",i,\"   x:\",lab[i], \"y:\", c-lab[i])"
   ]
  },
  {
   "cell_type": "code",
   "execution_count": 37,
   "id": "4b90d8be",
   "metadata": {},
   "outputs": [
    {
     "data": {
      "text/plain": [
       "array([24, 28,  1,  8, 28, 16, 27,  1, 11, 10, 26,  9, 17, 30, 12, 10, 24,\n",
       "        2,  9, 12, 19,  9,  9,  8, 30, 36,  3, 15, 15, 22, 12, 14,  2, 40,\n",
       "       13, 26,  5,  4, 39,  0, 26, 22, 39,  5, 16, 19, 12, 10, 14,  4, 13,\n",
       "       40, 24, 43, 33, 37, 17, 31,  2, 29, 40, 45, 22, 24, 27, 31,  8,  9,\n",
       "        2, 23, 26, 15, 29,  1, 28, 23, 11, 17, 34,  8,  8, 25,  9, 11, 29,\n",
       "        5, 13, 38, 21, 32, 12, 34, 36,  5, 25,  6, 30,  8, 26,  7,  3, 31,\n",
       "       25,  5, 20, 38, 42, 17, 17, 11, 19, 29,  1, 20, 22,  1,  8, 45, 36,\n",
       "       24, 26,  2,  3,  6, 19, 20, 11,  5, 32,  5, 39, 21, 14, 34, 12, 11,\n",
       "       20, 22, 17,  9,  2, 34,  6, 23,  0,  7, 42, 26, 29, 26, 23, 16, 10,\n",
       "       41,  8, 28, 39, 22, 14, 34, 10, 10,  7, 18,  0, 37, 24,  2, 46, 25,\n",
       "        7, 13, 33,  6,  2,  8,  2, 37,  8, 38, 32, 12, 14, 18,  1, 22, 10,\n",
       "       25,  7, 22, 15,  6, 40,  9, 10,  4,  6, 11,  3,  8])"
      ]
     },
     "execution_count": 37,
     "metadata": {},
     "output_type": "execute_result"
    }
   ],
   "source": [
    "lab[0]"
   ]
  },
  {
   "cell_type": "markdown",
   "id": "5ce967d8",
   "metadata": {},
   "source": [
    "### Eyedea"
   ]
  },
  {
   "cell_type": "code",
   "execution_count": 1,
   "id": "49e13ec6",
   "metadata": {},
   "outputs": [],
   "source": [
    "import os\n",
    "os.chdir('..')"
   ]
  },
  {
   "cell_type": "code",
   "execution_count": 2,
   "id": "78ae25f0",
   "metadata": {},
   "outputs": [],
   "source": [
    "from src import *"
   ]
  },
  {
   "cell_type": "code",
   "execution_count": null,
   "id": "b77e510f",
   "metadata": {},
   "outputs": [],
   "source": [
    "def inference(root_uuid, prefix, model_name, inference_function):\n",
    "    uuids = []\n",
    "    for i in range(0, 5):\n",
    "        uuid = f'{root_uuid}/{i}'\n",
    "        print(uuid)\n",
    "        uuids.append(uuid)\n",
    "        config = load_config_locally(uuid)\n",
    "        config.inference_function = inference_function\n",
    "        config.coupled_labels = [['n_incoming', 'n_outgoing'], ['n_CAR', 'n_NOT_CAR']]\n",
    "        datapool = DataPool(config.testing_files, config)\n",
    "        model, _ = load_model_locally(uuid, model_name)\n",
    "        summary = validate_datapool(datapool, model, config, Part.WHOLE)\n",
    "\n",
    "\n",
    "root_uuid = '013_eyedea_all_aligned_RX100_direction_types'\n",
    "prefix = 'tst_coupled'\n",
    "model_name = 'rvce'\n",
    "inference_function = InferenceFunction.COUPLED\n",
    "\n",
    "inference(root_uuid, prefix, model_name, inference_function)"
   ]
  }
 ],
 "metadata": {
  "interpreter": {
   "hash": "5c5367881cd1cf07ff91f385af2760a91324c2d338b276ec1210beedc2863863"
  },
  "kernelspec": {
   "display_name": "multido",
   "language": "python",
   "name": "python3"
  },
  "language_info": {
   "codemirror_mode": {
    "name": "ipython",
    "version": 3
   },
   "file_extension": ".py",
   "mimetype": "text/x-python",
   "name": "python",
   "nbconvert_exporter": "python",
   "pygments_lexer": "ipython3",
   "version": "3.9.0"
  }
 },
 "nbformat": 4,
 "nbformat_minor": 5
}

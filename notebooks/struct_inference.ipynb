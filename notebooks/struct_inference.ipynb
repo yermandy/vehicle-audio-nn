{
 "cells": [
  {
   "cell_type": "markdown",
   "id": "900a7fbe",
   "metadata": {},
   "source": [
    "Inference of a single count label c and n coupled labels $x_i,y_i$, $i=1,\\ldots,n$, such that $c=x_i+y_i$, leads to \n",
    "\n",
    "$\\max\\limits_{c=x_1+x_2\\atop {\\cdots\\atop c=x_n+y_n}} log(p(c))+\\sum_{i=1}^n \\big (log(P_x(x_i))+log(P_y(y_i))\\big )$"
   ]
  },
  {
   "cell_type": "code",
   "execution_count": 1,
   "id": "69547760",
   "metadata": {},
   "outputs": [
    {
     "name": "stdout",
     "output_type": "stream",
     "text": [
      "[[-1.57970992 -1.30072108 -0.99899676 -0.87703923 -1.27565487 -1.41395495]\n",
      " [-2.04670449 -2.09639317 -4.0429285  -2.84569716 -1.52808199 -1.55412177]\n",
      " [-1.65038708 -2.0132812  -4.36893371 -3.47825736 -1.79449312 -2.03614054]\n",
      " [-1.54141548 -1.67852643 -3.0127867  -1.25389527 -3.1457398  -2.40710287]\n",
      " [-2.12528234 -2.52364258 -1.3920487  -1.94814216 -1.51613832 -2.04748625]\n",
      " [-1.97074792 -1.58767583 -1.19131822 -2.70153092 -2.59032441 -1.63076815]]\n",
      "[[-2.56176678 -3.23541109 -1.83613237 -1.57846418 -1.56248615 -3.33076993]\n",
      " [-1.41678093 -1.15638639 -1.3577865  -1.85428374 -3.19427697 -1.95197663]\n",
      " [-3.5874685  -1.2529747  -1.84619191 -1.60527912 -2.08970264 -1.13841698]\n",
      " [-3.19898155 -3.15126988 -2.21250147 -1.75779771 -1.85938703 -1.65063222]\n",
      " [-2.0236712  -1.43232128 -2.43359047 -1.66003608 -1.37109455 -1.20905534]\n",
      " [-0.73460067 -2.54047026 -1.47686415 -2.60702699 -1.53215946 -4.46471502]]\n",
      "[[-2.89093261 -2.01727277 -1.26762658 -1.38193568 -2.07660371 -4.43750343]\n",
      " [-1.31214096 -1.04403344 -2.39154129 -1.85873993 -1.28286224 -1.60717636]\n",
      " [-2.2150394  -5.03597843 -1.79279936 -1.19338855 -2.02756215 -2.80995335]\n",
      " [-1.60029718 -1.37460454 -2.352643   -1.43271449 -2.60411594 -1.36426681]\n",
      " [-1.82042355 -2.61864318 -3.03508757 -3.72421858 -3.04672274 -1.23989073]\n",
      " [-1.59805439 -1.70040695 -1.14780937 -3.60989279 -1.06634891 -1.70084004]]\n"
     ]
    }
   ],
   "source": [
    "import numpy as np\n",
    "\n",
    "# create instance of the problem\n",
    "n_wins = 6\n",
    "n_max_events = 5\n",
    "n_coupled_labels = 3\n",
    "\n",
    "Pc = np.random.rand(n_max_events+1, n_wins)\n",
    "Pc = Pc / np.sum( Pc, axis=0)\n",
    "log_Pc = np.log( Pc )\n",
    "\n",
    "log_P = []\n",
    "for i in range(n_coupled_labels):\n",
    "    Px = np.random.rand(n_max_events+1, n_wins)\n",
    "    Px = Px / np.sum( Px, axis=0)\n",
    "\n",
    "    Py = np.random.rand(n_max_events+1, n_wins)\n",
    "    Py = Py / np.sum( Py, axis=0)\n",
    "    \n",
    "    log_P.append( (np.log(Px),np.log(Py)))\n",
    "\n",
    "\n",
    "    \n",
    "print(log_Pc)\n",
    "print(log_P[0][0])\n",
    "print(log_P[0][1])\n"
   ]
  },
  {
   "cell_type": "code",
   "execution_count": 2,
   "id": "0c54da3d",
   "metadata": {},
   "outputs": [],
   "source": [
    "def struct_inference( log_Pc, log_P ):\n",
    "    \n",
    "    n_events = log_Pc.shape[0]-1\n",
    "    n_wins = log_Pc.shape[1]\n",
    "    \n",
    "    phi = []\n",
    "    arg_phi = []\n",
    "    score = np.copy( log_Pc )\n",
    "    for i in range( len(log_P) ):\n",
    "        log_Px = log_P[i][0]\n",
    "        log_flip_Py = np.flipud( log_P[i][1] )\n",
    "\n",
    "        phi_ = np.zeros( (n_events+1,n_wins) )\n",
    "        arg_phi_ = np.zeros( (n_events+1,n_wins), dtype = int )\n",
    "        for c in range( n_events+1):\n",
    "            tmp = log_Px[0:c+1,:] + log_flip_Py[-(c+1):,:]\n",
    "            arg_phi_[c,:] = np.argmax( tmp, axis=0 )\n",
    "            #phi_[c,:] = np.max( tmp, axis=0)\n",
    "            idx_row, idx_col = np.unravel_index(arg_phi_[c,:]*tmp.shape[1]+np.arange(0,tmp.shape[1] ), tmp.shape)\n",
    "            phi_[c,:] = tmp[idx_row,idx_col]\n",
    "\n",
    "        arg_phi.append(arg_phi_ )\n",
    "\n",
    "        score += phi_\n",
    "            \n",
    "    c = np.argmax(score,axis=0)\n",
    "        \n",
    "    lab = []\n",
    "    for i in range( len(log_P) ):\n",
    "        idx_row, idx_col = np.unravel_index( c*n_wins+np.arange(0,n_wins ), (n_events+1,n_wins))\n",
    "        lab.append( arg_phi[i][idx_row,idx_col])\n",
    "     \n",
    "    return c, lab\n"
   ]
  },
  {
   "cell_type": "code",
   "execution_count": 9,
   "id": "1921bd42",
   "metadata": {},
   "outputs": [
    {
     "name": "stdout",
     "output_type": "stream",
     "text": [
      "number of windows: 6\n",
      "max num of events in a ingle window: 5\n",
      "count_label: [2 5 5 3 4 5]\n",
      "coupled_labels 0    x: [1 4 5 0 3 2] y: [1 1 0 3 1 3]\n",
      "coupled_labels 1    x: [1 4 5 2 1 3] y: [1 1 0 1 3 2]\n",
      "coupled_labels 2    x: [1 0 5 1 3 0] y: [1 5 0 2 1 5]\n"
     ]
    }
   ],
   "source": [
    "# inference  \n",
    "c, lab = struct_inference( log_Pc, log_P )\n",
    "\n",
    "print(\"number of windows:\", log_Pc.shape[1])\n",
    "print(\"max num of events in a ingle window:\", log_Pc.shape[0]-1)\n",
    "print(\"count_label:\", c)\n",
    "for i in range( len(log_P) ):\n",
    "    print(\"coupled_labels\",i,\"   x:\",lab[i], \"y:\", c-lab[i])"
   ]
  }
 ],
 "metadata": {
  "kernelspec": {
   "display_name": "multido",
   "language": "python",
   "name": "multido"
  },
  "language_info": {
   "codemirror_mode": {
    "name": "ipython",
    "version": 3
   },
   "file_extension": ".py",
   "mimetype": "text/x-python",
   "name": "python",
   "nbconvert_exporter": "python",
   "pygments_lexer": "ipython3",
   "version": "3.9.5"
  }
 },
 "nbformat": 4,
 "nbformat_minor": 5
}

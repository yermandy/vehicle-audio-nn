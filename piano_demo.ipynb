{
 "cells": [
  {
   "cell_type": "code",
   "execution_count": null,
   "id": "b9e47f59",
   "metadata": {},
   "outputs": [],
   "source": [
    "import numpy as np\n",
    "import matplotlib.pyplot as plt\n",
    "import IPython.display\n",
    "import librosa\n",
    "import librosa.display\n",
    "import random\n",
    "from datetime import datetime"
   ]
  },
  {
   "cell_type": "code",
   "execution_count": null,
   "id": "8ef21edd",
   "metadata": {},
   "outputs": [],
   "source": [
    "def plot_spectrogram(y, sr):\n",
    "    signal = librosa.stft(y)    \n",
    "    signal = librosa.amplitude_to_db(np.abs(signal) ** 2)\n",
    "\n",
    "    plt.figure(figsize=(25, 10))\n",
    "    librosa.display.specshow(signal, sr=sr, x_axis=\"time\", y_axis='log')\n",
    "    plt.colorbar(format=\"%+2.f\")"
   ]
  },
  {
   "cell_type": "markdown",
   "id": "1e585ba0",
   "metadata": {},
   "source": [
    "### STFT c4 note"
   ]
  },
  {
   "cell_type": "code",
   "execution_count": null,
   "id": "19cf7b6b",
   "metadata": {},
   "outputs": [],
   "source": [
    "note = 'piano/c4.mp3'\n",
    "y, sr = librosa.load(note)\n",
    "plot_spectrogram(y, sr)"
   ]
  },
  {
   "cell_type": "markdown",
   "id": "4ed5d4f4",
   "metadata": {},
   "source": [
    "### STFT c5 note"
   ]
  },
  {
   "cell_type": "code",
   "execution_count": null,
   "id": "88b179f4",
   "metadata": {},
   "outputs": [],
   "source": [
    "note = 'piano/c5.mp3'\n",
    "y, sr = librosa.load(note)\n",
    "plot_spectrogram(y, sr)"
   ]
  },
  {
   "cell_type": "markdown",
   "id": "8a40c5c0",
   "metadata": {},
   "source": [
    "### FFT c5 note"
   ]
  },
  {
   "cell_type": "code",
   "execution_count": null,
   "id": "3b2e9a70",
   "metadata": {},
   "outputs": [],
   "source": [
    "ft = np.fft.fft(y)\n",
    "\n",
    "magnitude = np.abs(ft)\n",
    "frequency = np.linspace(0, sr, len(magnitude))\n",
    "\n",
    "num_bins = int(len(magnitude) * .1)\n",
    "\n",
    "plt.figure(figsize=(18, 5))\n",
    "plt.plot(frequency[:num_bins], magnitude[:num_bins]);"
   ]
  },
  {
   "cell_type": "markdown",
   "id": "dae306a9",
   "metadata": {},
   "source": [
    "### Mel spectrogram c5 note"
   ]
  },
  {
   "cell_type": "code",
   "execution_count": null,
   "id": "2ba06a1a",
   "metadata": {},
   "outputs": [],
   "source": [
    "mel_spectrogram = librosa.feature.melspectrogram(y, sr=sr, n_fft=1024, hop_length=128, n_mels=100)\n",
    "log_mel_spectrogram = librosa.power_to_db(mel_spectrogram)\n",
    "\n",
    "plt.figure(figsize=(25, 10))\n",
    "librosa.display.specshow(log_mel_spectrogram, x_axis=\"time\", y_axis=\"mel\", sr=sr)\n",
    "plt.colorbar(format=\"%+2.f\")\n",
    "plt.show()"
   ]
  },
  {
   "cell_type": "code",
   "execution_count": null,
   "id": "bc3fa0d6",
   "metadata": {},
   "outputs": [],
   "source": []
  }
 ],
 "metadata": {
  "interpreter": {
   "hash": "5ef34d6291182462b057641bceaab9fe62f5f38d78f00b8ef6911b9a17c8c979"
  },
  "kernelspec": {
   "display_name": "Python 3",
   "language": "python",
   "name": "python3"
  },
  "language_info": {
   "codemirror_mode": {
    "name": "ipython",
    "version": 3
   },
   "file_extension": ".py",
   "mimetype": "text/x-python",
   "name": "python",
   "nbconvert_exporter": "python",
   "pygments_lexer": "ipython3",
   "version": "3.9.2"
  }
 },
 "nbformat": 4,
 "nbformat_minor": 5
}

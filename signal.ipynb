{
 "cells": [
  {
   "cell_type": "code",
   "execution_count": 2,
   "source": [
    "import numpy as np\n",
    "import librosa\n",
    "import librosa.display\n",
    "import matplotlib.pyplot as plt\n",
    "import IPython.display\n",
    "import torch, torchaudio\n",
    "\n",
    "# %matplotlib widget"
   ],
   "outputs": [],
   "metadata": {}
  },
  {
   "cell_type": "code",
   "execution_count": 6,
   "source": [
    "def plot_spectrogram(y, sr):\n",
    "    hop_length = int(4096 * 0.4)\n",
    "    plt.figure(figsize=(9, 5))\n",
    "    signal = librosa.stft(y, n_fft=4096, hop_length=hop_length, window='hamming')\n",
    "    signal = librosa.amplitude_to_db(np.abs(signal) ** 2)\n",
    "    librosa.display.specshow(signal, sr=sr, hop_length=hop_length , x_axis=\"time\", y_axis='log', cmap='magma')\n",
    "#     plt.colorbar(format=\"%+2.f\")\n",
    "    plt.tight_layout()\n",
    "\n",
    "    \n",
    "def running_mean(x, n):\n",
    "    if n % 2 == 0:\n",
    "        raise ValueError(\"Filter length is not odd\")\n",
    "\n",
    "    aver = np.convolve(x, np.ones((n,)) / n, mode='same')\n",
    "    n_half = int((n - 1) / 2)\n",
    "    corr_length = np.array(range(n_half + 1, n)) / n\n",
    "    aver[:n_half] = np.divide(aver[:n_half], corr_length)\n",
    "    aver[-n_half:] = np.divide(aver[-n_half:], corr_length[::-1])\n",
    "\n",
    "    return aver\n",
    "\n",
    "\n",
    "def filter_and_normalize(x, filts_len):\n",
    "    for filt_len in filts_len:\n",
    "        x = running_mean(x, filt_len)\n",
    "    \n",
    "    x -= np.min(x)\n",
    "    x = x / np.max(x)\n",
    "\n",
    "    return x\n",
    "\n",
    "\n",
    "def plot_signal(y, sr, f_min=0, f_max=int(1e8)):\n",
    "    signal = librosa.stft(y, n_fft=4096, hop_length=int(4096 * 0.4), window='hamming')\n",
    "    signal = np.abs(signal) ** 2\n",
    "    \n",
    "    signal = signal[f_min:f_max].sum(0)\n",
    "    signal = filter_and_normalize(signal, (11, 5))\n",
    "    \n",
    "    x = np.linspace(0, len(y), len(signal))\n",
    "    y3 = np.interp(range(len(y)), x, signal)\n",
    "    \n",
    "#     x_len = 9/60 * (len(y3) / sr)\n",
    "    fig, ax1 = plt.subplots(figsize=(9, 5))\n",
    "    ax2 = ax1.twinx()\n",
    "    \n",
    "    x = np.arange(len(y3)) / sr\n",
    "    ax1.plot(x, y, c='g', alpha=0.2)\n",
    "    ax2.plot(x, y3, c='black')\n",
    "    \n",
    "    ax1.set_ylabel('Amplitude')\n",
    "    ax1.set_xlabel('Time [s]')\n",
    "    plt.tight_layout()\n",
    "\n",
    "    \n",
    "def crop_signal(signal, from_min=1, from_sec=0, till_min=2, till_sec=0):\n",
    "\n",
    "    convert = lambda m, s: m * 60 + s\n",
    "\n",
    "    from_time = convert(from_min, from_sec)\n",
    "    till_time = convert(till_min, till_sec)\n",
    "\n",
    "    return signal[from_time * sr: till_time * sr]"
   ],
   "outputs": [],
   "metadata": {}
  },
  {
   "cell_type": "code",
   "execution_count": 68,
   "source": [
    "audio_path = 'output.wav'\n",
    "\n",
    "y, sr = librosa.load(audio_path, sr=None)"
   ],
   "outputs": [],
   "metadata": {}
  },
  {
   "cell_type": "code",
   "execution_count": 5,
   "source": [
    "y1 = crop_signal(y, 0, 0, 1, 0)"
   ],
   "outputs": [],
   "metadata": {}
  },
  {
   "cell_type": "code",
   "execution_count": 6,
   "source": [
    "plot_spectrogram(y1, sr)"
   ],
   "outputs": [
    {
     "output_type": "display_data",
     "data": {
      "text/plain": [
       "Canvas(toolbar=Toolbar(toolitems=[('Home', 'Reset original view', 'home', 'home'), ('Back', 'Back to previous …"
      ],
      "application/vnd.jupyter.widget-view+json": {
       "model_id": "658276c344314fbcb28d86bc90140cdd",
       "version_major": 2,
       "version_minor": 0
      }
     },
     "metadata": {}
    }
   ],
   "metadata": {}
  },
  {
   "cell_type": "code",
   "execution_count": 7,
   "source": [
    "plot_signal(y1, sr, 500)"
   ],
   "outputs": [
    {
     "output_type": "display_data",
     "data": {
      "text/plain": [
       "Canvas(toolbar=Toolbar(toolitems=[('Home', 'Reset original view', 'home', 'home'), ('Back', 'Back to previous …"
      ],
      "application/vnd.jupyter.widget-view+json": {
       "model_id": "c6fe9b2dd6f543ca80f05ec3142736b0",
       "version_major": 2,
       "version_minor": 0
      }
     },
     "metadata": {}
    }
   ],
   "metadata": {}
  },
  {
   "cell_type": "code",
   "execution_count": 8,
   "source": [
    "plot_signal(y1, sr, 0)"
   ],
   "outputs": [
    {
     "output_type": "display_data",
     "data": {
      "text/plain": [
       "Canvas(toolbar=Toolbar(toolitems=[('Home', 'Reset original view', 'home', 'home'), ('Back', 'Back to previous …"
      ],
      "application/vnd.jupyter.widget-view+json": {
       "model_id": "8fd39d7df3974dc7a1211dda789eaaa8",
       "version_major": 2,
       "version_minor": 0
      }
     },
     "metadata": {}
    }
   ],
   "metadata": {}
  },
  {
   "cell_type": "code",
   "execution_count": 103,
   "source": [
    "plt.close('all')\n",
    "\n",
    "combined = []\n",
    "\n",
    "# 0 - skip\n",
    "\n",
    "# 1\n",
    "secs = [33, 46.5, 49, 53.2]\n",
    "combined += [np.array(secs) + 60 * 1]\n",
    "\n",
    "# 2\n",
    "secs = [9.3, 20.3, 37.3, 49, 53, 54.5]\n",
    "combined += [np.array(secs) + 60 * 2]\n",
    "\n",
    "# 3\n",
    "secs = [5.8, 12.8, 21.4, 46, 48.5, 56.5]\n",
    "combined += [np.array(secs) + 60 * 3]\n",
    "\n",
    "# 4\n",
    "secs = [43.2, 54.6]\n",
    "combined += [np.array(secs) + 60 * 4]\n",
    "\n",
    "# 5\n",
    "secs = [6.3, 14.1, 15.5, 17.3, 18.5, 45.1]\n",
    "combined += [np.array(secs) + 60 * 5]\n",
    "\n",
    "# 6\n",
    "secs = [11.3, 20.2, 21.6, 48.4]\n",
    "combined += [np.array(secs) + 60 * 6]\n",
    "\n",
    "# 7\n",
    "secs = [20.1, 25, 29.6, 41, 45.5, 53.5]\n",
    "combined += [np.array(secs) + 60 * 7]\n",
    "\n",
    "# 8\n",
    "secs = [5.5, 19.8, 19.9, 23.8, 25.3]\n",
    "combined += [np.array(secs) + 60 * 8]\n",
    "\n",
    "# 9\n",
    "secs = [10.9, 16, 21, 31, 40.3, 41.3, 42.9, 46.3, 49.5]\n",
    "combined += [np.array(secs) + 60 * 9]\n",
    "\n",
    "# 10\n",
    "secs = [2.5, 21.5, 24.6]\n",
    "combined += [np.array(secs) + 60 * 10]\n",
    "\n",
    "# 11\n",
    "secs = [54.3]\n",
    "combined += [np.array(secs) + 60 * 11]\n",
    "\n",
    "# 12\n",
    "secs = [8.4, 12.1, 15, 16.6, 18.2, 19.3, 28.3, 28.9, 33.6, 35, 37.8, 39, 40.8, 55.3, 56.6]\n",
    "combined += [np.array(secs) + 60 * 12]\n",
    "\n",
    "# 13\n",
    "secs = [21.5, 51.5, 52.6]\n",
    "combined += [np.array(secs) + 60 * 13]\n",
    "\n",
    "# 14\n",
    "secs = [10.2, 22.5, 23.2, 24.5, 41, 53.6, 54.5]\n",
    "combined += [np.array(secs) + 60 * 14]\n",
    "\n",
    "# 15\n",
    "secs = [2.8, 9.5, 36.5, 45.5, 56.3]\n",
    "combined += [np.array(secs) + 60 * 15]\n",
    "\n",
    "# 16\n",
    "secs = [13.1, 19, 32.2, 33.6, 39.5, 42.3]\n",
    "combined += [np.array(secs) + 60 * 16]\n",
    "\n",
    "# 17\n",
    "secs = [8.2, 10, 39.8, 42.8]\n",
    "combined += [np.array(secs) + 60 * 17]\n",
    "\n",
    "# 18\n",
    "secs = [7.1, 8.5, 10.2, 11.2, 15.5, 34.2, 55.4]\n",
    "combined += [np.array(secs) + 60 * 18]\n",
    "\n",
    "# 19\n",
    "secs = [5.1, 7.3, 8.6, 13.3, 30, 32.5, 57.6, 58.2]\n",
    "combined += [np.array(secs) + 60 * 19]\n",
    "\n",
    "# 20\n",
    "secs = [4.3, 24.5, 26.1, 32, 33.8, 36.7, 38.5, 44, 46.1]\n",
    "combined += [np.array(secs) + 60 * 20]\n",
    "\n",
    "# 21\n",
    "secs = [20.5, 45.0, 46.6, 52.2]\n",
    "combined += [np.array(secs) + 60 * 21]\n",
    "\n",
    "# 22\n",
    "secs = [4.6, 6.8, 8.3, 16.8, 20.6, 39.3, 43.7, 45.9, 59.7]\n",
    "combined += [np.array(secs) + 60 * 22]\n",
    "\n",
    "# 23\n",
    "secs = [11.6, 24.6, 40.3, 45.4, 54.1]\n",
    "combined += [np.array(secs) + 60 * 23]\n",
    "\n",
    "# 24\n",
    "secs = [2.1, 8.5, 9.5, 13.9, 16.2, 22.5, 29.5, 43, 48, 58.3]\n",
    "combined += [np.array(secs) + 60 * 24]\n",
    "\n",
    "# 25\n",
    "secs = [5, 17.4, 18.6, 26.6, 31.2, 53.3]\n",
    "combined += [np.array(secs) + 60 * 25]\n",
    "\n",
    "# 26\n",
    "# secs = []\n",
    "# combined += [np.array(secs) + 60 * 26]\n",
    "\n",
    "# 27\n",
    "secs = [38, 41.8, 43, 47.3, 52.8]\n",
    "combined += [np.array(secs) + 60 * 27]\n",
    "\n",
    "# 28\n",
    "secs = [0.4, 4.5, 28.5, 34.3, 52.4, 55.6]\n",
    "combined += [np.array(secs) + 60 * 28]\n",
    "\n",
    "# 29\n",
    "secs = [8.9, 10.3, 13.3, 16.1, 21.7, 22.7, 31, 32, 33.1, 36.4, 41.1]\n",
    "combined += [np.array(secs) + 60 * 29]\n",
    "\n",
    "# 30\n",
    "secs = [9.5, 37.2, 38.4, 44.2]\n",
    "combined += [np.array(secs) + 60 * 30]\n",
    "\n",
    "# 31\n",
    "secs = [11.4, 15.1, 24.3, 30.2, 35.2]\n",
    "combined += [np.array(secs) + 60 * 31]\n",
    "\n",
    "# 32\n",
    "secs = [8.2, 12.4, 20.5, 26, 28, 30, 38, 41.9, 44, 51.6, 59.2]\n",
    "combined += [np.array(secs) + 60 * 32]\n",
    "\n",
    "# 33\n",
    "secs = [29.4, 36.5]\n",
    "combined += [np.array(secs) + 60 * 33]\n",
    "\n",
    "# 34 - skip\n",
    "# secs = []\n",
    "# combined += [np.array(secs) + 60 * 34]\n",
    "\n",
    "secs = []\n",
    "\n",
    "y1 = crop_signal(y, 34, 0, 35, 0)\n",
    "plot_signal(y1, sr, 0)\n",
    "\n",
    "combined = np.concatenate(combined)\n",
    "# for sec in combined:\n",
    "for sec in secs:\n",
    "    plt.vlines(sec, 0, 1)"
   ],
   "outputs": [
    {
     "output_type": "display_data",
     "data": {
      "text/plain": [
       "Canvas(toolbar=Toolbar(toolitems=[('Home', 'Reset original view', 'home', 'home'), ('Back', 'Back to previous …"
      ],
      "application/vnd.jupyter.widget-view+json": {
       "model_id": "83bb76fbd6fe4c7280ac6fa8200744bc",
       "version_major": 2,
       "version_minor": 0
      }
     },
     "metadata": {}
    }
   ],
   "metadata": {}
  },
  {
   "cell_type": "code",
   "execution_count": 52,
   "source": [
    "# np.savetxt('data/labels/20190819-Kutna Hora-L4-out-MVI_0040.txt', combined, fmt='%s')"
   ],
   "outputs": [],
   "metadata": {}
  },
  {
   "cell_type": "code",
   "execution_count": 11,
   "source": [
    "Video(r\"data/20190819-Kutna Hora-L4-out-MVI_0040.MP4\", width=600)"
   ],
   "outputs": [
    {
     "output_type": "execute_result",
     "data": {
      "text/plain": [
       "<IPython.core.display.Video object>"
      ],
      "text/html": [
       "<video src=\"data/20190819-Kutna Hora-L4-out-MVI_0040.MP4\" controls  width=\"600\" >\n",
       "      Your browser does not support the <code>video</code> element.\n",
       "    </video>"
      ]
     },
     "metadata": {},
     "execution_count": 11
    }
   ],
   "metadata": {}
  },
  {
   "cell_type": "code",
   "execution_count": 53,
   "source": [
    "csv = r'data/20210604_173354_20190819-Kutna Hora-L4-out-MVI_0040.MP4.csv'\n",
    "csv = np.loadtxt(csv, delimiter=';', skiprows=1, dtype=str)\n",
    "\n",
    "cars = {}\n",
    "for row in csv:\n",
    "    if row[9] != '':\n",
    "        cars[row[0]] = (row[8], row[9])"
   ],
   "outputs": [],
   "metadata": {}
  },
  {
   "cell_type": "markdown",
   "source": [
    "### Pytorch"
   ],
   "metadata": {}
  },
  {
   "cell_type": "code",
   "execution_count": 63,
   "source": [
    "def plot_mel(signal, sr, events=None, events_from=None, events_to=None, n_fft=4096, hop_length=int(4096 * 0.4)):\n",
    "    \n",
    "    plt.close('all')\n",
    "    plt.figure(figsize=(9, 5))\n",
    "    plt.title(f'Mel features from {int(events_from / 60):02.0f}:{events_from % 60:02.0f} to {int(events_to / 60):02.0f}:{events_to % 60:02.0f}')\n",
    "    \n",
    "    signal = crop_signal(signal, 0, events_from, 0, events_to)\n",
    "    \n",
    "    features = librosa.feature.melspectrogram(\n",
    "        signal,\n",
    "        sr=sr,\n",
    "        n_fft=n_fft,\n",
    "        hop_length=hop_length,\n",
    "        n_mels=64\n",
    "    )\n",
    "    \n",
    "    features = librosa.power_to_db(features, ref=np.max)\n",
    "\n",
    "    if events is not None:\n",
    "        events = events.copy()\n",
    "        events -= events_from\n",
    "        events = events[events < events_to]\n",
    "        plt.vlines(events, 0, 40000, linewidth=0.5, color='white')\n",
    "        \n",
    "    librosa.display.specshow(features, sr=sr, hop_length=hop_length , x_axis=\"time\", y_axis='mel', cmap='magma')\n",
    "    \n",
    "    plt.tight_layout()\n",
    "\n",
    "def plot_mfcc(signal, sr, events=None, events_from=None, events_to=None, n_mfcc=6, delta=None):\n",
    "    \n",
    "    plt.close('all')\n",
    "    plt.figure(figsize=(9, 5))\n",
    "    plt.title(f'MFCC features from {int(events_from / 60):02.0f}:{events_from % 60:02.0f} to {int(events_to / 60):02.0f}:{events_to % 60:02.0f}')\n",
    "    \n",
    "    signal = crop_signal(signal, 0, events_from, 0, events_to)\n",
    "    \n",
    "    features = librosa.feature.mfcc(s1, n_mfcc=n_mfcc, sr=sr)\n",
    "    \n",
    "    if delta is not None:\n",
    "        features = librosa.feature.delta(features, order=delta)\n",
    "\n",
    "    if events is not None:\n",
    "        events = events.copy()\n",
    "        events -= events_from\n",
    "        events = events[events < events_to]\n",
    "        plt.vlines(events, 0, 40000, linewidth=0.5, color='white')\n",
    "        \n",
    "    librosa.display.specshow(features, sr=sr, x_axis=\"time\", cmap='magma')\n",
    "    \n",
    "    plt.tight_layout()"
   ],
   "outputs": [],
   "metadata": {}
  },
  {
   "cell_type": "code",
   "execution_count": 64,
   "source": [
    "audio_path = 'data/audio/20190819-Kutna Hora-L4-out-MVI_0040.wav'\n",
    "signal, sr = torchaudio.load(audio_path)\n",
    "signal = signal.mean(0).numpy()\n",
    "\n",
    "labels_path = 'data/labels/20190819-Kutna Hora-L4-out-MVI_0040.txt'\n",
    "events = np.loadtxt(labels_path)"
   ],
   "outputs": [],
   "metadata": {}
  },
  {
   "cell_type": "code",
   "execution_count": 1,
   "source": [
    "minute = 9\n",
    "events_from = minute * 60\n",
    "events_to = (minute + 1) * 60 + 30"
   ],
   "outputs": [],
   "metadata": {}
  },
  {
   "cell_type": "code",
   "execution_count": 65,
   "source": [
    "plot_mel(signal, sr, events, events_from, events_to)"
   ],
   "outputs": [
    {
     "output_type": "display_data",
     "data": {
      "text/plain": [
       "Canvas(toolbar=Toolbar(toolitems=[('Home', 'Reset original view', 'home', 'home'), ('Back', 'Back to previous …"
      ],
      "application/vnd.jupyter.widget-view+json": {
       "model_id": "8f0b2a1c5152472ead295cf83820b7f2",
       "version_major": 2,
       "version_minor": 0
      }
     },
     "metadata": {}
    }
   ],
   "metadata": {
    "scrolled": false
   }
  },
  {
   "cell_type": "code",
   "execution_count": 66,
   "source": [
    "plot_mfcc(signal, sr, events, events_from, events_to, n_mfcc=8)"
   ],
   "outputs": [
    {
     "output_type": "display_data",
     "data": {
      "text/plain": [
       "Canvas(toolbar=Toolbar(toolitems=[('Home', 'Reset original view', 'home', 'home'), ('Back', 'Back to previous …"
      ],
      "application/vnd.jupyter.widget-view+json": {
       "model_id": "0446b1dd45c1430eba0fd112d9f118c7",
       "version_major": 2,
       "version_minor": 0
      }
     },
     "metadata": {}
    }
   ],
   "metadata": {}
  },
  {
   "cell_type": "code",
   "execution_count": 67,
   "source": [
    "plot_mfcc(signal, sr, events, events_from, events_to, n_mfcc=8, delta=1)"
   ],
   "outputs": [
    {
     "output_type": "display_data",
     "data": {
      "text/plain": [
       "Canvas(toolbar=Toolbar(toolitems=[('Home', 'Reset original view', 'home', 'home'), ('Back', 'Back to previous …"
      ],
      "application/vnd.jupyter.widget-view+json": {
       "model_id": "bfd45d8f1b2f45bd9c319c732d81f0ae",
       "version_major": 2,
       "version_minor": 0
      }
     },
     "metadata": {}
    }
   ],
   "metadata": {}
  },
  {
   "cell_type": "code",
   "execution_count": 72,
   "source": [
    "plot_mfcc(signal, sr, events, events_from, events_to, n_mfcc=8, delta=2)"
   ],
   "outputs": [
    {
     "output_type": "display_data",
     "data": {
      "text/plain": [
       "Canvas(toolbar=Toolbar(toolitems=[('Home', 'Reset original view', 'home', 'home'), ('Back', 'Back to previous …"
      ],
      "application/vnd.jupyter.widget-view+json": {
       "model_id": "3ea53cb4fa8b4da188cf17eae7b2f319",
       "version_major": 2,
       "version_minor": 0
      }
     },
     "metadata": {}
    }
   ],
   "metadata": {}
  },
  {
   "cell_type": "code",
   "execution_count": null,
   "source": [],
   "outputs": [],
   "metadata": {}
  }
 ],
 "metadata": {
  "interpreter": {
   "hash": "5ef34d6291182462b057641bceaab9fe62f5f38d78f00b8ef6911b9a17c8c979"
  },
  "kernelspec": {
   "name": "python3",
   "display_name": "Python 3.9.2 64-bit ('dev': conda)"
  },
  "language_info": {
   "codemirror_mode": {
    "name": "ipython",
    "version": 3
   },
   "file_extension": ".py",
   "mimetype": "text/x-python",
   "name": "python",
   "nbconvert_exporter": "python",
   "pygments_lexer": "ipython3",
   "version": "3.9.2"
  }
 },
 "nbformat": 4,
 "nbformat_minor": 2
}
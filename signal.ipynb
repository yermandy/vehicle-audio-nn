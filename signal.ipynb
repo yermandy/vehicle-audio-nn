{
 "metadata": {
  "language_info": {
   "codemirror_mode": {
    "name": "ipython",
    "version": 3
   },
   "file_extension": ".py",
   "mimetype": "text/x-python",
   "name": "python",
   "nbconvert_exporter": "python",
   "pygments_lexer": "ipython3",
   "version": "3.9.2"
  },
  "orig_nbformat": 4,
  "kernelspec": {
   "name": "python3",
   "display_name": "Python 3.9.2 64-bit ('dev': conda)"
  },
  "interpreter": {
   "hash": "5ef34d6291182462b057641bceaab9fe62f5f38d78f00b8ef6911b9a17c8c979"
  }
 },
 "nbformat": 4,
 "nbformat_minor": 2,
 "cells": [
  {
   "cell_type": "code",
   "execution_count": null,
   "metadata": {},
   "outputs": [],
   "source": [
    "import numpy as np\n",
    "import librosa\n",
    "import librosa.display\n",
    "import matplotlib.pyplot as plt\n",
    "import IPython.display"
   ]
  },
  {
   "cell_type": "code",
   "execution_count": null,
   "metadata": {},
   "outputs": [],
   "source": [
    "def plot_spectrogram(y, sr):\n",
    "    hop_length = int(4096 * 0.4)\n",
    "    plt.figure(figsize=(15, 8))\n",
    "    signal = librosa.stft(y, n_fft=4096, hop_length=hop_length, window='hamming')\n",
    "    signal = librosa.amplitude_to_db(np.abs(signal) ** 2)\n",
    "    librosa.display.specshow(signal, sr=sr, hop_length=hop_length , x_axis=\"time\", y_axis='log', cmap='magma')\n",
    "    # plt.colorbar(format=\"%+2.f\")\n",
    "\n",
    "def running_mean(x, n):\n",
    "    if n % 2 == 0:\n",
    "        raise ValueError(\"Filter length is not odd\")\n",
    "\n",
    "    aver = np.convolve(x, np.ones((n,)) / n, mode='same')\n",
    "    n_half = int((n - 1) / 2)\n",
    "    corr_length = np.array(range(n_half + 1, n)) / n\n",
    "    aver[:n_half] = np.divide(aver[:n_half], corr_length)\n",
    "    aver[-n_half:] = np.divide(aver[-n_half:], corr_length[::-1])\n",
    "\n",
    "    return aver\n",
    "\n",
    "def filter_and_normalize(x, filts_len):\n",
    "    for filt_len in filts_len:\n",
    "        x = running_mean(x, filt_len)\n",
    "    \n",
    "    x -= np.min(x)\n",
    "    x = x / np.max(x)\n",
    "\n",
    "    return x\n",
    "\n",
    "def plot_signal(y, sr, f_min=0, f_max=int(1e8)):\n",
    "    signal = librosa.stft(y, n_fft=4096, hop_length=int(4096 * 0.4), window='hamming')\n",
    "    signal = np.abs(signal) ** 2\n",
    "    \n",
    "    signal = signal[f_min:f_max].sum(0)\n",
    "    signal = filter_and_normalize(signal, (11, 5))\n",
    "    \n",
    "    x = np.linspace(0, len(y), len(signal))\n",
    "    y3 = np.interp(range(len(y)), x, signal)\n",
    "    \n",
    "    fig, ax1 = plt.subplots(figsize=(15, 8))\n",
    "    ax2 = ax1.twinx()\n",
    "    ax1.plot(range(len(y3)), y, c='g', alpha=0.2)\n",
    "    ax2.plot(range(len(y3)), y3, c='black')\n",
    "    \n",
    "    ax1.set_ylabel('Amplitude')\n",
    "    ax1.set_xlabel('Time')\n"
   ]
  },
  {
   "cell_type": "code",
   "execution_count": null,
   "metadata": {},
   "outputs": [],
   "source": [
    "audio_path = 'output.mp3'\n",
    "\n",
    "y, sr = librosa.load(audio_path, sr=None)"
   ]
  },
  {
   "cell_type": "code",
   "execution_count": null,
   "metadata": {},
   "outputs": [],
   "source": [
    "FROM_MINUTE = 0\n",
    "FROM_SECOND = 0\n",
    "\n",
    "TO_MINUTE = 1\n",
    "TO_SECOND = 0\n",
    "\n",
    "convert = lambda m, s: m * 60 + s\n",
    "\n",
    "FROM_TIME = convert(FROM_MINUTE, FROM_SECOND)\n",
    "TILL_TIME = convert(TO_MINUTE, TO_SECOND)\n",
    "\n",
    "FROM_SAMPLE = FROM_TIME * sr\n",
    "TILL_SAMPLE = TILL_TIME * sr\n",
    "\n",
    "y1 = y[FROM_SAMPLE: TILL_SAMPLE]"
   ]
  },
  {
   "cell_type": "code",
   "execution_count": null,
   "metadata": {},
   "outputs": [],
   "source": [
    "plot_spectrogram(y1, sr)"
   ]
  },
  {
   "cell_type": "code",
   "execution_count": null,
   "metadata": {},
   "outputs": [],
   "source": [
    "plot_signal(y1, sr, 550)"
   ]
  },
  {
   "cell_type": "code",
   "execution_count": null,
   "metadata": {},
   "outputs": [],
   "source": [
    "plot_signal(y1, sr, 0)"
   ]
  },
  {
   "cell_type": "code",
   "execution_count": null,
   "metadata": {},
   "outputs": [],
   "source": []
  }
 ]
}
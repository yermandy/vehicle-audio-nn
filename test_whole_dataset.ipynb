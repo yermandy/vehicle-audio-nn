{
 "cells": [
  {
   "cell_type": "code",
   "execution_count": 1,
   "id": "795d29f3",
   "metadata": {},
   "outputs": [],
   "source": [
    "%load_ext autoreload\n",
    "%autoreload 2"
   ]
  },
  {
   "cell_type": "code",
   "execution_count": 2,
   "id": "b58d1459",
   "metadata": {},
   "outputs": [],
   "source": [
    "from model.classification import *\n",
    "from src import *\n",
    "import matplotlib.pyplot as plt\n",
    "from tqdm.notebook import tqdm\n",
    "\n",
    "device = torch.device(f'cuda:1' if torch.cuda.is_available() else 'cpu')"
   ]
  },
  {
   "cell_type": "code",
   "execution_count": 3,
   "id": "531b068c",
   "metadata": {},
   "outputs": [],
   "source": [
    "files = [\n",
    "    '20190819-Kutna Hora-L1-out-MVI_0007',\n",
    "    '20190819-Kutna Hora-L3-in-MVI_0005',\n",
    "    '20190819-Kutna Hora-L3-out-MVI_0008',\n",
    "    '20190819-Kutna Hora-L4-in-MVI_0013',\n",
    "    '20190819-Kutna Hora-L6-out-MVI_0017',\n",
    "    '20190819-Kutna Hora-L7-out-MVI_0032',\n",
    "    '20190819-Kutna Hora-L8-in-MVI_0045',\n",
    "    '20190819-Kutna Hora-L9-in-MVI_0043',\n",
    "    '20190819-Kutna Hora-L10-out-SDV_1888',\n",
    "    '20190819-Kutna Hora-L13-in-MVI_0006',\n",
    "    '20190819-Kutna Hora-L13-out-MVI_0018',\n",
    "    '20190819-Kutna Hora-L14-out-MVI_0005',\n",
    "    '20190819-Kutna Hora-L15-out-MVI_0012',\n",
    "    '20190819-Kutna Hora-L18-in-MVI_0030',\n",
    "    '20190819-Ricany-L2-in-MVI_0006',\n",
    "    '20190819-Ricany-L2-out-MVI_0005',\n",
    "    '20190819-Ricany-L3-in-MVI_0006',\n",
    "    '20190819-Ricany-L6-in-MVI_0008',\n",
    "    '20190819-Ricany-L6-out-MVI_0011',\n",
    "    '20190819-Ricany-L7-in-MVI_0008',\n",
    "    '20190819-Ricany-L7-out-MVI_0013',\n",
    "    '20190819-Ricany-L8-in-MVI_0009',\n",
    "    '20190819-Ricany-L8-out-MVI_0013',\n",
    "    '20190819-Ricany-L9-in-MVI_0008',\n",
    "    '20190819-Ricany-L9-out-MVI_0011'\n",
    "]"
   ]
  },
  {
   "cell_type": "code",
   "execution_count": 4,
   "id": "d08abaa7",
   "metadata": {},
   "outputs": [
    {
     "data": {
      "application/vnd.jupyter.widget-view+json": {
       "model_id": "565e4014d88542429ad5934f3cda2301",
       "version_major": 2,
       "version_minor": 0
      },
      "text/plain": [
       "video loading:   0%|          | 0/25 [00:00<?, ?it/s]"
      ]
     },
     "metadata": {},
     "output_type": "display_data"
    }
   ],
   "source": [
    "datapool = DataPool(files, window_length=6, split_ratio=0.75, tqdm=tqdm)"
   ]
  },
  {
   "cell_type": "code",
   "execution_count": 5,
   "id": "86626c1c",
   "metadata": {},
   "outputs": [],
   "source": [
    "uuid = 1636031305\n",
    "# suffix = 'diff'\n",
    "# suffix = 'mae'\n",
    "suffix = 'interval'\n",
    "model, params = load_model(uuid, suffix)\n",
    "transform = create_transformation(params)"
   ]
  },
  {
   "cell_type": "code",
   "execution_count": 6,
   "id": "42e27c9b",
   "metadata": {},
   "outputs": [],
   "source": [
    "def test(is_trn=True):\n",
    "    outputs = []\n",
    "\n",
    "    for video in tqdm(datapool):\n",
    "        n_events = video.get_events_count(is_trn)\n",
    "        from_time, till_time = video.get_from_till_time(is_trn)\n",
    "\n",
    "        predictions = validate(video.signal, model, transform, params, from_time=from_time, till_time=till_time, classification=True)\n",
    "\n",
    "        n_predicted = predictions.sum()\n",
    "        rvce = np.abs(n_predicted - n_events) / n_events\n",
    "        error = n_events - n_predicted\n",
    "        outputs.append([f'{rvce:.3f}', error, n_events, f'{video.file} [{from_time:.0f}, {till_time:.0f}]'])\n",
    "\n",
    "    outputs = np.array(outputs)\n",
    "    idx = np.argsort(outputs[:, 0].astype(float))\n",
    "    outputs = outputs[idx]\n",
    "\n",
    "    rvce = outputs[:, 0].astype(float).mean()\n",
    "\n",
    "    print('rvce', rvce)\n",
    "    \n",
    "    return outputs\n",
    "\n",
    "def print_outputs(outputs):\n",
    "    print(' rvce | error | n_events | file')\n",
    "    print('– ' * 42)\n",
    "    for row in outputs:\n",
    "        row[0]\n",
    "        print(f'{row[0]} | {row[1]:>5} | {row[2]:>8} | {row[3]}')"
   ]
  },
  {
   "cell_type": "code",
   "execution_count": 7,
   "id": "c5421cb7",
   "metadata": {},
   "outputs": [
    {
     "data": {
      "application/vnd.jupyter.widget-view+json": {
       "model_id": "34d08659c69a4c4e80534db06e3389ce",
       "version_major": 2,
       "version_minor": 0
      },
      "text/plain": [
       "  0%|          | 0/25 [00:00<?, ?it/s]"
      ]
     },
     "metadata": {},
     "output_type": "display_data"
    },
    {
     "name": "stdout",
     "output_type": "stream",
     "text": [
      "rvce 0.0038\n"
     ]
    },
    {
     "data": {
      "application/vnd.jupyter.widget-view+json": {
       "model_id": "1f9152ed7a5d433a9a055908b7ee3da5",
       "version_major": 2,
       "version_minor": 0
      },
      "text/plain": [
       "  0%|          | 0/25 [00:00<?, ?it/s]"
      ]
     },
     "metadata": {},
     "output_type": "display_data"
    },
    {
     "name": "stdout",
     "output_type": "stream",
     "text": [
      "rvce 0.08276\n"
     ]
    }
   ],
   "source": [
    "trn_outputs = test(is_trn=True)\n",
    "val_outputs = test(is_trn=False)"
   ]
  },
  {
   "cell_type": "code",
   "execution_count": 8,
   "id": "952e4451",
   "metadata": {},
   "outputs": [
    {
     "name": "stdout",
     "output_type": "stream",
     "text": [
      " rvce | error | n_events | file\n",
      "– – – – – – – – – – – – – – – – – – – – – – – – – – – – – – – – – – – – – – – – – – \n",
      "0.000 |     0 |      240 | 20190819-Kutna Hora-L1-out-MVI_0007 [0, 1554]\n",
      "0.000 |     0 |      393 | 20190819-Ricany-L7-in-MVI_0008 [0, 1560]\n",
      "0.000 |     0 |      605 | 20190819-Ricany-L6-out-MVI_0011 [0, 1566]\n",
      "0.000 |     0 |      222 | 20190819-Kutna Hora-L14-out-MVI_0005 [0, 1554]\n",
      "0.000 |     0 |       13 | 20190819-Kutna Hora-L13-out-MVI_0018 [0, 1680]\n",
      "0.000 |     0 |        6 | 20190819-Kutna Hora-L13-in-MVI_0006 [0, 1620]\n",
      "0.000 |     0 |      192 | 20190819-Kutna Hora-L10-out-SDV_1888 [0, 2820]\n",
      "0.000 |     0 |        8 | 20190819-Kutna Hora-L15-out-MVI_0012 [0, 1548]\n",
      "0.000 |     0 |      169 | 20190819-Kutna Hora-L8-in-MVI_0045 [0, 1446]\n",
      "0.000 |     0 |      101 | 20190819-Kutna Hora-L9-in-MVI_0043 [0, 1554]\n",
      "0.000 |     0 |      131 | 20190819-Kutna Hora-L4-in-MVI_0013 [0, 1542]\n",
      "0.000 |     0 |       47 | 20190819-Ricany-L9-out-MVI_0011 [0, 1554]\n",
      "0.000 |     0 |       37 | 20190819-Kutna Hora-L7-out-MVI_0032 [0, 1560]\n",
      "0.000 |     0 |       14 | 20190819-Kutna Hora-L6-out-MVI_0017 [0, 1488]\n",
      "0.001 |    -1 |      823 | 20190819-Ricany-L6-in-MVI_0008 [0, 1758]\n",
      "0.003 |    -2 |      701 | 20190819-Kutna Hora-L18-in-MVI_0030 [0, 1482]\n",
      "0.003 |    -1 |      349 | 20190819-Ricany-L3-in-MVI_0006 [0, 1542]\n",
      "0.004 |     1 |      284 | 20190819-Ricany-L8-in-MVI_0009 [0, 1518]\n",
      "0.005 |    -1 |      215 | 20190819-Kutna Hora-L3-in-MVI_0005 [0, 1518]\n",
      "0.006 |    -1 |      173 | 20190819-Kutna Hora-L3-out-MVI_0008 [0, 1560]\n",
      "0.010 |     5 |      488 | 20190819-Ricany-L2-out-MVI_0005 [0, 1500]\n",
      "0.011 |    -3 |      284 | 20190819-Ricany-L8-out-MVI_0013 [0, 1530]\n",
      "0.014 |    -6 |      435 | 20190819-Ricany-L2-in-MVI_0006 [0, 1548]\n",
      "0.018 |    -4 |      222 | 20190819-Ricany-L7-out-MVI_0013 [0, 1548]\n",
      "0.020 |    -1 |       49 | 20190819-Ricany-L9-in-MVI_0008 [0, 1536]\n"
     ]
    }
   ],
   "source": [
    "print_outputs(trn_outputs)"
   ]
  },
  {
   "cell_type": "code",
   "execution_count": 9,
   "id": "053bb41b",
   "metadata": {},
   "outputs": [
    {
     "data": {
      "text/plain": [
       "2.4"
      ]
     },
     "execution_count": 9,
     "metadata": {},
     "output_type": "execute_result"
    }
   ],
   "source": [
    "val_outputs[:, 1].astype(int).mean()"
   ]
  },
  {
   "cell_type": "code",
   "execution_count": 10,
   "id": "18ea005a",
   "metadata": {},
   "outputs": [
    {
     "name": "stdout",
     "output_type": "stream",
     "text": [
      " rvce | error | n_events | file\n",
      "– – – – – – – – – – – – – – – – – – – – – – – – – – – – – – – – – – – – – – – – – – \n",
      "0.000 |     0 |        2 | 20190819-Kutna Hora-L15-out-MVI_0012 [1548, 2052]\n",
      "0.000 |     0 |       15 | 20190819-Ricany-L9-in-MVI_0008 [1536, 2064]\n",
      "0.000 |     0 |        1 | 20190819-Kutna Hora-L13-out-MVI_0018 [1680, 2046]\n",
      "0.000 |     0 |        2 | 20190819-Kutna Hora-L13-in-MVI_0006 [1620, 2040]\n",
      "0.013 |    -1 |       77 | 20190819-Kutna Hora-L3-in-MVI_0005 [1518, 2058]\n",
      "0.014 |     1 |       72 | 20190819-Kutna Hora-L10-out-SDV_1888 [2820, 3750]\n",
      "0.019 |     3 |      158 | 20190819-Ricany-L2-out-MVI_0005 [1500, 2064]\n",
      "0.024 |    -1 |       42 | 20190819-Kutna Hora-L14-out-MVI_0005 [1554, 2064]\n",
      "0.027 |     3 |      111 | 20190819-Ricany-L2-in-MVI_0006 [1548, 2064]\n",
      "0.033 |     5 |      151 | 20190819-Ricany-L7-in-MVI_0008 [1560, 2064]\n",
      "0.038 |     1 |       26 | 20190819-Kutna Hora-L9-in-MVI_0043 [1554, 2064]\n",
      "0.051 |    -8 |      158 | 20190819-Ricany-L6-out-MVI_0011 [1566, 2052]\n",
      "0.056 |     6 |      108 | 20190819-Ricany-L6-in-MVI_0008 [1758, 2058]\n",
      "0.074 |     8 |      108 | 20190819-Ricany-L8-in-MVI_0009 [1518, 2046]\n",
      "0.091 |     1 |       11 | 20190819-Kutna Hora-L7-out-MVI_0032 [1560, 2058]\n",
      "0.100 |    -4 |       40 | 20190819-Kutna Hora-L4-in-MVI_0013 [1542, 2052]\n",
      "0.106 |     5 |       47 | 20190819-Kutna Hora-L8-in-MVI_0045 [1446, 1920]\n",
      "0.133 |   -10 |       75 | 20190819-Ricany-L8-out-MVI_0013 [1530, 2058]\n",
      "0.155 |    18 |      116 | 20190819-Ricany-L3-in-MVI_0006 [1542, 2064]\n",
      "0.157 |   -13 |       83 | 20190819-Ricany-L7-out-MVI_0013 [1548, 2064]\n",
      "0.167 |     2 |       12 | 20190819-Ricany-L9-out-MVI_0011 [1554, 2058]\n",
      "0.174 |    42 |      241 | 20190819-Kutna Hora-L18-in-MVI_0030 [1482, 2064]\n",
      "0.190 |    20 |      105 | 20190819-Kutna Hora-L1-out-MVI_0007 [1554, 2064]\n",
      "0.200 |     1 |        5 | 20190819-Kutna Hora-L6-out-MVI_0017 [1488, 2046]\n",
      "0.247 |   -19 |       77 | 20190819-Kutna Hora-L3-out-MVI_0008 [1560, 2064]\n"
     ]
    }
   ],
   "source": [
    "print_outputs(val_outputs)"
   ]
  }
 ],
 "metadata": {
  "kernelspec": {
   "display_name": "Python 3 (ipykernel)",
   "language": "python",
   "name": "python3"
  },
  "language_info": {
   "codemirror_mode": {
    "name": "ipython",
    "version": 3
   },
   "file_extension": ".py",
   "mimetype": "text/x-python",
   "name": "python",
   "nbconvert_exporter": "python",
   "pygments_lexer": "ipython3",
   "version": "3.9.0"
  }
 },
 "nbformat": 4,
 "nbformat_minor": 5
}

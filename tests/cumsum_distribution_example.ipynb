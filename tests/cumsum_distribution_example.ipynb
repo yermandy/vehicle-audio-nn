{
 "cells": [
  {
   "cell_type": "code",
   "execution_count": 69,
   "metadata": {},
   "outputs": [
    {
     "name": "stdout",
     "output_type": "stream",
     "text": [
      "[[0.23528 0.21019 0.23041 0.30028 0.24964 0.23167]\n",
      " [0.1876  0.26209 0.36836 0.21131 0.46652 0.18971]\n",
      " [0.24352 0.27203 0.02715 0.04802 0.01191 0.29865]\n",
      " [0.3336  0.25569 0.37408 0.4404  0.27193 0.27997]]\n"
     ]
    }
   ],
   "source": [
    "import numpy as np\n",
    "from scipy.special import logsumexp\n",
    "\n",
    "np.random.seed(0)\n",
    "\n",
    "max_num_events = 3\n",
    "num_windows = 6\n",
    "\n",
    "Px = np.random.rand( max_num_events+1, num_windows )\n",
    "Px = Px / Px.sum(axis=0)\n",
    "\n",
    "print(Px)\n",
    "\n"
   ]
  },
  {
   "cell_type": "code",
   "execution_count": 85,
   "metadata": {},
   "outputs": [
    {
     "name": "stdout",
     "output_type": "stream",
     "text": [
      "[[0.23528 0.21019 0.23041 0.30028 0.24964 0.23167]\n",
      " [0.1876  0.26209 0.36836 0.21131 0.46652 0.18971]\n",
      " [0.24352 0.27203 0.02715 0.04802 0.01191 0.29865]\n",
      " [0.3336  0.25569 0.37408 0.4404  0.27193 0.27997]]\n",
      "[[0.23528 0.11479 0.05931 0.03761 0.03137 0.02402]\n",
      " [0.1876  0.14313 0.09482 0.02646 0.05862 0.01967]\n",
      " [0.24352 0.14856 0.00699 0.00601 0.0015  0.03096]\n",
      " [0.3336  0.13964 0.0963  0.05515 0.03417 0.02902]\n",
      " [0.      0.11134 0.12007 0.08818 0.02404 0.05424]\n",
      " [0.      0.14453 0.12463 0.0065  0.00546 0.00139]\n",
      " [0.      0.198   0.11714 0.08955 0.05011 0.03162]\n",
      " [0.      0.      0.0934  0.11166 0.08011 0.02225]\n",
      " [0.      0.      0.12125 0.11589 0.00591 0.00506]\n",
      " [0.      0.      0.16609 0.10893 0.08136 0.04637]\n",
      " [0.      0.      0.      0.08685 0.10144 0.07413]\n",
      " [0.      0.      0.      0.11275 0.10529 0.00546]\n",
      " [0.      0.      0.      0.15445 0.09897 0.07528]\n",
      " [0.      0.      0.      0.      0.07891 0.09387]\n",
      " [0.      0.      0.      0.      0.10243 0.09743]\n",
      " [0.      0.      0.      0.      0.14032 0.09158]\n",
      " [0.      0.      0.      0.      0.      0.07302]\n",
      " [0.      0.      0.      0.      0.      0.09479]\n",
      " [0.      0.      0.      0.      0.      0.12985]]\n",
      "[ 3  5  8 11 12 14]\n",
      "[ 1  3  5  8 10 13]\n"
     ]
    }
   ],
   "source": [
    "def cum_sum_distr( Px ):\n",
    "    \n",
    "    max_sum_events = Px.shape[0]-1\n",
    "    num_windows = Px.shape[1]\n",
    "\n",
    "\n",
    "    nC = max_num_events*num_windows + 1\n",
    "\n",
    "#    Pc = np.zeros( [nC,num_windows] )\n",
    "\n",
    "    minus_inf = np.NINF\n",
    "    log_Pc = np.empty( [nC,num_windows])\n",
    "    log_Pc[:] = minus_inf\n",
    "    \n",
    "    log_Px = np.log(Px)\n",
    "\n",
    "\n",
    "    for i in range( max_num_events+1 ):\n",
    "#        Pc[i,0] = Px[i,0]\n",
    "        log_Pc[i,0] = np.log(Px[i,0])\n",
    "\n",
    "    for j in range(1,num_windows):\n",
    "        for c in range( nC ):\n",
    "            for x in range(min(max_num_events,c)+1 ):\n",
    "                c_prev = c-x\n",
    "\n",
    "                tmp = []\n",
    "\n",
    "#                if Pc[c_prev,j-1]>0 and Px[x,j]>0:\n",
    "#                    Pc[c,j] = Pc[c,j] + Pc[c_prev,j-1]*Px[x,j]\n",
    "#                    tmp.append( np.log(Pc[c_prev,j-1])+np.log(Px[x,j]))\n",
    "\n",
    "                if log_Pc[c_prev,j-1] > minus_inf and log_Px[x,j]>minus_inf:\n",
    "                    tmp.append( log_Pc[c_prev,j-1]+log_Px[x,j] )\n",
    "                    \n",
    "                    \n",
    "                if len(tmp) > 0:\n",
    "                    log_Pc[c,j] = logsumexp( np.array(tmp))\n",
    "\n",
    "    Pc = np.exp( log_Pc)\n",
    "    Pc = Pc / Pc.sum(axis=0)\n",
    "                    \n",
    "    return Pc\n",
    "        \n",
    "np.set_printoptions(precision=5,suppress=True)\n",
    "\n",
    "Pc = cum_sum_distr( Px )\n",
    "\n",
    "\n",
    "print(Px)\n",
    "print(Pc)\n",
    "\n",
    "print( np.cumsum(np.argmax(Px,axis=0)))\n",
    "print( np.argmin(np.abs(np.cumsum(Pc,axis=0 ) -0.5 ),axis=0))\n",
    "\n"
   ]
  }
 ],
 "metadata": {
  "kernelspec": {
   "display_name": "multido",
   "language": "python",
   "name": "multido"
  },
  "language_info": {
   "codemirror_mode": {
    "name": "ipython",
    "version": 3
   },
   "file_extension": ".py",
   "mimetype": "text/x-python",
   "name": "python",
   "nbconvert_exporter": "python",
   "pygments_lexer": "ipython3",
   "version": "3.9.5"
  }
 },
 "nbformat": 4,
 "nbformat_minor": 4
}

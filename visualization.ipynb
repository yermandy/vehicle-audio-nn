{
 "cells": [
  {
   "cell_type": "code",
   "execution_count": 1,
   "id": "9044a608",
   "metadata": {},
   "outputs": [
    {
     "name": "stdout",
     "output_type": "stream",
     "text": [
      "No module named 'gurobipy'\n"
     ]
    }
   ],
   "source": [
    "%load_ext autoreload\n",
    "%autoreload 2\n",
    "\n",
    "from src import *\n",
    "\n",
    "m = lambda s: s * 60\n",
    "h = lambda s: s * 3600"
   ]
  },
  {
   "cell_type": "code",
   "execution_count": 2,
   "id": "9936b577",
   "metadata": {},
   "outputs": [
    {
     "data": {
      "application/vnd.jupyter.widget-view+json": {
       "model_id": "55efb83086504c309c194325d8b4b6f5",
       "version_major": 2,
       "version_minor": 0
      },
      "text/plain": [
       "  0%|          | 0/8027 [00:00<?, ?it/s]"
      ]
     },
     "metadata": {},
     "output_type": "display_data"
    }
   ],
   "source": [
    "file = ['08-OUT-ALL', 1]\n",
    "file = ['09-IN-ALL', 1]\n",
    "file = ['11-IN-ALL', 1]\n",
    "# file = '07_RX100'\n",
    "uuid = '042_large_dataset_1000/0'\n",
    "# uuid = '000_test_2/0'\n",
    "model_name = 'rvce'\n",
    "\n",
    "model, config = load_model_locally(uuid, model_name=model_name, device='cuda:0')\n",
    "video = Video(file, config)\n",
    "\n",
    "from_time, till_time = video.get_from_till_time(Part.WHOLE)\n",
    "# from_time, till_time = 0, m(10)\n",
    "\n",
    "# predictions, probabilities = {'n_counts': None}, {'n_counts': None}\n",
    "predictions, probabilities = validate_video(video, model, from_time=from_time, till_time=till_time, return_probs=True, tqdm=tqdm)\n",
    "labels = get_labels(video, from_time, till_time)"
   ]
  },
  {
   "cell_type": "code",
   "execution_count": null,
   "id": "2e262fbf",
   "metadata": {},
   "outputs": [],
   "source": [
    "show(\n",
    "    config,\n",
    "    signal=video.signal,\n",
    "    best_detection_frame=None, \n",
    "    predictions=predictions['n_counts'],\n",
    "    probabilities=probabilities['n_counts'],\n",
    "    events_start_time=video.events_start_time,\n",
    "    events_end_time=video.events_end_time,\n",
    "    events=video.events,\n",
    "    views=video.views,\n",
    "    from_time=from_time,\n",
    "    till_time=till_time,\n",
    "    # save='plots/visualization.png',\n",
    "    # plot_true_features=True,\n",
    "    # width_multiplier=1\n",
    ")\n",
    "set_plt_png()\n",
    "show_video(file)"
   ]
  },
  {
   "cell_type": "code",
   "execution_count": null,
   "id": "e55fdfdc",
   "metadata": {},
   "outputs": [],
   "source": [
    "plot_statistics(labels['n_counts'], predictions['n_counts'])"
   ]
  },
  {
   "cell_type": "code",
   "execution_count": null,
   "id": "c884c689",
   "metadata": {},
   "outputs": [],
   "source": [
    "dataset_name = '009_eyedea_august'\n",
    "\n",
    "dataset_path = f'config/dataset/{dataset_name}.yaml'\n",
    "uuid = '036_aligned_resized_128_audio_image_augmentation_bs_256/0'\n",
    "\n",
    "with open(dataset_path, 'r') as stream:\n",
    "    files = yaml.safe_load(stream)\n",
    "\n",
    "for i, file in enumerate(files):\n",
    "    config = load_config_locally(uuid)\n",
    "    video = Video(file, config)\n",
    "    from_time, till_time = video.get_from_till_time(Part.WHOLE)\n",
    "\n",
    "    pieces = math.ceil(till_time / 20)\n",
    "    for piece in range(1, pieces + 1):\n",
    "        till_time = m(piece * 20)\n",
    "    \n",
    "        show(\n",
    "            config,\n",
    "            signal=video.signal,\n",
    "            best_detection_frame=None, \n",
    "            predictions=None,\n",
    "            probabilities=None,\n",
    "            events_start_time=video.events_start_time,\n",
    "            events_end_time=video.events_end_time,\n",
    "            events=video.events,\n",
    "            views=video.views,\n",
    "            from_time=from_time,\n",
    "            till_time=till_time,\n",
    "            # save=False,\n",
    "            save=f'plots/dataset_visualization_{dataset_name}/{video.file}_{piece}.jpeg',\n",
    "            # plot_true_features=True\n",
    "        )\n",
    "\n",
    "        from_time = till_time"
   ]
  },
  {
   "cell_type": "code",
   "execution_count": null,
   "id": "167b3930",
   "metadata": {},
   "outputs": [],
   "source": []
  }
 ],
 "metadata": {
  "kernelspec": {
   "display_name": "Python 3.9.0 ('dev')",
   "language": "python",
   "name": "python3"
  },
  "language_info": {
   "codemirror_mode": {
    "name": "ipython",
    "version": 3
   },
   "file_extension": ".py",
   "mimetype": "text/x-python",
   "name": "python",
   "nbconvert_exporter": "python",
   "pygments_lexer": "ipython3",
   "version": "3.9.0"
  },
  "vscode": {
   "interpreter": {
    "hash": "5c5367881cd1cf07ff91f385af2760a91324c2d338b276ec1210beedc2863863"
   }
  }
 },
 "nbformat": 4,
 "nbformat_minor": 5
}

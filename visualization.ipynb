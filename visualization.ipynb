{
 "cells": [
  {
   "cell_type": "code",
   "execution_count": null,
   "id": "9044a608",
   "metadata": {},
   "outputs": [],
   "source": [
    "%load_ext autoreload\n",
    "%autoreload 2"
   ]
  },
  {
   "cell_type": "code",
   "execution_count": null,
   "id": "d43b7a1b",
   "metadata": {},
   "outputs": [],
   "source": [
    "from src import *"
   ]
  },
  {
   "cell_type": "code",
   "execution_count": null,
   "id": "9936b577",
   "metadata": {},
   "outputs": [],
   "source": [
    "# file = '20190819-Kutna Hora-L1-out-MVI_0007'\n",
    "file = '04_Komoranska_A41'\n",
    "file = '02_Cementarska_A41'\n",
    "file = '10_iphone'\n",
    "file = '34_PrazskaDobrichovice_Mobius'\n",
    "\n",
    "uuid = '010_cvut_dataset/0'\n",
    "\n",
    "# rvce | mae | last\n",
    "model_name = 'rvce'\n",
    "from_time, till_time = 0 * 60, 5 * 60\n",
    "\n",
    "model, config = load_model_locally(uuid, model_name=model_name)\n",
    "video = Video(file, config)\n",
    "# predictions, probabilities = {'n_counts': None}, {'n_counts': None}\n",
    "predictions, probabilities = validate_video(video, model, from_time=from_time, till_time=till_time, return_probs=True)"
   ]
  },
  {
   "cell_type": "code",
   "execution_count": null,
   "id": "2b92c323",
   "metadata": {
    "scrolled": false
   },
   "outputs": [],
   "source": [
    "show(\n",
    "    config,\n",
    "    signal=video.signal,\n",
    "    best_detection_frame=None, \n",
    "    predictions=predictions['n_counts'],\n",
    "    probabilities=probabilities['n_counts'],\n",
    "    events_start_time=video.events_start_time,\n",
    "    events_end_time=video.events_end_time,\n",
    "    events=video.events,\n",
    "    views=video.views,\n",
    "    from_time=from_time,\n",
    "    till_time=till_time,\n",
    "    save=False,\n",
    "    # plot_true_features=True\n",
    ")\n",
    "show_video(file)"
   ]
  },
  {
   "cell_type": "markdown",
   "id": "ff36c01d",
   "metadata": {},
   "source": [
    "### Show more videos"
   ]
  },
  {
   "cell_type": "code",
   "execution_count": null,
   "id": "c884c689",
   "metadata": {},
   "outputs": [],
   "source": [
    "dataset = 'config/dataset/30.03.2022_cvut_clean.yaml'\n",
    "\n",
    "uuid = '010_cvut_dataset/0'\n",
    "model_name = 'rvce'\n",
    "from_time, till_time = 0 * 60, 20 * 60\n",
    "\n",
    "with open(dataset, 'r') as stream:\n",
    "    files = yaml.safe_load(stream)\n",
    "\n",
    "skip = True\n",
    "for i, file in enumerate(files):\n",
    "    if file == '23_KeZlatnikum_Mobius':\n",
    "        skip = False\n",
    "    if skip: continue\n",
    "    print(file)\n",
    "    config = load_config_locally(uuid)\n",
    "    video = Video(file, config)\n",
    "    \n",
    "    show(\n",
    "        config,\n",
    "        signal=video.signal,\n",
    "        best_detection_frame=None, \n",
    "        predictions=None,\n",
    "        probabilities=None,\n",
    "        events_start_time=video.events_start_time,\n",
    "        events_end_time=video.events_end_time,\n",
    "        events=video.events,\n",
    "        views=video.views,\n",
    "        from_time=from_time,\n",
    "        till_time=till_time,\n",
    "        # save=False,\n",
    "        save=f'plots/dataset_vis_30.03.2022_cvut/{file}.png',\n",
    "        # plot_true_features=True\n",
    "    )\n",
    "\n",
    "    # if i == 2:\n",
    "    #     break\n"
   ]
  },
  {
   "cell_type": "code",
   "execution_count": null,
   "id": "d9fab083",
   "metadata": {},
   "outputs": [],
   "source": [
    "files"
   ]
  },
  {
   "cell_type": "code",
   "execution_count": null,
   "id": "0dde8835",
   "metadata": {},
   "outputs": [],
   "source": []
  }
 ],
 "metadata": {
  "kernelspec": {
   "display_name": "Python 3 (ipykernel)",
   "language": "python",
   "name": "python3"
  },
  "language_info": {
   "codemirror_mode": {
    "name": "ipython",
    "version": 3
   },
   "file_extension": ".py",
   "mimetype": "text/x-python",
   "name": "python",
   "nbconvert_exporter": "python",
   "pygments_lexer": "ipython3",
   "version": "3.9.0"
  }
 },
 "nbformat": 4,
 "nbformat_minor": 5
}

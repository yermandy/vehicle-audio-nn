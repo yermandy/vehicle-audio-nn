{
 "cells": [
  {
   "cell_type": "code",
   "execution_count": null,
   "id": "9044a608",
   "metadata": {},
   "outputs": [],
   "source": [
    "%load_ext autoreload\n",
    "%autoreload 2"
   ]
  },
  {
   "cell_type": "code",
   "execution_count": null,
   "id": "d43b7a1b",
   "metadata": {},
   "outputs": [],
   "source": [
    "from src import *\n",
    "from model.classification import *\n",
    "\n",
    "from tqdm.notebook import tqdm\n",
    "from easydict import EasyDict\n",
    "from IPython.display import HTML\n",
    "import matplotlib as mpl\n",
    "import matplotlib.pyplot as plt\n",
    "\n",
    "mpl.rcParams['agg.path.chunksize'] = 10000\n",
    "\n",
    "def show_video(file):\n",
    "    return HTML(f\"\"\"\n",
    "        <video width=\"{1920 * 0.3}\" height=\"{1080 * 0.3}\" controls>\n",
    "            <source src=\"data/video/{file}.MP4\" type=\"video/mp4\">\n",
    "        </video>\n",
    "    \"\"\")\n",
    "\n",
    "params = EasyDict()\n",
    "params.n_fft = 1024\n",
    "params.n_mels = 64\n",
    "params.hop_length = 128\n",
    "params.sr = 44100\n",
    "predictions = None"
   ]
  },
  {
   "cell_type": "code",
   "execution_count": null,
   "id": "9936b577",
   "metadata": {},
   "outputs": [],
   "source": [
    "# file = '20190819-Kutna Hora-L4-out-MVI_0040'\n",
    "file = '20190819-Kutna Hora-L3-out-MVI_0008'\n",
    "\n",
    "signal = load_audio(f'data/audio/{file}.MP4.wav')\n",
    "csv = load_csv(f'{file}.MP4')\n",
    "events = load_events_from_csv(csv)\n",
    "directions = load_directions_from_csv(csv)\n",
    "views = load_views_from_csv(csv)\n",
    "\n",
    "try:\n",
    "    manual_events = load_events(f'data/labels/{file}.MP4.txt')\n",
    "except:\n",
    "    manual_events = None\n",
    "\n",
    "events_start_time, events_end_time = load_event_time_from_csv(csv)"
   ]
  },
  {
   "cell_type": "code",
   "execution_count": null,
   "id": "af466528",
   "metadata": {},
   "outputs": [],
   "source": [
    "uuid = 1636031305\n",
    "suffix = 'interval'\n",
    "# from_time, till_time = 0, 60 * 10\n",
    "from_time, till_time = 1560, 2064\n",
    "\n",
    "\n",
    "model, params = load_model(uuid, suffix=suffix)\n",
    "transform = create_transformation(params)\n",
    "predictions, probabilities = validate(signal, model, transform, params, from_time=from_time, till_time=till_time, return_probs=True)"
   ]
  },
  {
   "cell_type": "code",
   "execution_count": null,
   "id": "24f08d81",
   "metadata": {
    "scrolled": false
   },
   "outputs": [],
   "source": [
    "show(\n",
    "    params,\n",
    "    signal=signal,\n",
    "    events=events, \n",
    "    predictions=predictions,\n",
    "    probabilities=probabilities,\n",
    "    events_start_time=events_start_time,\n",
    "    events_end_time=events_end_time,\n",
    "    manual_events=manual_events,\n",
    "    views=views,\n",
    "    from_time=from_time,\n",
    "    till_time=till_time,\n",
    "    save=False\n",
    ")\n",
    "\n",
    "show_video(file)"
   ]
  },
  {
   "cell_type": "code",
   "execution_count": null,
   "id": "9ce3b5eb",
   "metadata": {},
   "outputs": [],
   "source": [
    "show_video('20190819-Kutna Hora-L10-in-MVI_0029')"
   ]
  },
  {
   "cell_type": "markdown",
   "id": "8de5c2bc",
   "metadata": {},
   "source": [
    "### Visualize all videos"
   ]
  },
  {
   "cell_type": "code",
   "execution_count": null,
   "id": "839da1fb",
   "metadata": {
    "scrolled": true
   },
   "outputs": [],
   "source": [
    "files = [\n",
    "    '20190819-Kutna Hora-L1-out-MVI_0007',\n",
    "    '20190819-Kutna Hora-L3-in-MVI_0005',\n",
    "    '20190819-Kutna Hora-L3-out-MVI_0008',\n",
    "    '20190819-Kutna Hora-L4-in-MVI_0013',\n",
    "    '20190819-Kutna Hora-L5-in-MVI_0003',\n",
    "    '20190819-Kutna Hora-L6-out-MVI_0017',\n",
    "    '20190819-Kutna Hora-L7-out-MVI_0032',\n",
    "    '20190819-Kutna Hora-L8-in-MVI_0045',\n",
    "    '20190819-Kutna Hora-L9-in-MVI_0043',\n",
    "    '20190819-Kutna Hora-L10-out-SDV_1888',\n",
    "    '20190819-Kutna Hora-L13-in-MVI_0006',\n",
    "    '20190819-Kutna Hora-L13-out-MVI_0018',\n",
    "    '20190819-Kutna Hora-L14-out-MVI_0005',\n",
    "    '20190819-Kutna Hora-L15-out-MVI_0012',\n",
    "    '20190819-Kutna Hora-L16-out-MVI_0003',\n",
    "    '20190819-Kutna Hora-L18-in-MVI_0030',\n",
    "    '20190819-Ricany-L2-in-MVI_0006',\n",
    "    '20190819-Ricany-L2-out-MVI_0005',\n",
    "    '20190819-Ricany-L3-in-MVI_0006',\n",
    "    '20190819-Ricany-L6-in-MVI_0008',\n",
    "    '20190819-Ricany-L6-out-MVI_0011',\n",
    "    '20190819-Ricany-L7-in-MVI_0008',\n",
    "    '20190819-Ricany-L7-out-MVI_0013',\n",
    "    '20190819-Ricany-L8-in-MVI_0009',\n",
    "    '20190819-Ricany-L8-out-MVI_0013',\n",
    "    '20190819-Ricany-L9-in-MVI_0008',\n",
    "    '20190819-Ricany-L9-out-MVI_0011'\n",
    "]\n",
    "\n",
    "window_length = 6\n",
    "split_ratio = 0.75\n",
    "\n",
    "datapool = DataPool(files, window_length, split_ratio, tqdm=tqdm)"
   ]
  },
  {
   "cell_type": "code",
   "execution_count": null,
   "id": "a56e524a",
   "metadata": {
    "scrolled": false
   },
   "outputs": [],
   "source": [
    "uuid = 1635061611\n",
    "suffix = 'interval'\n",
    "\n",
    "# for file in tqdm(files):\n",
    "for video in tqdm(datapool):\n",
    "    file = video.file\n",
    "    signal = video.signal\n",
    "    csv = load_csv(f'{file}.MP4')\n",
    "    events = load_events_from_csv(csv)\n",
    "    directions = load_directions_from_csv(csv)\n",
    "    views = load_views_from_csv(csv)\n",
    "    \n",
    "    print(file)\n",
    "\n",
    "    try:\n",
    "        manual_events = load_events(f'data/labels/{file}.MP4.txt')\n",
    "    except:\n",
    "        manual_events = None\n",
    "\n",
    "    events_start_time, events_end_time = load_event_time_from_csv(csv)\n",
    "    \n",
    "    model, params = load_model(uuid, suffix=suffix)\n",
    "    transform = create_transformation(params)\n",
    "    \n",
    "    is_trn = True\n",
    "    from_time, till_time = video.get_from_till_time(is_trn)\n",
    "    from_time = int(from_time)\n",
    "    till_time = int(till_time)\n",
    "    predictions, probabilities = validate(signal, model, transform, params, from_time=from_time, till_time=till_time, return_probs=True)\n",
    "    \n",
    "    show(\n",
    "        params,\n",
    "        signal=signal,\n",
    "        events=events, \n",
    "        predictions=predictions,\n",
    "        probabilities=probabilities,\n",
    "        events_start_time=events_start_time,\n",
    "        events_end_time=events_end_time,\n",
    "        manual_events=manual_events,\n",
    "        views=views,\n",
    "        from_time=from_time,\n",
    "        till_time=till_time,\n",
    "        save=False\n",
    "    )\n",
    "    \n",
    "    is_trn = False\n",
    "    from_time, till_time = video.get_from_till_time(is_trn)\n",
    "    from_time = int(from_time)\n",
    "    till_time = int(till_time)\n",
    "    predictions, probabilities = validate(signal, model, transform, params, from_time=from_time, till_time=till_time, return_probs=True)\n",
    "    plt.close('all')\n",
    "        \n",
    "    show(\n",
    "        params,\n",
    "        signal=signal,\n",
    "        events=events, \n",
    "        predictions=predictions,\n",
    "        probabilities=probabilities,\n",
    "        events_start_time=events_start_time,\n",
    "        events_end_time=events_end_time,\n",
    "        manual_events=manual_events,\n",
    "        views=views,\n",
    "        from_time=from_time,\n",
    "        till_time=till_time,\n",
    "        save=False\n",
    "    )\n",
    "    \n",
    "    plt.close('all')"
   ]
  },
  {
   "cell_type": "code",
   "execution_count": null,
   "id": "c15ffeca",
   "metadata": {},
   "outputs": [],
   "source": []
  },
  {
   "cell_type": "code",
   "execution_count": null,
   "id": "8f96c188",
   "metadata": {},
   "outputs": [],
   "source": []
  }
 ],
 "metadata": {
  "kernelspec": {
   "display_name": "Python 3 (ipykernel)",
   "language": "python",
   "name": "python3"
  },
  "language_info": {
   "codemirror_mode": {
    "name": "ipython",
    "version": 3
   },
   "file_extension": ".py",
   "mimetype": "text/x-python",
   "name": "python",
   "nbconvert_exporter": "python",
   "pygments_lexer": "ipython3",
   "version": "3.9.0"
  }
 },
 "nbformat": 4,
 "nbformat_minor": 5
}

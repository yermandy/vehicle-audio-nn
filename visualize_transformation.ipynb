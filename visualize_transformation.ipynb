{
 "cells": [
  {
   "cell_type": "code",
   "execution_count": 1,
   "id": "7903b010",
   "metadata": {},
   "outputs": [],
   "source": [
    "%load_ext autoreload\n",
    "%autoreload 2"
   ]
  },
  {
   "cell_type": "code",
   "execution_count": 2,
   "id": "d1561af4",
   "metadata": {},
   "outputs": [],
   "source": [
    "from model.classification import *\n",
    "from src import *\n",
    "import matplotlib.pyplot as plt\n",
    "from tqdm.notebook import tqdm\n",
    "from ipywidgets import interact, widgets"
   ]
  },
  {
   "cell_type": "code",
   "execution_count": 3,
   "id": "bc6a7e71",
   "metadata": {},
   "outputs": [],
   "source": [
    "model, config = load_model_locally('one_location', 'rvce')"
   ]
  },
  {
   "cell_type": "code",
   "execution_count": 4,
   "id": "54231f43",
   "metadata": {},
   "outputs": [
    {
     "data": {
      "application/vnd.jupyter.widget-view+json": {
       "model_id": "7f81658b21e145d4bc72551a7b24b27e",
       "version_major": 2,
       "version_minor": 0
      },
      "text/plain": [
       "Video loading:   0%|          | 0/3 [00:00<?, ?it/s]"
      ]
     },
     "metadata": {},
     "output_type": "display_data"
    }
   ],
   "source": [
    "files = [\n",
    "    '12_RX100',\n",
    "    '12_iphone',\n",
    "    '12_Mobius'\n",
    "]\n",
    "\n",
    "datapool = DataPool(files, config.window_length, config.split_ratio, tqdm=tqdm)"
   ]
  },
  {
   "cell_type": "code",
   "execution_count": 82,
   "id": "58f72d3b",
   "metadata": {},
   "outputs": [],
   "source": [
    "config_1 = EasyDict(config)\n",
    "config_2 = EasyDict(config)"
   ]
  },
  {
   "cell_type": "code",
   "execution_count": 83,
   "id": "3da3e910",
   "metadata": {},
   "outputs": [],
   "source": [
    "config_1.sr = config_2.sr = 22050\n",
    "# config_2.normalization = Normalization.ROW_WISE\n",
    "# config_2.top_db = 20\n",
    "config_1.sr, config_2.sr\n",
    "config_2.top_db = -1"
   ]
  },
  {
   "cell_type": "code",
   "execution_count": 84,
   "id": "1d187347",
   "metadata": {},
   "outputs": [
    {
     "data": {
      "application/vnd.jupyter.widget-view+json": {
       "model_id": "a127fe5735874cb5811b83f2a9d4364a",
       "version_major": 2,
       "version_minor": 0
      },
      "text/plain": [
       "interactive(children=(IntSlider(value=260, description='from_time', max=1200), Output()), _dom_classes=('widge…"
      ]
     },
     "metadata": {},
     "output_type": "display_data"
    }
   ],
   "source": [
    "transform_1 = create_transformation(config_1)\n",
    "transform_2 = create_transformation(config_2)\n",
    "\n",
    "file_number = 1\n",
    "signal = datapool[files[file_number]].signal.clone()\n",
    "\n",
    "def f(from_time=0):\n",
    "    till_time = from_time + 10\n",
    "    \n",
    "    from_sample = from_time * config.sr\n",
    "    till_sample = till_time * config.sr\n",
    "    \n",
    "    signal_1 = signal[from_sample: till_sample].clone()\n",
    "    features_1 = transform_1(signal_1).squeeze()\n",
    "\n",
    "    signal_2 = signal[from_sample: till_sample].clone()\n",
    "    features_2 = transform_2(signal_2).squeeze()\n",
    "        \n",
    "    vmin = min(features_1.min(), features_2.min())\n",
    "    vmax = max(features_1.max(), features_2.max())\n",
    "    \n",
    "    fig, axes = plt.subplots(ncols=2, figsize=(15,5))\n",
    "    ax1, ax2 = axes.flatten()\n",
    "        \n",
    "    im1 = ax1.pcolormesh(features_1, vmin=vmin, vmax=vmax)\n",
    "    im2 = ax2.pcolormesh(features_2, vmin=vmin, vmax=vmax)\n",
    "\n",
    "    plt.tight_layout()\n",
    "    fig.colorbar(im2, ax=[ax1, ax2])\n",
    "    plt.show()\n",
    "\n",
    "from_time_slider = widgets.IntSlider(min=0, max=60*20, step=1, value=260)\n",
    "interact(f, from_time=from_time_slider);"
   ]
  },
  {
   "cell_type": "code",
   "execution_count": 81,
   "id": "4f583c1a",
   "metadata": {},
   "outputs": [
    {
     "ename": "NameError",
     "evalue": "name 'transform' is not defined",
     "output_type": "error",
     "traceback": [
      "\u001b[0;31m---------------------------------------------------------------------------\u001b[0m",
      "\u001b[0;31mNameError\u001b[0m                                 Traceback (most recent call last)",
      "\u001b[0;32m/tmp/ipykernel_2580695/464091801.py\u001b[0m in \u001b[0;36m<module>\u001b[0;34m\u001b[0m\n\u001b[1;32m      8\u001b[0m \u001b[0;34m\u001b[0m\u001b[0m\n\u001b[1;32m      9\u001b[0m \u001b[0msignal_1\u001b[0m \u001b[0;34m=\u001b[0m \u001b[0msignal\u001b[0m\u001b[0;34m[\u001b[0m\u001b[0mfrom_sample\u001b[0m\u001b[0;34m:\u001b[0m \u001b[0mtill_sample\u001b[0m\u001b[0;34m]\u001b[0m\u001b[0;34m.\u001b[0m\u001b[0mclone\u001b[0m\u001b[0;34m(\u001b[0m\u001b[0;34m)\u001b[0m\u001b[0;34m\u001b[0m\u001b[0;34m\u001b[0m\u001b[0m\n\u001b[0;32m---> 10\u001b[0;31m \u001b[0mfeatures_1\u001b[0m \u001b[0;34m=\u001b[0m \u001b[0mtransform\u001b[0m\u001b[0;34m(\u001b[0m\u001b[0msignal_1\u001b[0m\u001b[0;34m)\u001b[0m\u001b[0;34m.\u001b[0m\u001b[0msqueeze\u001b[0m\u001b[0;34m(\u001b[0m\u001b[0;34m)\u001b[0m\u001b[0;34m\u001b[0m\u001b[0;34m\u001b[0m\u001b[0m\n\u001b[0m\u001b[1;32m     11\u001b[0m \u001b[0;34m\u001b[0m\u001b[0m\n\u001b[1;32m     12\u001b[0m \u001b[0msignal_maes\u001b[0m \u001b[0;34m=\u001b[0m \u001b[0;34m[\u001b[0m\u001b[0;34m]\u001b[0m\u001b[0;34m\u001b[0m\u001b[0;34m\u001b[0m\u001b[0m\n",
      "\u001b[0;31mNameError\u001b[0m: name 'transform' is not defined"
     ]
    }
   ],
   "source": [
    "from_time = 280\n",
    "till_time = from_time + 6\n",
    "\n",
    "from_sample = from_time * config.sr\n",
    "till_sample = till_time * config.sr\n",
    "\n",
    "signal = datapool[files[file_number]].signal\n",
    "\n",
    "signal_1 = signal[from_sample: till_sample].clone()\n",
    "features_1 = transform(signal_1).squeeze()\n",
    "\n",
    "signal_maes = []\n",
    "feature_maes = []\n",
    "volumes = np.arange(1, 50, .2)\n",
    "\n",
    "for volume in volumes:\n",
    "    volume_transform = torchaudio.transforms.Vol(volume, 'db')\n",
    "\n",
    "    signal_2 = signal[from_sample: till_sample].clone()\n",
    "    signal_2 = volume_transform(signal_2)\n",
    "    features_2 = transform(signal_2).squeeze()\n",
    "    \n",
    "    signal_mae = (signal_1 - signal_2).abs().mean().item()\n",
    "    feature_mae = (features_1 - features_2).abs().mean().item()\n",
    "    \n",
    "\n",
    "    signal_maes.append(signal_mae)\n",
    "    feature_maes.append(feature_mae)\n",
    "\n",
    "fig, axes = plt.subplots(1, 2, figsize=(12,5))\n",
    "axes[0].set_xlabel('Volume')\n",
    "axes[0].set_ylabel('MAE signal')\n",
    "\n",
    "axes[1].set_xlabel('Volume')\n",
    "axes[1].set_ylabel('MAE features')\n",
    "axes[0].plot(volumes, signal_maes);\n",
    "axes[1].plot(volumes, feature_maes);"
   ]
  },
  {
   "cell_type": "code",
   "execution_count": null,
   "id": "fad46b02",
   "metadata": {},
   "outputs": [],
   "source": []
  }
 ],
 "metadata": {
  "kernelspec": {
   "display_name": "Python 3 (ipykernel)",
   "language": "python",
   "name": "python3"
  },
  "language_info": {
   "codemirror_mode": {
    "name": "ipython",
    "version": 3
   },
   "file_extension": ".py",
   "mimetype": "text/x-python",
   "name": "python",
   "nbconvert_exporter": "python",
   "pygments_lexer": "ipython3",
   "version": "3.9.0"
  }
 },
 "nbformat": 4,
 "nbformat_minor": 5
}
